{
 "cells": [
  {
   "cell_type": "code",
   "execution_count": 1,
   "id": "830be0bd-30a3-4abe-9b46-858b0b32df75",
   "metadata": {},
   "outputs": [
    {
     "name": "stdout",
     "output_type": "stream",
     "text": [
      "Hello World\n"
     ]
    }
   ],
   "source": [
    "print(\"Hello World\")"
   ]
  },
  {
   "cell_type": "code",
   "execution_count": 2,
   "id": "2b957985-ee7e-4f73-a7e5-9c4e3c6b0b0f",
   "metadata": {},
   "outputs": [
    {
     "name": "stdout",
     "output_type": "stream",
     "text": [
      "Hello Ram\n"
     ]
    }
   ],
   "source": [
    "name = 'Ram'\n",
    "print(\"Hello\" , name)"
   ]
  },
  {
   "cell_type": "code",
   "execution_count": 4,
   "id": "619efb99-8676-4d7f-a7ed-1262dcbda941",
   "metadata": {},
   "outputs": [
    {
     "name": "stdout",
     "output_type": "stream",
     "text": [
      "The age is 55\n",
      "My name is Ram\n"
     ]
    }
   ],
   "source": [
    "age = 30\n",
    "print(\"The age is\" , age + 25)\n",
    "print(\"My name is\" , name)"
   ]
  },
  {
   "cell_type": "markdown",
   "id": "9992fafd-357f-4125-ab60-c5d750f46408",
   "metadata": {},
   "source": [
    "**Concepts of Python**\n",
    "\n",
    "    * Variables and values\n",
    "    * Data types and Data Structures\n",
    "    * Operators\n",
    "    * Conditional programming\n",
    "    * Loops - for/while\n",
    "    * functions\n",
    "    * file handling\n",
    "    * exception handling"
   ]
  },
  {
   "cell_type": "code",
   "execution_count": 5,
   "id": "1deef4d8-381e-476d-b8ca-5b46cf095be8",
   "metadata": {},
   "outputs": [
    {
     "name": "stdout",
     "output_type": "stream",
     "text": [
      "Hi, my name is Ram\n"
     ]
    }
   ],
   "source": [
    "name = \"Ram\"\n",
    "print(\"Hi, my name is\" , name)"
   ]
  },
  {
   "cell_type": "code",
   "execution_count": 6,
   "id": "df9054c4-762a-44d5-bd90-72b3923bcab3",
   "metadata": {},
   "outputs": [
    {
     "name": "stdout",
     "output_type": "stream",
     "text": [
      "10\n",
      "12\n",
      "16\n"
     ]
    }
   ],
   "source": [
    "a,b,c = 10,12,16\n",
    "print(a)\n",
    "print(b)\n",
    "print(c)"
   ]
  },
  {
   "cell_type": "code",
   "execution_count": 7,
   "id": "402ee9d9-1166-49e2-8b87-dd4ba2dd112d",
   "metadata": {},
   "outputs": [
    {
     "name": "stdout",
     "output_type": "stream",
     "text": [
      "25\n",
      "25\n",
      "25\n"
     ]
    }
   ],
   "source": [
    "x = y = z = 25\n",
    "print(x)\n",
    "print(y)\n",
    "print(z)"
   ]
  },
  {
   "cell_type": "code",
   "execution_count": 11,
   "id": "6ce12982-21e5-41d7-bc54-da63dbe612d2",
   "metadata": {},
   "outputs": [
    {
     "name": "stdout",
     "output_type": "stream",
     "text": [
      "<class 'str'>\n",
      "Ram\n"
     ]
    }
   ],
   "source": [
    "name = \"Ram\"\n",
    "print(type(name))\n",
    "print(name)"
   ]
  },
  {
   "cell_type": "code",
   "execution_count": 9,
   "id": "5d19b6ff-58a9-4993-aa97-eb418d434d0a",
   "metadata": {},
   "outputs": [
    {
     "name": "stdout",
     "output_type": "stream",
     "text": [
      "25 <class 'int'>\n",
      "55.7 <class 'float'>\n"
     ]
    }
   ],
   "source": [
    "age = 25\n",
    "weight = 55.7\n",
    "\n",
    "print(age , type(age))\n",
    "print(weight , type(weight))"
   ]
  },
  {
   "cell_type": "code",
   "execution_count": 10,
   "id": "5b014db0-62ce-4659-a28d-10702ac63255",
   "metadata": {},
   "outputs": [
    {
     "name": "stdout",
     "output_type": "stream",
     "text": [
      "(3+4j) <class 'complex'>\n"
     ]
    }
   ],
   "source": [
    "complex_number = 3 + 4j\n",
    "print(complex_number , type(complex_number))"
   ]
  },
  {
   "cell_type": "code",
   "execution_count": 37,
   "id": "1bc98eb0-555f-4157-b045-d58ccf7b207e",
   "metadata": {},
   "outputs": [
    {
     "name": "stdout",
     "output_type": "stream",
     "text": [
      "tomato mushrooms\n"
     ]
    }
   ],
   "source": [
    "#String - characters defined within quotes\n",
    "#String operations\n",
    "#String is a sequential\n",
    "#Concatenation\n",
    "\n",
    "topping1 = \"tomato\"\n",
    "topping2 = \"mushrooms\"\n",
    "pizza_description = topping1 + \" \" +  topping2\n",
    "print(pizza_description)"
   ]
  },
  {
   "cell_type": "code",
   "execution_count": 17,
   "id": "74e7d652-45d8-48a5-8beb-9eb87aa704cc",
   "metadata": {},
   "outputs": [
    {
     "name": "stdout",
     "output_type": "stream",
     "text": [
      "Yum! Yum! Yum! \n"
     ]
    }
   ],
   "source": [
    "#repetition\n",
    "print(\"Yum! \" * 3)"
   ]
  },
  {
   "cell_type": "code",
   "execution_count": 21,
   "id": "2c7cc87e-56b4-4bd7-8c5f-bb8050562ab8",
   "metadata": {},
   "outputs": [
    {
     "name": "stdout",
     "output_type": "stream",
     "text": [
      "Margherita\n",
      "Margh\n"
     ]
    }
   ],
   "source": [
    "pizza = \"Margherita\"\n",
    "print(pizza)\n",
    "\n",
    "print(pizza[0:5])"
   ]
  },
  {
   "cell_type": "code",
   "execution_count": 22,
   "id": "b957dfe6-de8b-4333-aca2-55d7d6e444b4",
   "metadata": {},
   "outputs": [
    {
     "name": "stdout",
     "output_type": "stream",
     "text": [
      "10\n"
     ]
    }
   ],
   "source": [
    "print(len(pizza))"
   ]
  },
  {
   "cell_type": "code",
   "execution_count": 24,
   "id": "dbabf68a-a4ec-4155-be35-c65cdeb08a01",
   "metadata": {},
   "outputs": [
    {
     "name": "stdout",
     "output_type": "stream",
     "text": [
      "MARGHERITA\n",
      "margherita\n"
     ]
    }
   ],
   "source": [
    "print(pizza.upper())\n",
    "print(pizza.lower())"
   ]
  },
  {
   "cell_type": "code",
   "execution_count": 27,
   "id": "e06e17a9-d6f7-4247-b254-b2943d7cc664",
   "metadata": {},
   "outputs": [
    {
     "name": "stdout",
     "output_type": "stream",
     "text": [
      "True <class 'bool'>\n"
     ]
    }
   ],
   "source": [
    "#boolean - True or False\n",
    "is_hot = True\n",
    "print(is_hot, type(is_hot))"
   ]
  },
  {
   "cell_type": "code",
   "execution_count": 29,
   "id": "02be6e1a-2d4a-4f0c-8412-e64cfdbd79b9",
   "metadata": {},
   "outputs": [
    {
     "name": "stdout",
     "output_type": "stream",
     "text": [
      "None <class 'NoneType'>\n"
     ]
    }
   ],
   "source": [
    "no_pizza = None\n",
    "print(no_pizza , type(no_pizza))"
   ]
  },
  {
   "cell_type": "code",
   "execution_count": 32,
   "id": "cbde9086-0459-4a0f-b66b-62713b899f81",
   "metadata": {},
   "outputs": [
    {
     "name": "stdout",
     "output_type": "stream",
     "text": [
      "16\n"
     ]
    }
   ],
   "source": [
    "#data type conversion or typecasting\n",
    "\n",
    "slices = '8'\n",
    "print(int(slices) * 2)"
   ]
  },
  {
   "cell_type": "code",
   "execution_count": 34,
   "id": "a41d0240-e93b-4ea6-853b-ac194c1c549d",
   "metadata": {},
   "outputs": [
    {
     "name": "stdout",
     "output_type": "stream",
     "text": [
      "You have 8 slices left.\n"
     ]
    }
   ],
   "source": [
    "slices = 8\n",
    "\n",
    "print(\"You have \" + str(slices) + \" slices left.\")"
   ]
  },
  {
   "cell_type": "code",
   "execution_count": 35,
   "id": "d1873c59-6207-4858-b565-77d14d09144d",
   "metadata": {},
   "outputs": [
    {
     "name": "stdout",
     "output_type": "stream",
     "text": [
      "3\n"
     ]
    }
   ],
   "source": [
    "price = 3.99\n",
    "print(int(price))"
   ]
  },
  {
   "cell_type": "markdown",
   "id": "1dd26e3a-5c58-4447-a419-55a4b4e277f5",
   "metadata": {},
   "source": [
    "**List**\n",
    "\n",
    "    * Stores multiple values in a variable \n",
    "    * Stores sequential data \n",
    "    * It is mutable"
   ]
  },
  {
   "cell_type": "code",
   "execution_count": 39,
   "id": "350ad79b-40f6-4c8e-ab10-a187f00d9445",
   "metadata": {},
   "outputs": [
    {
     "name": "stdout",
     "output_type": "stream",
     "text": [
      "['Chennai', 'Hyderabaad', 'Mumbai', 'Delhi']\n"
     ]
    }
   ],
   "source": [
    "cities = [\"Chennai\" , \"Hyderabaad\" , \"Mumbai\" , \"Delhi\"]\n",
    "print(cities)"
   ]
  },
  {
   "cell_type": "code",
   "execution_count": 41,
   "id": "0f4c700e-a373-469a-ba4e-40fc6d4b54e8",
   "metadata": {},
   "outputs": [
    {
     "name": "stdout",
     "output_type": "stream",
     "text": [
      "Chennai\n",
      "Hyderabaad\n",
      "Mumbai\n",
      "Delhi\n"
     ]
    }
   ],
   "source": [
    "print(cities[0])\n",
    "print(cities[1])\n",
    "print(cities[2])\n",
    "print(cities[3])"
   ]
  },
  {
   "cell_type": "code",
   "execution_count": 42,
   "id": "e2984806-92cd-416f-b0f2-768b718383e5",
   "metadata": {},
   "outputs": [
    {
     "name": "stdout",
     "output_type": "stream",
     "text": [
      "['Chennai', 'Hyderabaad', 'Mumbai', 'Mohali']\n"
     ]
    }
   ],
   "source": [
    "cities[3] = \"Mohali\"\n",
    "print(cities)"
   ]
  },
  {
   "cell_type": "code",
   "execution_count": 43,
   "id": "a844b134-4d63-4e6e-b19a-dd3c9ff8106f",
   "metadata": {},
   "outputs": [
    {
     "name": "stdout",
     "output_type": "stream",
     "text": [
      "4\n"
     ]
    }
   ],
   "source": [
    "print(len(cities))"
   ]
  },
  {
   "cell_type": "code",
   "execution_count": 44,
   "id": "2bc99837-8818-4ce7-91a5-2bd9a339f638",
   "metadata": {},
   "outputs": [
    {
     "name": "stdout",
     "output_type": "stream",
     "text": [
      "['Chennai', 'Hyderabaad', 'Mumbai', 'Mohali', 'Chandigarh', 'Coimbatore', 'Vizag']\n"
     ]
    }
   ],
   "source": [
    "#Concatenation\n",
    "cities_new = [\"Chandigarh\" , \"Coimbatore\" , \"Vizag\"]\n",
    "updated_cities = cities + cities_new\n",
    "print(updated_cities)"
   ]
  },
  {
   "cell_type": "code",
   "execution_count": 48,
   "id": "ca5b8dfa-5017-4984-8d13-466d70ee52a2",
   "metadata": {},
   "outputs": [
    {
     "name": "stdout",
     "output_type": "stream",
     "text": [
      "['Hyderabaad', 'Mumbai', 'Mohali', 'Chandigarh']\n"
     ]
    }
   ],
   "source": [
    "#Slicing - list_variable[initial_index : initial_index + number of values]\n",
    "print(updated_cities[1:5])"
   ]
  },
  {
   "cell_type": "code",
   "execution_count": 49,
   "id": "caf44ef7-40fe-463a-b9f4-c324dd782a8d",
   "metadata": {},
   "outputs": [
    {
     "name": "stdout",
     "output_type": "stream",
     "text": [
      "['Chennai', 'Hyderabaad', 'Mumbai', 'Mohali', 'Chandigarh', 'Coimbatore', 'Vizag', 'Delhi']\n"
     ]
    }
   ],
   "source": [
    "#append a new entity\n",
    "updated_cities.append('Delhi')\n",
    "print(updated_cities)"
   ]
  },
  {
   "cell_type": "code",
   "execution_count": 50,
   "id": "7eef3646-1843-44fd-acdd-cd58b3a54f92",
   "metadata": {},
   "outputs": [
    {
     "name": "stdout",
     "output_type": "stream",
     "text": [
      "['Chennai', 'Hyderabaad', 'Mumbai', 'Dehradun', 'Mohali', 'Chandigarh', 'Coimbatore', 'Vizag', 'Delhi']\n"
     ]
    }
   ],
   "source": [
    "#insert a new entity at index 3\n",
    "updated_cities.insert(3,\"Dehradun\")\n",
    "print(updated_cities)"
   ]
  },
  {
   "cell_type": "code",
   "execution_count": 51,
   "id": "2171d0a4-1896-44b2-a69b-3676ab57673d",
   "metadata": {},
   "outputs": [
    {
     "name": "stdout",
     "output_type": "stream",
     "text": [
      "['Chennai', 'Hyderabaad', 'Mumbai', 'Dehradun', 'Mohali', 'Coimbatore', 'Vizag', 'Delhi']\n"
     ]
    }
   ],
   "source": [
    "#remove an item\n",
    "updated_cities.remove('Chandigarh')\n",
    "print(updated_cities)"
   ]
  },
  {
   "cell_type": "code",
   "execution_count": 55,
   "id": "c78a372d-af9b-404c-8899-2ca97bc54653",
   "metadata": {},
   "outputs": [
    {
     "name": "stdout",
     "output_type": "stream",
     "text": [
      "['Chennai', 'Hyderabaad', 'Mumbai', 'Dehradun', 'Mohali', 'Coimbatore', 'Vizag', 'Delhi', 'Mohali', 'Mohali']\n"
     ]
    }
   ],
   "source": [
    "#append a new entity\n",
    "updated_cities.append('Mohali')\n",
    "print(updated_cities)"
   ]
  },
  {
   "cell_type": "code",
   "execution_count": 56,
   "id": "059d9bfe-fa81-4556-ac93-4bdaebd88b37",
   "metadata": {},
   "outputs": [
    {
     "name": "stdout",
     "output_type": "stream",
     "text": [
      "4\n"
     ]
    }
   ],
   "source": [
    "#Capturing index\n",
    "print(updated_cities.index('Mohali'))"
   ]
  },
  {
   "cell_type": "code",
   "execution_count": 57,
   "id": "182655c0-b93d-4387-a899-46a9f9b836a5",
   "metadata": {},
   "outputs": [
    {
     "name": "stdout",
     "output_type": "stream",
     "text": [
      "['Chennai', 'Hyderabaad', 'Mumbai', 'Dehradun', 'Coimbatore', 'Vizag', 'Delhi', 'Mohali', 'Mohali']\n"
     ]
    }
   ],
   "source": [
    "#remove an item using pop - using index\n",
    "updated_cities.pop(4)\n",
    "print(updated_cities)"
   ]
  },
  {
   "cell_type": "code",
   "execution_count": 58,
   "id": "a749c66b-407b-4ae4-aa5e-37f209380db8",
   "metadata": {},
   "outputs": [
    {
     "name": "stdout",
     "output_type": "stream",
     "text": [
      "7\n"
     ]
    }
   ],
   "source": [
    "#Capturing index\n",
    "print(updated_cities.index('Mohali'))"
   ]
  },
  {
   "cell_type": "markdown",
   "id": "ff6f3a9e-2b09-4287-a9d9-a1076691a5fc",
   "metadata": {},
   "source": [
    "**Tuple**\n",
    "\n",
    "    * Stores multiple values in a variable \n",
    "    * Stores sequential data \n",
    "    * It is non-mutable"
   ]
  },
  {
   "cell_type": "code",
   "execution_count": 59,
   "id": "32ada4ce-0f90-48dc-b542-96a612774b50",
   "metadata": {},
   "outputs": [
    {
     "name": "stdout",
     "output_type": "stream",
     "text": [
      "('Raj', 'Jai', 'Ramesh', 'Shivam')\n"
     ]
    }
   ],
   "source": [
    "employees_1 = (\"Raj\" , \"Jai\" , \"Ramesh\" , \"Shivam\")\n",
    "print(employees_1)"
   ]
  },
  {
   "cell_type": "code",
   "execution_count": 62,
   "id": "cf1dabeb-f829-4d9b-99ed-ce3693892e1e",
   "metadata": {},
   "outputs": [
    {
     "name": "stdout",
     "output_type": "stream",
     "text": [
      "Raj\n",
      "Jai\n",
      "Ramesh\n",
      "Shivam\n"
     ]
    }
   ],
   "source": [
    "print(employees_1[0])\n",
    "print(employees_1[1])\n",
    "print(employees_1[2])\n",
    "print(employees_1[3])"
   ]
  },
  {
   "cell_type": "code",
   "execution_count": 63,
   "id": "48682154-bf5b-4bdb-997c-a625ae9c5eb6",
   "metadata": {},
   "outputs": [
    {
     "name": "stdout",
     "output_type": "stream",
     "text": [
      "('Raj', 'Jai', 'Ramesh', 'Shivam', 'Ragini', 'Sunil', 'Radha')\n"
     ]
    }
   ],
   "source": [
    "employees_2 = (\"Ragini\" , \"Sunil\" , \"Radha\")\n",
    "\n",
    "employees = employees_1 + employees_2\n",
    "print(employees)"
   ]
  },
  {
   "cell_type": "code",
   "execution_count": 65,
   "id": "03678853-1b5c-4663-b906-cc743c723ce8",
   "metadata": {},
   "outputs": [
    {
     "name": "stdout",
     "output_type": "stream",
     "text": [
      "('Ramesh', 'Shivam', 'Ragini', 'Sunil')\n"
     ]
    }
   ],
   "source": [
    "print(employees[2:6])"
   ]
  },
  {
   "cell_type": "code",
   "execution_count": 67,
   "id": "264364b3-86bc-4fb1-8a42-7208cbfa0f8a",
   "metadata": {},
   "outputs": [
    {
     "ename": "TypeError",
     "evalue": "'tuple' object does not support item assignment",
     "output_type": "error",
     "traceback": [
      "\u001b[1;31m---------------------------------------------------------------------------\u001b[0m",
      "\u001b[1;31mTypeError\u001b[0m                                 Traceback (most recent call last)",
      "Cell \u001b[1;32mIn[67], line 1\u001b[0m\n\u001b[1;32m----> 1\u001b[0m \u001b[43memployees\u001b[49m\u001b[43m[\u001b[49m\u001b[38;5;241;43m2\u001b[39;49m\u001b[43m]\u001b[49m \u001b[38;5;241m=\u001b[39m \u001b[38;5;124m\"\u001b[39m\u001b[38;5;124mRam\u001b[39m\u001b[38;5;124m\"\u001b[39m\n",
      "\u001b[1;31mTypeError\u001b[0m: 'tuple' object does not support item assignment"
     ]
    }
   ],
   "source": [
    "employees[2] = \"Ram\""
   ]
  },
  {
   "cell_type": "code",
   "execution_count": 68,
   "id": "48246992-439f-4cd5-a7a6-fe305253bc04",
   "metadata": {},
   "outputs": [
    {
     "ename": "AttributeError",
     "evalue": "'tuple' object has no attribute 'append'",
     "output_type": "error",
     "traceback": [
      "\u001b[1;31m---------------------------------------------------------------------------\u001b[0m",
      "\u001b[1;31mAttributeError\u001b[0m                            Traceback (most recent call last)",
      "Cell \u001b[1;32mIn[68], line 1\u001b[0m\n\u001b[1;32m----> 1\u001b[0m \u001b[43memployees\u001b[49m\u001b[38;5;241;43m.\u001b[39;49m\u001b[43mappend\u001b[49m(\u001b[38;5;124m\"\u001b[39m\u001b[38;5;124mBipul\u001b[39m\u001b[38;5;124m\"\u001b[39m)\n",
      "\u001b[1;31mAttributeError\u001b[0m: 'tuple' object has no attribute 'append'"
     ]
    }
   ],
   "source": [
    "employees.append(\"Bipul\")"
   ]
  },
  {
   "cell_type": "markdown",
   "id": "7196f483-0f5a-482d-93e4-a108bde005aa",
   "metadata": {},
   "source": [
    "**Dictionary**\n",
    "\n",
    "    * key value pair"
   ]
  },
  {
   "cell_type": "code",
   "execution_count": 69,
   "id": "2c01bf02-3d6f-4ced-8eae-39627888f18e",
   "metadata": {},
   "outputs": [
    {
     "name": "stdout",
     "output_type": "stream",
     "text": [
      "{'name': 'Pavan', 'age': 19, 'stream': 'electronics'}\n"
     ]
    }
   ],
   "source": [
    "student_details = {\"name\" : \"Pavan\",\n",
    "                   \"age\" : 19,\n",
    "                   \"stream\" : \"electronics\"}\n",
    "\n",
    "print(student_details)"
   ]
  },
  {
   "cell_type": "code",
   "execution_count": 72,
   "id": "3202e493-7abe-4e93-a273-4b6e4b41f91a",
   "metadata": {},
   "outputs": [
    {
     "name": "stdout",
     "output_type": "stream",
     "text": [
      "Pavan\n",
      "19\n",
      "electronics\n"
     ]
    }
   ],
   "source": [
    "print(student_details[\"name\"])\n",
    "print(student_details[\"age\"])\n",
    "print(student_details[\"stream\"])"
   ]
  },
  {
   "cell_type": "code",
   "execution_count": 74,
   "id": "4953349c-e184-4646-97a2-50e1732cadcd",
   "metadata": {},
   "outputs": [
    {
     "name": "stdout",
     "output_type": "stream",
     "text": [
      "dict_keys(['name', 'age', 'stream'])\n",
      "dict_values(['Pavan', 19, 'electronics'])\n"
     ]
    }
   ],
   "source": [
    "print(student_details.keys())\n",
    "print(student_details.values())"
   ]
  },
  {
   "cell_type": "code",
   "execution_count": 76,
   "id": "bd68a3a9-6ea1-410d-aa6c-d80985082734",
   "metadata": {},
   "outputs": [
    {
     "data": {
      "text/plain": [
       "'\\nnew_details = {\"city\" : \"Jaipur\"}\\nprint(student_details + new_details)\\n'"
      ]
     },
     "execution_count": 76,
     "metadata": {},
     "output_type": "execute_result"
    }
   ],
   "source": [
    "'''\n",
    "new_details = {\"city\" : \"Jaipur\"}\n",
    "print(student_details + new_details)\n",
    "'''"
   ]
  },
  {
   "cell_type": "code",
   "execution_count": 77,
   "id": "5158a24c-5560-4504-bec2-fa5118d97c9a",
   "metadata": {},
   "outputs": [
    {
     "name": "stdout",
     "output_type": "stream",
     "text": [
      "{'name': 'Pavan', 'age': 19, 'stream': 'electronics', 'city': 'Jaipur'}\n"
     ]
    }
   ],
   "source": [
    "student_details['city'] = \"Jaipur\"\n",
    "print(student_details)"
   ]
  },
  {
   "cell_type": "code",
   "execution_count": 80,
   "id": "31221082-d5f8-4f66-a307-ed4c11e6c10d",
   "metadata": {},
   "outputs": [
    {
     "data": {
      "text/plain": [
       "'electronics'"
      ]
     },
     "execution_count": 80,
     "metadata": {},
     "output_type": "execute_result"
    }
   ],
   "source": [
    "student_details.pop('stream')"
   ]
  },
  {
   "cell_type": "code",
   "execution_count": 81,
   "id": "c4342b49-83de-4ced-bac6-8b0584ddd870",
   "metadata": {},
   "outputs": [
    {
     "name": "stdout",
     "output_type": "stream",
     "text": [
      "{'name': 'Pavan', 'age': 19, 'city': 'Jaipur'}\n"
     ]
    }
   ],
   "source": [
    "print(student_details)"
   ]
  },
  {
   "cell_type": "code",
   "execution_count": 82,
   "id": "d9f75a37-f834-49f8-ac0b-dc73b1901744",
   "metadata": {},
   "outputs": [],
   "source": [
    "del(student_details['city'])"
   ]
  },
  {
   "cell_type": "code",
   "execution_count": 83,
   "id": "39d72afd-d8b8-43a6-85e3-d98d2659c2bf",
   "metadata": {},
   "outputs": [
    {
     "name": "stdout",
     "output_type": "stream",
     "text": [
      "{'name': 'Pavan', 'age': 19}\n"
     ]
    }
   ],
   "source": [
    "print(student_details)"
   ]
  },
  {
   "cell_type": "markdown",
   "id": "18977ff7-cefa-4350-b7d7-006cb6849456",
   "metadata": {},
   "source": [
    "**sets**\n",
    "\n",
    "    * non sequential data structure\n",
    "    * can not stores duplicate values\n",
    "    * mutable"
   ]
  },
  {
   "cell_type": "code",
   "execution_count": 86,
   "id": "de410bfe-ab7e-4a13-99e7-b4f67f6bb1da",
   "metadata": {},
   "outputs": [
    {
     "name": "stdout",
     "output_type": "stream",
     "text": [
      "{1, 2, 4, 7, 8, 9} <class 'set'>\n"
     ]
    }
   ],
   "source": [
    "set1 = {4,2,8,9,1,7,9,4}\n",
    "print(set1 , type(set1))"
   ]
  },
  {
   "cell_type": "code",
   "execution_count": 88,
   "id": "a59d2d7f-c3b9-4ad7-9e11-4870e1bdca81",
   "metadata": {},
   "outputs": [
    {
     "name": "stdout",
     "output_type": "stream",
     "text": [
      "1\n"
     ]
    }
   ],
   "source": [
    "print(list(set1)[0])"
   ]
  },
  {
   "cell_type": "code",
   "execution_count": 90,
   "id": "1506c6a7-1903-40f2-8754-fe38a7095e89",
   "metadata": {},
   "outputs": [
    {
     "name": "stdout",
     "output_type": "stream",
     "text": [
      "{1, 2, 3, 4, 7, 8, 9}\n"
     ]
    }
   ],
   "source": [
    "set1.add(3)\n",
    "print(set1)"
   ]
  },
  {
   "cell_type": "code",
   "execution_count": 91,
   "id": "d82122c8-a879-4768-ae15-9f30c986e571",
   "metadata": {},
   "outputs": [
    {
     "name": "stdout",
     "output_type": "stream",
     "text": [
      "{1, 2, 3, 4, 7, 8, 9}\n"
     ]
    }
   ],
   "source": [
    "set1.add(9)\n",
    "print(set1)"
   ]
  },
  {
   "cell_type": "markdown",
   "id": "c66979b5-2636-40a5-a101-7701cc9d11e5",
   "metadata": {},
   "source": [
    "**Operations & Operands**\n",
    "\n",
    "    * Arthmetic\n",
    "    * Assignment\n",
    "    * Comparasion\n",
    "    * Logical\n",
    "    * bitwise\n",
    "    * membership\n",
    "    "
   ]
  },
  {
   "cell_type": "markdown",
   "id": "06c26917-b6aa-4415-8c13-a7d2d828c453",
   "metadata": {},
   "source": [
    "**Arthemetic**"
   ]
  },
  {
   "cell_type": "code",
   "execution_count": 93,
   "id": "040b39fd-faf1-4fa1-9696-2661f355189f",
   "metadata": {},
   "outputs": [
    {
     "name": "stdout",
     "output_type": "stream",
     "text": [
      "22\n",
      "12\n",
      "85\n",
      "3.4\n",
      "1419857\n",
      "3\n",
      "2\n"
     ]
    }
   ],
   "source": [
    "x = 17\n",
    "y = 5\n",
    "\n",
    "print(x + y)\n",
    "print(x - y)\n",
    "print(x * y)\n",
    "print(x / y)\n",
    "print(x ** y)\n",
    "print(x // y)\n",
    "print(x % y)"
   ]
  },
  {
   "cell_type": "markdown",
   "id": "fc9d35ce-892f-4471-9db5-88adfcbdba1c",
   "metadata": {},
   "source": [
    "**Assignment**"
   ]
  },
  {
   "cell_type": "code",
   "execution_count": 94,
   "id": "a1b3831e-916b-4c06-89a9-16ab15c1c015",
   "metadata": {},
   "outputs": [],
   "source": [
    "x = 17"
   ]
  },
  {
   "cell_type": "code",
   "execution_count": 95,
   "id": "28abb9ca-c353-48df-be18-f94c2e35eaca",
   "metadata": {},
   "outputs": [
    {
     "name": "stdout",
     "output_type": "stream",
     "text": [
      "20\n"
     ]
    }
   ],
   "source": [
    "x += 3\n",
    "print(x)"
   ]
  },
  {
   "cell_type": "code",
   "execution_count": 96,
   "id": "2360da5a-06cc-4ec1-8b7b-ca46b39d1316",
   "metadata": {},
   "outputs": [
    {
     "name": "stdout",
     "output_type": "stream",
     "text": [
      "15\n"
     ]
    }
   ],
   "source": [
    "x -= 5\n",
    "print(x)"
   ]
  },
  {
   "cell_type": "code",
   "execution_count": 97,
   "id": "2aa3fe3a-05ab-4203-82d3-1e9185b3635d",
   "metadata": {},
   "outputs": [
    {
     "name": "stdout",
     "output_type": "stream",
     "text": [
      "30\n"
     ]
    }
   ],
   "source": [
    "x *= 2\n",
    "print(x)"
   ]
  },
  {
   "cell_type": "code",
   "execution_count": 98,
   "id": "fd87116f-0ca8-4663-ac59-2c00a6760096",
   "metadata": {},
   "outputs": [
    {
     "name": "stdout",
     "output_type": "stream",
     "text": [
      "10.0\n"
     ]
    }
   ],
   "source": [
    "x /= 3\n",
    "print(x)"
   ]
  },
  {
   "cell_type": "code",
   "execution_count": 99,
   "id": "0cc18265-3d72-4263-8a11-54a9db6b3877",
   "metadata": {},
   "outputs": [
    {
     "name": "stdout",
     "output_type": "stream",
     "text": [
      "100.0\n"
     ]
    }
   ],
   "source": [
    "x **= 2\n",
    "print(x)"
   ]
  },
  {
   "cell_type": "code",
   "execution_count": 100,
   "id": "e845365a-2e97-4b2a-a9ca-9a01efebcefc",
   "metadata": {},
   "outputs": [
    {
     "name": "stdout",
     "output_type": "stream",
     "text": [
      "33.0\n"
     ]
    }
   ],
   "source": [
    "x //= 3\n",
    "print(x)"
   ]
  },
  {
   "cell_type": "code",
   "execution_count": 102,
   "id": "6ad50971-e1cc-43cf-a056-56d8ffb929d8",
   "metadata": {},
   "outputs": [
    {
     "name": "stdout",
     "output_type": "stream",
     "text": [
      "1.0\n"
     ]
    }
   ],
   "source": [
    "x %= 4\n",
    "print(x)"
   ]
  },
  {
   "cell_type": "markdown",
   "id": "b4e305e2-de6b-44cf-a0ba-1a645ff53f2d",
   "metadata": {},
   "source": [
    "**Comparsion**"
   ]
  },
  {
   "cell_type": "code",
   "execution_count": 104,
   "id": "6704b574-745c-4402-9970-add09d48089d",
   "metadata": {},
   "outputs": [
    {
     "name": "stdout",
     "output_type": "stream",
     "text": [
      "True\n",
      "False\n",
      "True\n",
      "False\n",
      "False\n",
      "True\n"
     ]
    }
   ],
   "source": [
    "age = 21\n",
    "\n",
    "print(age > 18)\n",
    "print(age < 18)\n",
    "print(age >= 18)\n",
    "print(age <= 18)\n",
    "print(age == 18)\n",
    "print(age != 18)"
   ]
  },
  {
   "cell_type": "markdown",
   "id": "5ab25774-be49-44df-b8ac-e87f1111a90f",
   "metadata": {},
   "source": [
    "**Logical**"
   ]
  },
  {
   "cell_type": "code",
   "execution_count": 106,
   "id": "cd8a3792-5578-4fad-be65-48fc3a63d12b",
   "metadata": {},
   "outputs": [
    {
     "name": "stdout",
     "output_type": "stream",
     "text": [
      "True\n",
      "True\n"
     ]
    }
   ],
   "source": [
    "age = 20\n",
    "weight = 55.5\n",
    "\n",
    "print(age > 18)\n",
    "print(weight > 50)"
   ]
  },
  {
   "cell_type": "code",
   "execution_count": 108,
   "id": "08b455d7-2dbf-45ac-9bbd-e68f2c12fec2",
   "metadata": {},
   "outputs": [
    {
     "name": "stdout",
     "output_type": "stream",
     "text": [
      "True\n",
      "False\n",
      "False\n",
      "False\n"
     ]
    }
   ],
   "source": [
    "#and  => True only if all compared conditions are True\n",
    "\n",
    "print(age > 18  and weight > 50)           #True and True = True\n",
    "print(age > 18  and weight < 50)           #True and False = False\n",
    "print(age < 18  and weight > 50)           #False and True = False\n",
    "print(age < 18  and weight < 50)           #False and False = False"
   ]
  },
  {
   "cell_type": "code",
   "execution_count": 109,
   "id": "1c921275-ca06-457b-9123-0df4c130ec75",
   "metadata": {},
   "outputs": [
    {
     "name": "stdout",
     "output_type": "stream",
     "text": [
      "True\n",
      "True\n",
      "True\n",
      "False\n"
     ]
    }
   ],
   "source": [
    "#or => True if any comapred condition is True\n",
    "\n",
    "print(age > 18  and weight > 50)           #True or True = True\n",
    "print(age > 18  or weight < 50)           #True or False = True\n",
    "print(age < 18  or weight > 50)           #False or True = True\n",
    "print(age < 18 or weight < 50)           #False or False = False"
   ]
  },
  {
   "cell_type": "code",
   "execution_count": 111,
   "id": "d5b4a72b-2ba5-4aec-9c22-577c511c0675",
   "metadata": {},
   "outputs": [
    {
     "name": "stdout",
     "output_type": "stream",
     "text": [
      "False\n",
      "False\n",
      "False\n",
      "True\n"
     ]
    }
   ],
   "source": [
    "print(not(age > 18  and weight > 50))        #not(True or True) = False\n",
    "print(not(age > 18  or weight < 50))           #not(True or False) = False\n",
    "print(not(age < 18  or weight > 50))           #not(False or True) = False\n",
    "print(not(age < 18 or weight < 50))           #not(False or False) = True"
   ]
  },
  {
   "cell_type": "markdown",
   "id": "cce4a484-b8bd-490a-9589-b1bb22d8b65b",
   "metadata": {},
   "source": [
    "**bitwise**"
   ]
  },
  {
   "cell_type": "code",
   "execution_count": 116,
   "id": "b76674e8-82aa-4726-97db-325441f39e2a",
   "metadata": {},
   "outputs": [
    {
     "name": "stdout",
     "output_type": "stream",
     "text": [
      "5\n"
     ]
    }
   ],
   "source": [
    "print(5 & 7)"
   ]
  },
  {
   "cell_type": "code",
   "execution_count": 115,
   "id": "41b6326e-b8ce-410e-a13a-9cdc4d2a82d7",
   "metadata": {},
   "outputs": [
    {
     "name": "stdout",
     "output_type": "stream",
     "text": [
      "5\n"
     ]
    }
   ],
   "source": [
    "print(7 & 5)"
   ]
  },
  {
   "cell_type": "code",
   "execution_count": 117,
   "id": "7aadf2a0-9ed8-4ff0-b01b-fe08fb14dc19",
   "metadata": {},
   "outputs": [
    {
     "name": "stdout",
     "output_type": "stream",
     "text": [
      "7\n"
     ]
    }
   ],
   "source": [
    "print(7 | 5)"
   ]
  },
  {
   "cell_type": "markdown",
   "id": "72a8ee25-ee5a-4275-82ad-bc4f30bfc869",
   "metadata": {},
   "source": [
    "**Membership operator**"
   ]
  },
  {
   "cell_type": "code",
   "execution_count": 120,
   "id": "fd93b4e4-8a33-42fc-8ef6-5518abfd08d2",
   "metadata": {},
   "outputs": [
    {
     "name": "stdout",
     "output_type": "stream",
     "text": [
      "True\n",
      "False\n"
     ]
    }
   ],
   "source": [
    "name = \"Bipul Kumar Shahi\"\n",
    "print(\"Kumar\" in name)\n",
    "print(\"Amit\" in name)"
   ]
  },
  {
   "cell_type": "code",
   "execution_count": 121,
   "id": "722e9bf7-a211-482d-a75f-4ed9c4a04f04",
   "metadata": {},
   "outputs": [
    {
     "name": "stdout",
     "output_type": "stream",
     "text": [
      "False\n",
      "True\n"
     ]
    }
   ],
   "source": [
    "name = \"Bipul Kumar Shahi\"\n",
    "print(\"Kumar\" not in name)\n",
    "print(\"Amit\" not in name)"
   ]
  },
  {
   "cell_type": "code",
   "execution_count": 123,
   "id": "73e4ce04-29aa-4302-8683-c979456fb45f",
   "metadata": {},
   "outputs": [
    {
     "name": "stdout",
     "output_type": "stream",
     "text": [
      "['Chennai', 'Hyderabaad', 'Mumbai', 'Dehradun', 'Coimbatore', 'Vizag', 'Delhi', 'Mohali', 'Mohali']\n"
     ]
    }
   ],
   "source": [
    "print(updated_cities)"
   ]
  },
  {
   "cell_type": "code",
   "execution_count": 126,
   "id": "3476cff9-20d9-477d-803d-5a10bd2fce2a",
   "metadata": {},
   "outputs": [
    {
     "name": "stdout",
     "output_type": "stream",
     "text": [
      "True\n",
      "False\n"
     ]
    }
   ],
   "source": [
    "print(\"Mumbai\" in updated_cities)\n",
    "print(\"Kochi\" in updated_cities)"
   ]
  },
  {
   "cell_type": "markdown",
   "id": "20fe7001-c471-4509-94a9-5e31ac070141",
   "metadata": {},
   "source": [
    "**Conditional Programming**"
   ]
  },
  {
   "cell_type": "code",
   "execution_count": 130,
   "id": "5a94e5a3-5269-41c5-a796-34587b15d0b6",
   "metadata": {},
   "outputs": [
    {
     "name": "stdout",
     "output_type": "stream",
     "text": [
      "Hello World\n"
     ]
    }
   ],
   "source": [
    "if True:\n",
    "    print(\"Hello World\")"
   ]
  },
  {
   "cell_type": "code",
   "execution_count": 133,
   "id": "603b191f-40ac-4b57-bc8c-bae2b512cc01",
   "metadata": {},
   "outputs": [
    {
     "name": "stdout",
     "output_type": "stream",
     "text": [
      "You are eligible to vote\n"
     ]
    }
   ],
   "source": [
    "age = 22\n",
    "if age > 18:\n",
    "    print(\"You are eligible to vote\")"
   ]
  },
  {
   "cell_type": "code",
   "execution_count": 134,
   "id": "7d37f382-8cc6-4fbb-bc16-a578a4a1b4c4",
   "metadata": {},
   "outputs": [
    {
     "name": "stdout",
     "output_type": "stream",
     "text": [
      "You can't vote as of now\n"
     ]
    }
   ],
   "source": [
    "age = 12\n",
    "if age > 18:\n",
    "    print(\"You are eligible to vote\")\n",
    "else:\n",
    "    print(\"You can't vote as of now\")"
   ]
  },
  {
   "cell_type": "code",
   "execution_count": 137,
   "id": "1e805777-04b3-4478-8595-b4d6ce1dd5f5",
   "metadata": {},
   "outputs": [
    {
     "name": "stdout",
     "output_type": "stream",
     "text": [
      "You are eligible for Senior citizen discount of 25%\n",
      "You can avail the minimum discount of 10%\n",
      "You can avail student discount of 20%\n"
     ]
    }
   ],
   "source": [
    "age = 75\n",
    "\n",
    "if age > 60:\n",
    "    print(\"You are eligible for Senior citizen discount of 25%\")\n",
    "if age > 20:\n",
    "    print(\"You can avail the minimum discount of 10%\")\n",
    "if age > 6:\n",
    "    print(\"You can avail student discount of 20%\")\n",
    "else:\n",
    "    print(\"Not eligible\")\n",
    "    "
   ]
  },
  {
   "cell_type": "code",
   "execution_count": 139,
   "id": "c308f7f9-aa5a-4f4f-8078-b8024add1f1a",
   "metadata": {},
   "outputs": [
    {
     "name": "stdout",
     "output_type": "stream",
     "text": [
      "You can avail the minimum discount of 10%\n"
     ]
    }
   ],
   "source": [
    "age = 55\n",
    "\n",
    "if age > 60:\n",
    "    print(\"You are eligible for Senior citizen discount of 25%\")\n",
    "elif age > 20:\n",
    "    print(\"You can avail the minimum discount of 10%\")\n",
    "elif age > 6:\n",
    "    print(\"You can avail student discount of 20%\")\n",
    "else:\n",
    "    print(\"Not eligible\")\n",
    "    "
   ]
  },
  {
   "cell_type": "code",
   "execution_count": null,
   "id": "021d01ac-a211-48af-b4df-7775f804863b",
   "metadata": {},
   "outputs": [],
   "source": []
  }
 ],
 "metadata": {
  "kernelspec": {
   "display_name": "Python 3 (ipykernel)",
   "language": "python",
   "name": "python3"
  },
  "language_info": {
   "codemirror_mode": {
    "name": "ipython",
    "version": 3
   },
   "file_extension": ".py",
   "mimetype": "text/x-python",
   "name": "python",
   "nbconvert_exporter": "python",
   "pygments_lexer": "ipython3",
   "version": "3.10.0"
  }
 },
 "nbformat": 4,
 "nbformat_minor": 5
}
