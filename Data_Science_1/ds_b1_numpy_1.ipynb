{
  "nbformat": 4,
  "nbformat_minor": 0,
  "metadata": {
    "colab": {
      "provenance": []
    },
    "kernelspec": {
      "name": "python3",
      "display_name": "Python 3"
    },
    "language_info": {
      "name": "python"
    }
  },
  "cells": [
    {
      "cell_type": "code",
      "execution_count": null,
      "metadata": {
        "colab": {
          "base_uri": "https://localhost:8080/"
        },
        "id": "h_KhkftXkKkt",
        "outputId": "2e481ec3-7d2a-405b-f58b-4a4fda92c51c"
      },
      "outputs": [
        {
          "output_type": "stream",
          "name": "stdout",
          "text": [
            "14\n"
          ]
        }
      ],
      "source": [
        "x = 7\n",
        "z = x * 2\n",
        "print(z)"
      ]
    },
    {
      "cell_type": "code",
      "source": [
        "name = \"Bipul\"\n",
        "print(name*2)"
      ],
      "metadata": {
        "colab": {
          "base_uri": "https://localhost:8080/"
        },
        "id": "_5yAVascl0gV",
        "outputId": "c75abf76-c244-4a85-8c8d-1cc19c019688"
      },
      "execution_count": null,
      "outputs": [
        {
          "output_type": "stream",
          "name": "stdout",
          "text": [
            "BipulBipul\n"
          ]
        }
      ]
    },
    {
      "cell_type": "code",
      "source": [
        "salaries = [5043,6773,7656,2338,4567]\n",
        "\n",
        "print(salaries)\n",
        "print(salaries * 2)"
      ],
      "metadata": {
        "colab": {
          "base_uri": "https://localhost:8080/"
        },
        "id": "TpQoRnDzkUtL",
        "outputId": "4cb9f779-e13e-4ba4-d57d-ed3879e4ed99"
      },
      "execution_count": null,
      "outputs": [
        {
          "output_type": "stream",
          "name": "stdout",
          "text": [
            "[5043, 6773, 7656, 2338, 4567]\n",
            "[5043, 6773, 7656, 2338, 4567, 5043, 6773, 7656, 2338, 4567]\n"
          ]
        }
      ]
    },
    {
      "cell_type": "code",
      "source": [
        "for salary in salaries:\n",
        "  print(salary*2)"
      ],
      "metadata": {
        "colab": {
          "base_uri": "https://localhost:8080/"
        },
        "id": "nKFz0Uuxl73j",
        "outputId": "b1864617-c7c5-4e58-d691-466d6fb6b669"
      },
      "execution_count": null,
      "outputs": [
        {
          "output_type": "stream",
          "name": "stdout",
          "text": [
            "10086\n",
            "13546\n",
            "15312\n",
            "4676\n",
            "9134\n"
          ]
        }
      ]
    },
    {
      "cell_type": "code",
      "source": [
        "import numpy as np\n",
        "\n",
        "salaries = np.array([5043,6773,7656,2338,4567])\n",
        "print(salaries)"
      ],
      "metadata": {
        "colab": {
          "base_uri": "https://localhost:8080/"
        },
        "id": "Jd5TRUabkrqy",
        "outputId": "579d5917-af46-4fdc-f79d-9b2c558760b5"
      },
      "execution_count": null,
      "outputs": [
        {
          "output_type": "stream",
          "name": "stdout",
          "text": [
            "[5043 6773 7656 2338 4567]\n"
          ]
        }
      ]
    },
    {
      "cell_type": "code",
      "source": [
        "print(salaries * 2)"
      ],
      "metadata": {
        "colab": {
          "base_uri": "https://localhost:8080/"
        },
        "id": "6alRRtMslMO7",
        "outputId": "abba387d-2b13-4633-bd10-e38ae162bc0d"
      },
      "execution_count": null,
      "outputs": [
        {
          "output_type": "stream",
          "name": "stdout",
          "text": [
            "[10086 13546 15312  4676  9134]\n"
          ]
        }
      ]
    },
    {
      "cell_type": "code",
      "source": [
        "n2 = np.array([[2,3,4,1,6] , [3,6,2,7,8] , [2,6,8,9,5]])\n",
        "print(n2)"
      ],
      "metadata": {
        "colab": {
          "base_uri": "https://localhost:8080/"
        },
        "id": "p6Xl77WwlZJ5",
        "outputId": "6860b16c-a21e-4b50-93aa-e9a52a569338"
      },
      "execution_count": null,
      "outputs": [
        {
          "output_type": "stream",
          "name": "stdout",
          "text": [
            "[[2 3 4 1 6]\n",
            " [3 6 2 7 8]\n",
            " [2 6 8 9 5]]\n"
          ]
        }
      ]
    },
    {
      "cell_type": "markdown",
      "source": [
        "**Broadcasting**"
      ],
      "metadata": {
        "id": "UBzseuIzozcW"
      }
    },
    {
      "cell_type": "code",
      "source": [
        "print(n2*3)"
      ],
      "metadata": {
        "colab": {
          "base_uri": "https://localhost:8080/"
        },
        "id": "AZfPOt81meTu",
        "outputId": "81513a51-5278-451b-fe82-663dad61c21e"
      },
      "execution_count": null,
      "outputs": [
        {
          "output_type": "stream",
          "name": "stdout",
          "text": [
            "[[ 6  9 12  3 18]\n",
            " [ 9 18  6 21 24]\n",
            " [ 6 18 24 27 15]]\n"
          ]
        }
      ]
    },
    {
      "cell_type": "code",
      "source": [
        "n3 = np.array([2,3,2,3,2])\n",
        "print(n3)"
      ],
      "metadata": {
        "colab": {
          "base_uri": "https://localhost:8080/"
        },
        "id": "f6OXHi61mgVW",
        "outputId": "4df82776-7c12-4f76-d889-8c94c0d1fa12"
      },
      "execution_count": null,
      "outputs": [
        {
          "output_type": "stream",
          "name": "stdout",
          "text": [
            "[2 3 2 3 2]\n"
          ]
        }
      ]
    },
    {
      "cell_type": "code",
      "source": [
        "print(n2 * n3)"
      ],
      "metadata": {
        "colab": {
          "base_uri": "https://localhost:8080/"
        },
        "id": "R9_2bODpm9ux",
        "outputId": "5513fa7a-63b7-4272-d9d2-a8832a700bea"
      },
      "execution_count": null,
      "outputs": [
        {
          "output_type": "stream",
          "name": "stdout",
          "text": [
            "[[ 4  9  8  3 12]\n",
            " [ 6 18  4 21 16]\n",
            " [ 4 18 16 27 10]]\n"
          ]
        }
      ]
    },
    {
      "cell_type": "code",
      "source": [
        "n4 = np.array([[2],[3],[2]])\n",
        "print(n4)"
      ],
      "metadata": {
        "colab": {
          "base_uri": "https://localhost:8080/"
        },
        "id": "MFIU5ILqm_77",
        "outputId": "ac068a82-47fd-4b8a-998f-023666fcf3b1"
      },
      "execution_count": null,
      "outputs": [
        {
          "output_type": "stream",
          "name": "stdout",
          "text": [
            "[[2]\n",
            " [3]\n",
            " [2]]\n"
          ]
        }
      ]
    },
    {
      "cell_type": "code",
      "source": [
        "print(n2)"
      ],
      "metadata": {
        "colab": {
          "base_uri": "https://localhost:8080/"
        },
        "id": "ACFzskKEnT-M",
        "outputId": "fbd41af9-4676-4359-a09c-10b3626bbc55"
      },
      "execution_count": null,
      "outputs": [
        {
          "output_type": "stream",
          "name": "stdout",
          "text": [
            "[[2 3 4 1 6]\n",
            " [3 6 2 7 8]\n",
            " [2 6 8 9 5]]\n"
          ]
        }
      ]
    },
    {
      "cell_type": "code",
      "source": [
        "print(n2*n4)"
      ],
      "metadata": {
        "colab": {
          "base_uri": "https://localhost:8080/"
        },
        "id": "utHd9jHqnWna",
        "outputId": "3b60f0e7-e25f-437d-a606-a4d3ac0d5055"
      },
      "execution_count": null,
      "outputs": [
        {
          "output_type": "stream",
          "name": "stdout",
          "text": [
            "[[ 4  6  8  2 12]\n",
            " [ 9 18  6 21 24]\n",
            " [ 4 12 16 18 10]]\n"
          ]
        }
      ]
    },
    {
      "cell_type": "code",
      "source": [
        "n5 = np.array([[3,2,4,2,2] , [2,4,3,2,2],[5,4,5,4,3]])\n",
        "print(n5)"
      ],
      "metadata": {
        "colab": {
          "base_uri": "https://localhost:8080/"
        },
        "id": "1q1LDHIXnYrk",
        "outputId": "0c567a9b-73db-4289-e17f-5095775d2287"
      },
      "execution_count": null,
      "outputs": [
        {
          "output_type": "stream",
          "name": "stdout",
          "text": [
            "[[3 2 4 2 2]\n",
            " [2 4 3 2 2]\n",
            " [5 4 5 4 3]]\n"
          ]
        }
      ]
    },
    {
      "cell_type": "code",
      "source": [
        "print(n2*n5)"
      ],
      "metadata": {
        "colab": {
          "base_uri": "https://localhost:8080/"
        },
        "id": "YEvrNiR7nssR",
        "outputId": "acd3e539-f42d-4b66-90db-1154f510f154"
      },
      "execution_count": null,
      "outputs": [
        {
          "output_type": "stream",
          "name": "stdout",
          "text": [
            "[[ 6  6 16  2 12]\n",
            " [ 6 24  6 14 16]\n",
            " [10 24 40 36 15]]\n"
          ]
        }
      ]
    },
    {
      "cell_type": "code",
      "source": [
        "n6 = np.array([[3,2,4,2,2] , [2,4,3,2,2]])\n",
        "print(n2*n6)"
      ],
      "metadata": {
        "colab": {
          "base_uri": "https://localhost:8080/",
          "height": 159
        },
        "id": "jo5ZDK_DnwrA",
        "outputId": "ba699030-c4bd-424f-863d-3f378d86505c"
      },
      "execution_count": null,
      "outputs": [
        {
          "output_type": "error",
          "ename": "ValueError",
          "evalue": "operands could not be broadcast together with shapes (3,5) (2,5) ",
          "traceback": [
            "\u001b[0;31m---------------------------------------------------------------------------\u001b[0m",
            "\u001b[0;31mValueError\u001b[0m                                Traceback (most recent call last)",
            "\u001b[0;32m<ipython-input-24-857a919903ad>\u001b[0m in \u001b[0;36m<cell line: 0>\u001b[0;34m()\u001b[0m\n\u001b[1;32m      1\u001b[0m \u001b[0mn6\u001b[0m \u001b[0;34m=\u001b[0m \u001b[0mnp\u001b[0m\u001b[0;34m.\u001b[0m\u001b[0marray\u001b[0m\u001b[0;34m(\u001b[0m\u001b[0;34m[\u001b[0m\u001b[0;34m[\u001b[0m\u001b[0;36m3\u001b[0m\u001b[0;34m,\u001b[0m\u001b[0;36m2\u001b[0m\u001b[0;34m,\u001b[0m\u001b[0;36m4\u001b[0m\u001b[0;34m,\u001b[0m\u001b[0;36m2\u001b[0m\u001b[0;34m,\u001b[0m\u001b[0;36m2\u001b[0m\u001b[0;34m]\u001b[0m \u001b[0;34m,\u001b[0m \u001b[0;34m[\u001b[0m\u001b[0;36m2\u001b[0m\u001b[0;34m,\u001b[0m\u001b[0;36m4\u001b[0m\u001b[0;34m,\u001b[0m\u001b[0;36m3\u001b[0m\u001b[0;34m,\u001b[0m\u001b[0;36m2\u001b[0m\u001b[0;34m,\u001b[0m\u001b[0;36m2\u001b[0m\u001b[0;34m]\u001b[0m\u001b[0;34m]\u001b[0m\u001b[0;34m)\u001b[0m\u001b[0;34m\u001b[0m\u001b[0;34m\u001b[0m\u001b[0m\n\u001b[0;32m----> 2\u001b[0;31m \u001b[0mprint\u001b[0m\u001b[0;34m(\u001b[0m\u001b[0mn2\u001b[0m\u001b[0;34m*\u001b[0m\u001b[0mn6\u001b[0m\u001b[0;34m)\u001b[0m\u001b[0;34m\u001b[0m\u001b[0;34m\u001b[0m\u001b[0m\n\u001b[0m",
            "\u001b[0;31mValueError\u001b[0m: operands could not be broadcast together with shapes (3,5) (2,5) "
          ]
        }
      ]
    },
    {
      "cell_type": "code",
      "source": [
        "a = np.array([4,3,5,6,1])\n",
        "print(a)\n",
        "print()\n",
        "print(a.ndim)\n",
        "print(a.shape)"
      ],
      "metadata": {
        "colab": {
          "base_uri": "https://localhost:8080/"
        },
        "id": "03ZsTZnIn3YA",
        "outputId": "fde67833-aac2-436e-f9e2-3772475db975"
      },
      "execution_count": null,
      "outputs": [
        {
          "output_type": "stream",
          "name": "stdout",
          "text": [
            "[4 3 5 6 1]\n",
            "\n",
            "1\n",
            "(5,)\n"
          ]
        }
      ]
    },
    {
      "cell_type": "code",
      "source": [
        "b = np.array([[4,3,5,6,1]])\n",
        "print(b)\n",
        "print()\n",
        "print(b.ndim)\n",
        "print(b.shape)"
      ],
      "metadata": {
        "colab": {
          "base_uri": "https://localhost:8080/"
        },
        "id": "2k8yrlayoY6_",
        "outputId": "9eb8a9da-4055-4218-8896-7f54d8f71316"
      },
      "execution_count": null,
      "outputs": [
        {
          "output_type": "stream",
          "name": "stdout",
          "text": [
            "[[4 3 5 6 1]]\n",
            "\n",
            "2\n",
            "(1, 5)\n"
          ]
        }
      ]
    },
    {
      "cell_type": "markdown",
      "source": [
        "**dimensions of numpy array**"
      ],
      "metadata": {
        "id": "o6TXF77Zo7ze"
      }
    },
    {
      "cell_type": "code",
      "source": [
        "n1 = np.array([4,3,5,6,1])\n",
        "print(n1)\n",
        "print()\n",
        "print(n1.ndim)\n",
        "print(n1.shape)\n",
        "print(n1.size)"
      ],
      "metadata": {
        "colab": {
          "base_uri": "https://localhost:8080/"
        },
        "id": "y9W75F8toew_",
        "outputId": "a8f873ff-2c7c-455e-e63d-0131946ac45d"
      },
      "execution_count": null,
      "outputs": [
        {
          "output_type": "stream",
          "name": "stdout",
          "text": [
            "[4 3 5 6 1]\n",
            "\n",
            "1\n",
            "(5,)\n",
            "5\n"
          ]
        }
      ]
    },
    {
      "cell_type": "code",
      "source": [
        "n2 = np.array([[3,2,5,3,2],[3,2,4,3,2],[4,3,2,4,6]])\n",
        "print(n2)\n",
        "print()\n",
        "print(n2.ndim)\n",
        "print(n2.shape)\n",
        "print(n2.size)"
      ],
      "metadata": {
        "colab": {
          "base_uri": "https://localhost:8080/"
        },
        "id": "ZKT-JoHXpi5P",
        "outputId": "e32b2d21-61a5-4947-c825-6b52ebeb3636"
      },
      "execution_count": null,
      "outputs": [
        {
          "output_type": "stream",
          "name": "stdout",
          "text": [
            "[[3 2 5 3 2]\n",
            " [3 2 4 3 2]\n",
            " [4 3 2 4 6]]\n",
            "\n",
            "2\n",
            "(3, 5)\n",
            "15\n"
          ]
        }
      ]
    },
    {
      "cell_type": "code",
      "source": [
        "n3 = np.array([[[3,2,5,3,2],[3,2,4,3,2],[4,3,2,4,6]] , [[2,1,3,1,2],[4,3,2,1,2],[4,5,6,7,8]]])\n",
        "print(n3)"
      ],
      "metadata": {
        "colab": {
          "base_uri": "https://localhost:8080/"
        },
        "id": "e-tvluc0pzB0",
        "outputId": "de856e5a-8470-4bdb-8782-ebefb93c65ca"
      },
      "execution_count": null,
      "outputs": [
        {
          "output_type": "stream",
          "name": "stdout",
          "text": [
            "[[[3 2 5 3 2]\n",
            "  [3 2 4 3 2]\n",
            "  [4 3 2 4 6]]\n",
            "\n",
            " [[2 1 3 1 2]\n",
            "  [4 3 2 1 2]\n",
            "  [4 5 6 7 8]]]\n"
          ]
        }
      ]
    },
    {
      "cell_type": "code",
      "source": [
        "print(n3.ndim)\n",
        "print(n3.shape)\n",
        "print(n3.size)"
      ],
      "metadata": {
        "colab": {
          "base_uri": "https://localhost:8080/"
        },
        "id": "07Dh-I-WqSRF",
        "outputId": "7d38d2c0-2f7d-4c2d-8d8f-0d461af9ebd4"
      },
      "execution_count": null,
      "outputs": [
        {
          "output_type": "stream",
          "name": "stdout",
          "text": [
            "3\n",
            "(2, 3, 5)\n",
            "30\n"
          ]
        }
      ]
    },
    {
      "cell_type": "code",
      "source": [
        "print(n1)"
      ],
      "metadata": {
        "colab": {
          "base_uri": "https://localhost:8080/"
        },
        "id": "TCHBd08owXSd",
        "outputId": "01000fd1-c6ed-48e0-d4d9-18e6adce45e6"
      },
      "execution_count": null,
      "outputs": [
        {
          "output_type": "stream",
          "name": "stdout",
          "text": [
            "[4 3 5 6 1]\n"
          ]
        }
      ]
    },
    {
      "cell_type": "code",
      "source": [
        "print(n1[2])"
      ],
      "metadata": {
        "colab": {
          "base_uri": "https://localhost:8080/"
        },
        "id": "axK2Wf1xwZ6M",
        "outputId": "3fdd70e1-f443-4714-955e-d18a1eac924e"
      },
      "execution_count": null,
      "outputs": [
        {
          "output_type": "stream",
          "name": "stdout",
          "text": [
            "5\n"
          ]
        }
      ]
    },
    {
      "cell_type": "code",
      "source": [
        "print(np.where(n1 == 6))"
      ],
      "metadata": {
        "colab": {
          "base_uri": "https://localhost:8080/"
        },
        "id": "sELmLMA-w6Ly",
        "outputId": "24b7d949-89af-4472-ac6c-902579b9b931"
      },
      "execution_count": null,
      "outputs": [
        {
          "output_type": "stream",
          "name": "stdout",
          "text": [
            "(array([3]),)\n"
          ]
        }
      ]
    },
    {
      "cell_type": "code",
      "source": [
        "print(n2)"
      ],
      "metadata": {
        "colab": {
          "base_uri": "https://localhost:8080/"
        },
        "id": "QyLLjvsXqfXZ",
        "outputId": "6ab21b8d-8e5e-4e08-dd43-72ed50c1a368"
      },
      "execution_count": null,
      "outputs": [
        {
          "output_type": "stream",
          "name": "stdout",
          "text": [
            "[[3 2 5 3 2]\n",
            " [3 2 4 3 2]\n",
            " [4 3 2 4 6]]\n"
          ]
        }
      ]
    },
    {
      "cell_type": "code",
      "source": [
        "print(n2[0,0])\n",
        "print(n2[2,0])\n",
        "print(n2[1,3])"
      ],
      "metadata": {
        "colab": {
          "base_uri": "https://localhost:8080/"
        },
        "id": "IsWASIQ2wCR_",
        "outputId": "2e9b0c13-ef46-4f1f-b7d7-b51964709805"
      },
      "execution_count": null,
      "outputs": [
        {
          "output_type": "stream",
          "name": "stdout",
          "text": [
            "3\n",
            "4\n",
            "3\n"
          ]
        }
      ]
    },
    {
      "cell_type": "code",
      "source": [
        "print(np.where(n2 == 2))"
      ],
      "metadata": {
        "colab": {
          "base_uri": "https://localhost:8080/"
        },
        "id": "yBJlIAzRxBvr",
        "outputId": "32d328bf-d0ea-4457-8fe1-03e543f4bac2"
      },
      "execution_count": null,
      "outputs": [
        {
          "output_type": "stream",
          "name": "stdout",
          "text": [
            "(array([0, 0, 1, 1, 2]), array([1, 4, 1, 4, 2]))\n"
          ]
        }
      ]
    },
    {
      "cell_type": "code",
      "source": [
        "print(n3)"
      ],
      "metadata": {
        "colab": {
          "base_uri": "https://localhost:8080/"
        },
        "id": "GARfHtWnwOCD",
        "outputId": "e3f36316-21f0-440a-e957-68d4c410b336"
      },
      "execution_count": null,
      "outputs": [
        {
          "output_type": "stream",
          "name": "stdout",
          "text": [
            "[[[3 2 5 3 2]\n",
            "  [3 2 4 3 2]\n",
            "  [4 3 2 4 6]]\n",
            "\n",
            " [[2 1 3 1 2]\n",
            "  [4 3 2 1 2]\n",
            "  [4 5 6 7 8]]]\n"
          ]
        }
      ]
    },
    {
      "cell_type": "code",
      "source": [
        "print(n3[0,2,4])"
      ],
      "metadata": {
        "colab": {
          "base_uri": "https://localhost:8080/"
        },
        "id": "6dLnWGIpwWAV",
        "outputId": "77964494-cdf5-45eb-f60b-b8533b2f5795"
      },
      "execution_count": null,
      "outputs": [
        {
          "output_type": "stream",
          "name": "stdout",
          "text": [
            "6\n"
          ]
        }
      ]
    },
    {
      "cell_type": "code",
      "source": [
        "np.where(n3 == 8)"
      ],
      "metadata": {
        "colab": {
          "base_uri": "https://localhost:8080/"
        },
        "id": "ZE-cX8zEw4MH",
        "outputId": "2d98bcf2-1a54-43de-c8f9-43f1e2516679"
      },
      "execution_count": null,
      "outputs": [
        {
          "output_type": "execute_result",
          "data": {
            "text/plain": [
              "(array([1]), array([2]), array([4]))"
            ]
          },
          "metadata": {},
          "execution_count": 52
        }
      ]
    },
    {
      "cell_type": "markdown",
      "source": [
        "**Slicing of an array**"
      ],
      "metadata": {
        "id": "bBXIOJBrxhXz"
      }
    },
    {
      "cell_type": "code",
      "source": [
        "n1 = np.array([4,3,5,6,1])\n",
        "print(n1[1:4])"
      ],
      "metadata": {
        "colab": {
          "base_uri": "https://localhost:8080/"
        },
        "id": "eAsK0QvRxWgJ",
        "outputId": "cabf8b0d-5ba4-4d19-fa39-9666e818dc9e"
      },
      "execution_count": null,
      "outputs": [
        {
          "output_type": "stream",
          "name": "stdout",
          "text": [
            "[3 5 6]\n"
          ]
        }
      ]
    },
    {
      "cell_type": "code",
      "source": [
        "print(n1[2:5])"
      ],
      "metadata": {
        "colab": {
          "base_uri": "https://localhost:8080/"
        },
        "id": "XBY1-BEOyd4v",
        "outputId": "82d0c417-52f6-42f5-9784-619a95005a7a"
      },
      "execution_count": null,
      "outputs": [
        {
          "output_type": "stream",
          "name": "stdout",
          "text": [
            "[5 6 1]\n"
          ]
        }
      ]
    },
    {
      "cell_type": "code",
      "source": [
        "print(n1[2:])"
      ],
      "metadata": {
        "colab": {
          "base_uri": "https://localhost:8080/"
        },
        "id": "-pTzdWWtyLAF",
        "outputId": "11fc99c8-3193-4134-da32-5ab0943c1b42"
      },
      "execution_count": null,
      "outputs": [
        {
          "output_type": "stream",
          "name": "stdout",
          "text": [
            "[5 6 1]\n"
          ]
        }
      ]
    },
    {
      "cell_type": "code",
      "source": [
        "n2 = np.array([[3,2,5,3,2],[3,2,4,3,2],[4,3,2,4,6]])\n",
        "print(n2)"
      ],
      "metadata": {
        "colab": {
          "base_uri": "https://localhost:8080/"
        },
        "id": "8A58QkYMyRl_",
        "outputId": "1f916234-c24c-4694-9246-eba8cf345c03"
      },
      "execution_count": null,
      "outputs": [
        {
          "output_type": "stream",
          "name": "stdout",
          "text": [
            "[[3 2 5 3 2]\n",
            " [3 2 4 3 2]\n",
            " [4 3 2 4 6]]\n"
          ]
        }
      ]
    },
    {
      "cell_type": "code",
      "source": [
        "print(n2[1:3, 1:4])"
      ],
      "metadata": {
        "colab": {
          "base_uri": "https://localhost:8080/"
        },
        "id": "i4w49V7wypoL",
        "outputId": "ba8f6bf8-21d5-4149-d07a-973d6194025c"
      },
      "execution_count": null,
      "outputs": [
        {
          "output_type": "stream",
          "name": "stdout",
          "text": [
            "[[2 4 3]\n",
            " [3 2 4]]\n"
          ]
        }
      ]
    },
    {
      "cell_type": "code",
      "source": [
        "print(n2[:, 4:])"
      ],
      "metadata": {
        "colab": {
          "base_uri": "https://localhost:8080/"
        },
        "id": "F-sn67IDzLTi",
        "outputId": "497ab5d1-42cb-4597-fa5e-3c2083922f88"
      },
      "execution_count": null,
      "outputs": [
        {
          "output_type": "stream",
          "name": "stdout",
          "text": [
            "[[2]\n",
            " [2]\n",
            " [6]]\n"
          ]
        }
      ]
    },
    {
      "cell_type": "code",
      "source": [
        "print(n2[:, 3:5])"
      ],
      "metadata": {
        "colab": {
          "base_uri": "https://localhost:8080/"
        },
        "id": "RjARVCSMznnv",
        "outputId": "ee0e9457-dd2a-4cd8-dfce-aadaa01921fc"
      },
      "execution_count": null,
      "outputs": [
        {
          "output_type": "stream",
          "name": "stdout",
          "text": [
            "[[3 2]\n",
            " [3 2]\n",
            " [4 6]]\n"
          ]
        }
      ]
    },
    {
      "cell_type": "code",
      "source": [
        "print(n2[: , -1:])"
      ],
      "metadata": {
        "colab": {
          "base_uri": "https://localhost:8080/"
        },
        "id": "45RHEJTTzp5O",
        "outputId": "739455b5-c27a-4400-cf83-66959502ac7b"
      },
      "execution_count": null,
      "outputs": [
        {
          "output_type": "stream",
          "name": "stdout",
          "text": [
            "[[2]\n",
            " [2]\n",
            " [6]]\n"
          ]
        }
      ]
    },
    {
      "cell_type": "code",
      "source": [
        "print(n2)"
      ],
      "metadata": {
        "colab": {
          "base_uri": "https://localhost:8080/"
        },
        "id": "RMTd3CU40uyI",
        "outputId": "bcb6c563-a1d1-448a-bc07-6b4441b2a72e"
      },
      "execution_count": null,
      "outputs": [
        {
          "output_type": "stream",
          "name": "stdout",
          "text": [
            "[[3 2 5 3 2]\n",
            " [3 2 4 3 2]\n",
            " [4 3 2 4 6]]\n"
          ]
        }
      ]
    },
    {
      "cell_type": "code",
      "source": [
        "print(n2[:,3:])"
      ],
      "metadata": {
        "colab": {
          "base_uri": "https://localhost:8080/"
        },
        "id": "TKSZEBzm1gB_",
        "outputId": "62de770f-afb8-4777-d0f8-b6bc2ddca033"
      },
      "execution_count": null,
      "outputs": [
        {
          "output_type": "stream",
          "name": "stdout",
          "text": [
            "[[3 2]\n",
            " [3 2]\n",
            " [4 6]]\n"
          ]
        }
      ]
    },
    {
      "cell_type": "code",
      "source": [
        "print(n2[:,-2:])"
      ],
      "metadata": {
        "colab": {
          "base_uri": "https://localhost:8080/"
        },
        "id": "pXzIMxxQ1hbk",
        "outputId": "3a6228ea-5e67-4bcd-8db6-d8fa425c35d5"
      },
      "execution_count": null,
      "outputs": [
        {
          "output_type": "stream",
          "name": "stdout",
          "text": [
            "[[3 2]\n",
            " [3 2]\n",
            " [4 6]]\n"
          ]
        }
      ]
    },
    {
      "cell_type": "code",
      "source": [
        "print(n2)"
      ],
      "metadata": {
        "colab": {
          "base_uri": "https://localhost:8080/"
        },
        "id": "uxgP1hVJ1jwg",
        "outputId": "02dd07af-cf07-4e63-d998-6ba12f6be8eb"
      },
      "execution_count": null,
      "outputs": [
        {
          "output_type": "stream",
          "name": "stdout",
          "text": [
            "[[3 2 5 3 2]\n",
            " [3 2 4 3 2]\n",
            " [4 3 2 4 6]]\n"
          ]
        }
      ]
    },
    {
      "cell_type": "code",
      "source": [
        "print(np.sum(n2))\n",
        "print(np.prod(n2))\n",
        "print(np.mean(n2))\n",
        "print(np.std(n2))\n",
        "print(np.min(n2))\n",
        "print(np.max(n2))\n",
        "print(np.argmin(n2))\n",
        "print(np.argmax(n2))"
      ],
      "metadata": {
        "colab": {
          "base_uri": "https://localhost:8080/"
        },
        "id": "dN0xr5Ry1phW",
        "outputId": "00cb431d-10cd-4de6-a76a-7314d814f030"
      },
      "execution_count": null,
      "outputs": [
        {
          "output_type": "stream",
          "name": "stdout",
          "text": [
            "48\n",
            "14929920\n",
            "3.2\n",
            "1.1661903789690602\n",
            "2\n",
            "6\n",
            "1\n",
            "14\n"
          ]
        }
      ]
    },
    {
      "cell_type": "code",
      "source": [
        "print(n2)"
      ],
      "metadata": {
        "colab": {
          "base_uri": "https://localhost:8080/"
        },
        "id": "N8Q5tE1N2MSw",
        "outputId": "723f9c74-1c4a-4b6c-a686-483809cad844"
      },
      "execution_count": null,
      "outputs": [
        {
          "output_type": "stream",
          "name": "stdout",
          "text": [
            "[[3 2 5 3 2]\n",
            " [3 2 4 3 2]\n",
            " [4 3 2 4 6]]\n"
          ]
        }
      ]
    },
    {
      "cell_type": "code",
      "source": [
        "print(np.sum(n2, axis=0))\n",
        "print(np.prod(n2, axis=0))\n",
        "print(np.mean(n2, axis=0))\n",
        "print(np.std(n2, axis=0))\n",
        "print(np.min(n2, axis=0))\n",
        "print(np.max(n2, axis=0))\n",
        "print(np.argmin(n2, axis=0))\n",
        "print(np.argmax(n2, axis=0))"
      ],
      "metadata": {
        "colab": {
          "base_uri": "https://localhost:8080/"
        },
        "id": "V74cR_qN1r16",
        "outputId": "3b0be274-1094-4c40-e9fc-9def56e2e4b1"
      },
      "execution_count": null,
      "outputs": [
        {
          "output_type": "stream",
          "name": "stdout",
          "text": [
            "[10  7 11 10 10]\n",
            "[36 12 40 36 24]\n",
            "[3.33333333 2.33333333 3.66666667 3.33333333 3.33333333]\n",
            "[0.47140452 0.47140452 1.24721913 0.47140452 1.88561808]\n",
            "[3 2 2 3 2]\n",
            "[4 3 5 4 6]\n",
            "[0 0 2 0 0]\n",
            "[2 2 0 2 2]\n"
          ]
        }
      ]
    },
    {
      "cell_type": "code",
      "source": [
        "print(np.sum(n2, axis=1))\n",
        "print(np.prod(n2, axis=1))\n",
        "print(np.mean(n2, axis=1))\n",
        "print(np.std(n2, axis=1))\n",
        "print(np.min(n2, axis=1))\n",
        "print(np.max(n2, axis=1))\n",
        "print(np.argmin(n2, axis=1))\n",
        "print(np.argmax(n2, axis=1))"
      ],
      "metadata": {
        "colab": {
          "base_uri": "https://localhost:8080/"
        },
        "id": "kZuGyQWJ2Lzh",
        "outputId": "a9cd4223-ba55-451e-c944-31469ce8e5eb"
      },
      "execution_count": null,
      "outputs": [
        {
          "output_type": "stream",
          "name": "stdout",
          "text": [
            "[15 14 19]\n",
            "[180 144 576]\n",
            "[3.  2.8 3.8]\n",
            "[1.09544512 0.74833148 1.32664992]\n",
            "[2 2 2]\n",
            "[5 4 6]\n",
            "[1 1 2]\n",
            "[2 2 4]\n"
          ]
        }
      ]
    },
    {
      "cell_type": "code",
      "source": [
        "print(n3)"
      ],
      "metadata": {
        "colab": {
          "base_uri": "https://localhost:8080/"
        },
        "id": "n6DQDILr2F6J",
        "outputId": "91d9df46-dbf5-4bdc-deca-aed48144bbb4"
      },
      "execution_count": null,
      "outputs": [
        {
          "output_type": "stream",
          "name": "stdout",
          "text": [
            "[[[3 2 5 3 2]\n",
            "  [3 2 4 3 2]\n",
            "  [4 3 2 4 6]]\n",
            "\n",
            " [[2 1 3 1 2]\n",
            "  [4 3 2 1 2]\n",
            "  [4 5 6 7 8]]]\n"
          ]
        }
      ]
    },
    {
      "cell_type": "code",
      "source": [
        "print(np.sum(n3))"
      ],
      "metadata": {
        "colab": {
          "base_uri": "https://localhost:8080/"
        },
        "id": "OozRyyRU2xLe",
        "outputId": "c4a6beb3-d606-4c83-91b3-26c9ef2e05ee"
      },
      "execution_count": null,
      "outputs": [
        {
          "output_type": "stream",
          "name": "stdout",
          "text": [
            "99\n"
          ]
        }
      ]
    },
    {
      "cell_type": "code",
      "source": [
        "print(np.sum(n3 , axis = 0))"
      ],
      "metadata": {
        "colab": {
          "base_uri": "https://localhost:8080/"
        },
        "id": "XYMFHhA_21qy",
        "outputId": "f0c18965-3600-4b13-f280-277d32fd583e"
      },
      "execution_count": null,
      "outputs": [
        {
          "output_type": "stream",
          "name": "stdout",
          "text": [
            "[[ 5  3  8  4  4]\n",
            " [ 7  5  6  4  4]\n",
            " [ 8  8  8 11 14]]\n"
          ]
        }
      ]
    },
    {
      "cell_type": "code",
      "source": [
        "print(np.sum(n3 , axis = 1))      #for each column"
      ],
      "metadata": {
        "colab": {
          "base_uri": "https://localhost:8080/"
        },
        "id": "Mq15k4cZ23if",
        "outputId": "6faa07ab-a6d1-49f0-cbb6-f1ad4595d594"
      },
      "execution_count": null,
      "outputs": [
        {
          "output_type": "stream",
          "name": "stdout",
          "text": [
            "[[10  7 11 10 10]\n",
            " [10  9 11  9 12]]\n"
          ]
        }
      ]
    },
    {
      "cell_type": "code",
      "source": [
        "print(np.sum(n3 , axis = 2))      #for each row"
      ],
      "metadata": {
        "colab": {
          "base_uri": "https://localhost:8080/"
        },
        "id": "oJkzdGW93GZ1",
        "outputId": "248eaed6-4f1a-461b-c8ad-9568d0efbcb7"
      },
      "execution_count": null,
      "outputs": [
        {
          "output_type": "stream",
          "name": "stdout",
          "text": [
            "[[15 14 19]\n",
            " [ 9 12 30]]\n"
          ]
        }
      ]
    },
    {
      "cell_type": "code",
      "source": [
        "print(n3)"
      ],
      "metadata": {
        "colab": {
          "base_uri": "https://localhost:8080/"
        },
        "id": "eeh-RSwW3Zp1",
        "outputId": "4573e279-ce6b-4a32-9572-bf4fe1048e3e"
      },
      "execution_count": null,
      "outputs": [
        {
          "output_type": "stream",
          "name": "stdout",
          "text": [
            "[[[3 2 5 3 2]\n",
            "  [3 2 4 3 2]\n",
            "  [4 3 2 4 6]]\n",
            "\n",
            " [[2 1 3 1 2]\n",
            "  [4 3 2 1 2]\n",
            "  [4 5 6 7 8]]]\n"
          ]
        }
      ]
    },
    {
      "cell_type": "markdown",
      "source": [
        "**more functions of numpy**"
      ],
      "metadata": {
        "id": "NbH5tPQy4WU2"
      }
    },
    {
      "cell_type": "code",
      "source": [
        "print(np.eye(3))"
      ],
      "metadata": {
        "colab": {
          "base_uri": "https://localhost:8080/"
        },
        "id": "P6fvMVJ431RJ",
        "outputId": "d7283cc7-7a93-4705-b3d6-caa45a042a7c"
      },
      "execution_count": null,
      "outputs": [
        {
          "output_type": "stream",
          "name": "stdout",
          "text": [
            "[[1. 0. 0.]\n",
            " [0. 1. 0.]\n",
            " [0. 0. 1.]]\n"
          ]
        }
      ]
    },
    {
      "cell_type": "code",
      "source": [
        "print(np.zeros((4,5)))"
      ],
      "metadata": {
        "colab": {
          "base_uri": "https://localhost:8080/"
        },
        "id": "kjz9DUxk4awi",
        "outputId": "b79f77dc-f9d8-4661-db89-1378b9a0cc9c"
      },
      "execution_count": null,
      "outputs": [
        {
          "output_type": "stream",
          "name": "stdout",
          "text": [
            "[[0. 0. 0. 0. 0.]\n",
            " [0. 0. 0. 0. 0.]\n",
            " [0. 0. 0. 0. 0.]\n",
            " [0. 0. 0. 0. 0.]]\n"
          ]
        }
      ]
    },
    {
      "cell_type": "code",
      "source": [
        "print(np.ones((4,5)))"
      ],
      "metadata": {
        "colab": {
          "base_uri": "https://localhost:8080/"
        },
        "id": "Luudpbel4hDh",
        "outputId": "d84b1aa4-3784-4ec1-9042-0dc7d0530b70"
      },
      "execution_count": null,
      "outputs": [
        {
          "output_type": "stream",
          "name": "stdout",
          "text": [
            "[[1. 1. 1. 1. 1.]\n",
            " [1. 1. 1. 1. 1.]\n",
            " [1. 1. 1. 1. 1.]\n",
            " [1. 1. 1. 1. 1.]]\n"
          ]
        }
      ]
    },
    {
      "cell_type": "code",
      "source": [
        "a = np.arange(0,36)"
      ],
      "metadata": {
        "id": "ElBSN4Yx4kMk"
      },
      "execution_count": null,
      "outputs": []
    },
    {
      "cell_type": "code",
      "source": [
        "#reshaping of an array -36 - (1,36) , (36,1) , (2,18) , (18,2) , (3,12) , (12,3) , (4,9) , (9,4), (6,6)\n",
        "\n",
        "b = a.reshape(6,6)\n",
        "print(b)"
      ],
      "metadata": {
        "colab": {
          "base_uri": "https://localhost:8080/"
        },
        "id": "9mzTwPuq4plz",
        "outputId": "429de124-0734-4f3c-d2fa-b0c98143e323"
      },
      "execution_count": null,
      "outputs": [
        {
          "output_type": "stream",
          "name": "stdout",
          "text": [
            "[[ 0  1  2  3  4  5]\n",
            " [ 6  7  8  9 10 11]\n",
            " [12 13 14 15 16 17]\n",
            " [18 19 20 21 22 23]\n",
            " [24 25 26 27 28 29]\n",
            " [30 31 32 33 34 35]]\n"
          ]
        }
      ]
    },
    {
      "cell_type": "code",
      "source": [
        "np.linspace(0,10,7)       #equally spaced 7 values between 0 to 10"
      ],
      "metadata": {
        "colab": {
          "base_uri": "https://localhost:8080/"
        },
        "id": "RWFt4hLw6t1w",
        "outputId": "7311390f-8013-41fc-b8a4-8316374fb193"
      },
      "execution_count": null,
      "outputs": [
        {
          "output_type": "execute_result",
          "data": {
            "text/plain": [
              "array([ 0.        ,  1.66666667,  3.33333333,  5.        ,  6.66666667,\n",
              "        8.33333333, 10.        ])"
            ]
          },
          "metadata": {},
          "execution_count": 104
        }
      ]
    },
    {
      "cell_type": "markdown",
      "source": [
        "**dot product**"
      ],
      "metadata": {
        "id": "jHcBtu9F6-2x"
      }
    },
    {
      "cell_type": "code",
      "source": [
        "X1 = np.array([[3,2,4,5] , [3,2,5,6] , [4,3,2,1]])\n",
        "print(X1)"
      ],
      "metadata": {
        "colab": {
          "base_uri": "https://localhost:8080/"
        },
        "id": "9l7truOl626i",
        "outputId": "5f0c8c59-9bca-4ec1-d1fd-e1c8bc7b4d7e"
      },
      "execution_count": null,
      "outputs": [
        {
          "output_type": "stream",
          "name": "stdout",
          "text": [
            "[[3 2 4 5]\n",
            " [3 2 5 6]\n",
            " [4 3 2 1]]\n"
          ]
        }
      ]
    },
    {
      "cell_type": "code",
      "source": [
        "X2 = np.array([[1,2,3,4,5,6,7,2]]).reshape(4,2)\n",
        "X2"
      ],
      "metadata": {
        "colab": {
          "base_uri": "https://localhost:8080/"
        },
        "id": "7tq-1vmv7fWR",
        "outputId": "63ce33db-ff68-44b7-bab9-110b66e891a1"
      },
      "execution_count": null,
      "outputs": [
        {
          "output_type": "execute_result",
          "data": {
            "text/plain": [
              "array([[1, 2],\n",
              "       [3, 4],\n",
              "       [5, 6],\n",
              "       [7, 2]])"
            ]
          },
          "metadata": {},
          "execution_count": 107
        }
      ]
    },
    {
      "cell_type": "code",
      "source": [
        "print(np.dot(X1,X2))"
      ],
      "metadata": {
        "colab": {
          "base_uri": "https://localhost:8080/"
        },
        "id": "cKprAbhp7puG",
        "outputId": "bd826ed3-a5fe-42ec-af50-a71e7b1c8a12"
      },
      "execution_count": null,
      "outputs": [
        {
          "output_type": "stream",
          "name": "stdout",
          "text": [
            "[[64 48]\n",
            " [76 56]\n",
            " [30 34]]\n"
          ]
        }
      ]
    },
    {
      "cell_type": "markdown",
      "source": [
        "* 2x + 2y + z = 7\n",
        "* x + y + z = 5\n",
        "* 3x + y + 2z = 15"
      ],
      "metadata": {
        "id": "3jpVmqa98MxC"
      }
    },
    {
      "cell_type": "code",
      "source": [
        "A = np.array([[2,2,1],[1,1,1],[3,1,2]])\n",
        "print(A)"
      ],
      "metadata": {
        "colab": {
          "base_uri": "https://localhost:8080/"
        },
        "id": "ru125ESq7sqG",
        "outputId": "38fdf527-09e4-4af8-8af2-b3d0adc3f8f9"
      },
      "execution_count": null,
      "outputs": [
        {
          "output_type": "stream",
          "name": "stdout",
          "text": [
            "[[2 2 1]\n",
            " [1 1 1]\n",
            " [3 1 2]]\n"
          ]
        }
      ]
    },
    {
      "cell_type": "code",
      "source": [
        "X = np.array([['x'] , ['y'] , ['z']])\n",
        "print(X)"
      ],
      "metadata": {
        "colab": {
          "base_uri": "https://localhost:8080/"
        },
        "id": "FsffkQhH8ZbX",
        "outputId": "3393df35-76f5-4d54-92d8-129ab76535c8"
      },
      "execution_count": null,
      "outputs": [
        {
          "output_type": "stream",
          "name": "stdout",
          "text": [
            "[['x']\n",
            " ['y']\n",
            " ['z']]\n"
          ]
        }
      ]
    },
    {
      "cell_type": "code",
      "source": [
        "B = np.array([[7],[5],[15]])\n",
        "print(B)"
      ],
      "metadata": {
        "colab": {
          "base_uri": "https://localhost:8080/"
        },
        "id": "9K1FrfTa8ePI",
        "outputId": "78aade52-d4cb-4759-bc6d-27c10b388f2c"
      },
      "execution_count": null,
      "outputs": [
        {
          "output_type": "stream",
          "name": "stdout",
          "text": [
            "[[ 7]\n",
            " [ 5]\n",
            " [15]]\n"
          ]
        }
      ]
    },
    {
      "cell_type": "code",
      "source": [
        "#A.X = B\n",
        "#X = inv(A).B\n",
        "\n",
        "Ainv = np.linalg.inv(A)\n",
        "X = np.dot(Ainv , B)\n",
        "print(X)"
      ],
      "metadata": {
        "colab": {
          "base_uri": "https://localhost:8080/"
        },
        "id": "B6NFmfsV8j7Z",
        "outputId": "7e11b2da-4618-4d42-e5d8-52fd949c084a"
      },
      "execution_count": null,
      "outputs": [
        {
          "output_type": "stream",
          "name": "stdout",
          "text": [
            "[[ 3.5]\n",
            " [-1.5]\n",
            " [ 3. ]]\n"
          ]
        }
      ]
    },
    {
      "cell_type": "markdown",
      "source": [
        "* masking"
      ],
      "metadata": {
        "id": "dYF3blLQ9GiU"
      }
    },
    {
      "cell_type": "code",
      "source": [
        "a = np.array([12, 20, 23, 15, 25])\n",
        "\n",
        "print(a > 20)"
      ],
      "metadata": {
        "colab": {
          "base_uri": "https://localhost:8080/"
        },
        "id": "ly9SkaP99ZVo",
        "outputId": "6f8fad9f-1283-4fc8-f3e1-b1588cab59dd"
      },
      "execution_count": null,
      "outputs": [
        {
          "output_type": "stream",
          "name": "stdout",
          "text": [
            "[False False  True False  True]\n"
          ]
        }
      ]
    },
    {
      "cell_type": "code",
      "source": [
        "a = np.array([12, 20, 23, 15, 25])\n",
        "\n",
        "print(a[a > 20])"
      ],
      "metadata": {
        "colab": {
          "base_uri": "https://localhost:8080/"
        },
        "id": "zfIkc3kb8sqY",
        "outputId": "87ba691c-2ec2-4a93-f97c-ea4407ab3438"
      },
      "execution_count": null,
      "outputs": [
        {
          "output_type": "stream",
          "name": "stdout",
          "text": [
            "[23 25]\n"
          ]
        }
      ]
    },
    {
      "cell_type": "markdown",
      "source": [
        "* Fancy index"
      ],
      "metadata": {
        "id": "-QR5HO1O9jLz"
      }
    },
    {
      "cell_type": "code",
      "source": [
        "a = np.array([12, 20, 23, 15, 25 , 29])\n",
        "\n",
        "print(a[[1,3,5]])"
      ],
      "metadata": {
        "colab": {
          "base_uri": "https://localhost:8080/"
        },
        "id": "7AAu58Qu9NlO",
        "outputId": "6c34398c-33ac-4f99-9483-909db6dd9686"
      },
      "execution_count": null,
      "outputs": [
        {
          "output_type": "stream",
          "name": "stdout",
          "text": [
            "[20 15 29]\n"
          ]
        }
      ]
    },
    {
      "cell_type": "code",
      "source": [
        "a[1]"
      ],
      "metadata": {
        "colab": {
          "base_uri": "https://localhost:8080/"
        },
        "id": "MAvG0bvl9m19",
        "outputId": "eb79b36b-1524-46b7-d082-c203fa11f1a6"
      },
      "execution_count": null,
      "outputs": [
        {
          "output_type": "execute_result",
          "data": {
            "text/plain": [
              "np.int64(20)"
            ]
          },
          "metadata": {},
          "execution_count": 127
        }
      ]
    },
    {
      "cell_type": "markdown",
      "source": [
        "* conditional replacement"
      ],
      "metadata": {
        "id": "pBOP-LQX-GBD"
      }
    },
    {
      "cell_type": "code",
      "source": [
        "a = np.array([12, 20, 23, 15, 25 , 29])\n",
        "\n",
        "a[5] = 35\n",
        "\n",
        "print(a)"
      ],
      "metadata": {
        "colab": {
          "base_uri": "https://localhost:8080/"
        },
        "id": "Ys7uu4u4974q",
        "outputId": "c700ce35-7bb0-4bb6-8ada-ec6ad27fd569"
      },
      "execution_count": null,
      "outputs": [
        {
          "output_type": "stream",
          "name": "stdout",
          "text": [
            "[12 20 23 15 25 35]\n"
          ]
        }
      ]
    },
    {
      "cell_type": "code",
      "source": [
        "a[a > 25] = 25\n",
        "print(a)"
      ],
      "metadata": {
        "colab": {
          "base_uri": "https://localhost:8080/"
        },
        "id": "AQJYO2Me-NWJ",
        "outputId": "b1aaebe2-727a-4aa6-8a02-2b96719f297b"
      },
      "execution_count": null,
      "outputs": [
        {
          "output_type": "stream",
          "name": "stdout",
          "text": [
            "[12 20 23 15 25 25]\n"
          ]
        }
      ]
    },
    {
      "cell_type": "code",
      "source": [
        "a = np.array([12, 20, 23, 15, 25 , 29])\n",
        "\n",
        "np.sort(a)\n",
        "\n",
        "print(a)"
      ],
      "metadata": {
        "colab": {
          "base_uri": "https://localhost:8080/"
        },
        "id": "up2n53SJ-O6T",
        "outputId": "0e500722-b059-4b80-e691-c6bba33fdeb1"
      },
      "execution_count": null,
      "outputs": [
        {
          "output_type": "stream",
          "name": "stdout",
          "text": [
            "[12 20 23 15 25 29]\n"
          ]
        }
      ]
    },
    {
      "cell_type": "code",
      "source": [
        "print(n2)"
      ],
      "metadata": {
        "colab": {
          "base_uri": "https://localhost:8080/"
        },
        "id": "P8y4Filn_RN0",
        "outputId": "cb6148b1-b705-4159-e4b7-0023cbf360d0"
      },
      "execution_count": null,
      "outputs": [
        {
          "output_type": "stream",
          "name": "stdout",
          "text": [
            "[[3 2 5 3 2]\n",
            " [3 2 4 3 2]\n",
            " [4 3 2 4 6]]\n"
          ]
        }
      ]
    },
    {
      "cell_type": "code",
      "source": [
        "n3 = np.sort(n2, axis=0)\n",
        "print(n3)"
      ],
      "metadata": {
        "colab": {
          "base_uri": "https://localhost:8080/"
        },
        "id": "oYKyPSut_S1B",
        "outputId": "b0dd818b-a3d6-40ed-bf41-f9298460a5fe"
      },
      "execution_count": null,
      "outputs": [
        {
          "output_type": "stream",
          "name": "stdout",
          "text": [
            "[[3 2 2 3 2]\n",
            " [3 2 4 3 2]\n",
            " [4 3 5 4 6]]\n"
          ]
        }
      ]
    },
    {
      "cell_type": "code",
      "source": [
        "n4 = np.sort(n2, axis=1)\n",
        "print(n4)"
      ],
      "metadata": {
        "colab": {
          "base_uri": "https://localhost:8080/"
        },
        "id": "nagxv513_mGw",
        "outputId": "827ec5d0-f626-48f1-cb52-7551e963d4c6"
      },
      "execution_count": null,
      "outputs": [
        {
          "output_type": "stream",
          "name": "stdout",
          "text": [
            "[[2 2 3 3 5]\n",
            " [2 2 3 3 4]\n",
            " [2 3 4 4 6]]\n"
          ]
        }
      ]
    },
    {
      "cell_type": "code",
      "source": [
        "print(a)\n",
        "a_reverse = np.flip(a)\n",
        "print(a_reverse)"
      ],
      "metadata": {
        "colab": {
          "base_uri": "https://localhost:8080/"
        },
        "id": "0QUyIEiK_Dac",
        "outputId": "dba61b67-8cb1-47bb-a0ad-a65fe4186f78"
      },
      "execution_count": null,
      "outputs": [
        {
          "output_type": "stream",
          "name": "stdout",
          "text": [
            "[12 20 23 15 25 29]\n",
            "[29 25 15 23 20 12]\n"
          ]
        }
      ]
    },
    {
      "cell_type": "markdown",
      "source": [
        "* random values matrix"
      ],
      "metadata": {
        "id": "WdmYjnJgAAVG"
      }
    },
    {
      "cell_type": "code",
      "source": [
        "nr1 = np.random.rand()\n",
        "print(nr1)"
      ],
      "metadata": {
        "colab": {
          "base_uri": "https://localhost:8080/"
        },
        "id": "5F-60k7S_IU-",
        "outputId": "fad573b3-d8cd-42a6-f806-bcbe6f887016"
      },
      "execution_count": null,
      "outputs": [
        {
          "output_type": "stream",
          "name": "stdout",
          "text": [
            "0.9202966610506603\n"
          ]
        }
      ]
    },
    {
      "cell_type": "code",
      "source": [
        "nr2 = np.random.randint(10,200)\n",
        "print(nr2)"
      ],
      "metadata": {
        "colab": {
          "base_uri": "https://localhost:8080/"
        },
        "id": "XWUPyWVtAHqs",
        "outputId": "9ca68029-e93a-48fb-d909-ff8148c80071"
      },
      "execution_count": null,
      "outputs": [
        {
          "output_type": "stream",
          "name": "stdout",
          "text": [
            "137\n"
          ]
        }
      ]
    },
    {
      "cell_type": "code",
      "source": [
        "nr3 = np.random.randint(10,200, (4,6))\n",
        "print(nr3)"
      ],
      "metadata": {
        "colab": {
          "base_uri": "https://localhost:8080/"
        },
        "id": "wnn1evZwANkw",
        "outputId": "a5e75375-2ef0-4746-a200-356718a4ab3e"
      },
      "execution_count": null,
      "outputs": [
        {
          "output_type": "stream",
          "name": "stdout",
          "text": [
            "[[ 86 132  73  82 117 163]\n",
            " [ 68  52 191 191  91 198]\n",
            " [ 62  40 164  62  50 103]\n",
            " [129 170 195  80 193  51]]\n"
          ]
        }
      ]
    },
    {
      "cell_type": "code",
      "source": [
        "np.zeros((4,6))"
      ],
      "metadata": {
        "colab": {
          "base_uri": "https://localhost:8080/"
        },
        "id": "yWCW1StlAVU2",
        "outputId": "5891b955-e111-44a3-c68c-f97b2271fa4d"
      },
      "execution_count": null,
      "outputs": [
        {
          "output_type": "execute_result",
          "data": {
            "text/plain": [
              "array([[0., 0., 0., 0., 0., 0.],\n",
              "       [0., 0., 0., 0., 0., 0.],\n",
              "       [0., 0., 0., 0., 0., 0.],\n",
              "       [0., 0., 0., 0., 0., 0.]])"
            ]
          },
          "metadata": {},
          "execution_count": 152
        }
      ]
    },
    {
      "cell_type": "code",
      "source": [],
      "metadata": {
        "id": "lo2_XNFzAh8F"
      },
      "execution_count": null,
      "outputs": []
    }
  ]
}