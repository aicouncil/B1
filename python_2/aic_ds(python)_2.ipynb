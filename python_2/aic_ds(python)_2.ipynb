{
 "cells": [
  {
   "cell_type": "markdown",
   "id": "0953fb25-b976-4861-a89e-679df8f71883",
   "metadata": {},
   "source": [
    "**Conditional program to simulate logon activity**"
   ]
  },
  {
   "cell_type": "code",
   "execution_count": 8,
   "id": "0e767910-5b88-45f3-91fc-d73447d17fcd",
   "metadata": {},
   "outputs": [
    {
     "name": "stdin",
     "output_type": "stream",
     "text": [
      "Enter Your user ID admin\n",
      "Enter Your password sdfg\n"
     ]
    },
    {
     "name": "stdout",
     "output_type": "stream",
     "text": [
      "Incorrect Login crediantials\n"
     ]
    }
   ],
   "source": [
    "uid = input(\"Enter Your user ID\")\n",
    "upass = input(\"Enter Your password\")\n",
    "\n",
    "if uid == 'admin' and upass == 'password':\n",
    "    print(\"Login successfull\")\n",
    "else:\n",
    "    print('Incorrect Login crediantials')"
   ]
  },
  {
   "cell_type": "markdown",
   "id": "c3c39113-fc49-4092-b04c-9c8cd8635ab2",
   "metadata": {},
   "source": [
    "* Simulate a login activity like -\n",
    "\n",
    "    * User entered user id -> if user id is correct then only password will be asked\n",
    "    * if user id is incorrect then print- \"Invalid user\""
   ]
  },
  {
   "cell_type": "code",
   "execution_count": 15,
   "id": "2b10e7f8-0c3f-43fd-94bb-bc8b45fc9622",
   "metadata": {},
   "outputs": [
    {
     "name": "stdin",
     "output_type": "stream",
     "text": [
      "Enter Your user ID admin\n",
      "Enter Your password asdf\n"
     ]
    },
    {
     "name": "stdout",
     "output_type": "stream",
     "text": [
      "Incorrect password\n"
     ]
    }
   ],
   "source": [
    "#Nested if\n",
    "\n",
    "uid = input(\"Enter Your user ID\")\n",
    "\n",
    "if uid == 'admin':\n",
    "    upass = input(\"Enter Your password\")\n",
    "    if upass == 'password':\n",
    "        print('Login Successfull')\n",
    "    else:\n",
    "        print('Incorrect password')\n",
    "else:\n",
    "    print(\"Invalid user\")"
   ]
  },
  {
   "cell_type": "markdown",
   "id": "3d942a38-09c4-428c-aaea-48cc31785ea3",
   "metadata": {},
   "source": [
    "**Loops - For/While**"
   ]
  },
  {
   "cell_type": "code",
   "execution_count": 18,
   "id": "b9448cfe-0de3-4549-ba4b-293b9ef37dab",
   "metadata": {},
   "outputs": [
    {
     "name": "stdout",
     "output_type": "stream",
     "text": [
      "Hello World!\n",
      "Hello World!\n",
      "Hello World!\n",
      "Hello World!\n",
      "Hello World!\n"
     ]
    }
   ],
   "source": [
    "print(\"Hello World!\")\n",
    "print(\"Hello World!\")\n",
    "print(\"Hello World!\")\n",
    "print(\"Hello World!\")\n",
    "print(\"Hello World!\")"
   ]
  },
  {
   "cell_type": "code",
   "execution_count": 20,
   "id": "4b09ac20-77d0-4565-8f9e-47643feb8f8d",
   "metadata": {},
   "outputs": [
    {
     "name": "stdout",
     "output_type": "stream",
     "text": [
      "0 Hello World!\n",
      "1 Hello World!\n",
      "2 Hello World!\n",
      "3 Hello World!\n",
      "4 Hello World!\n"
     ]
    }
   ],
   "source": [
    "for i in range(0,5):\n",
    "    print(i, \"Hello World!\")"
   ]
  },
  {
   "cell_type": "code",
   "execution_count": 24,
   "id": "e19a6aa8-8faa-46be-8774-ef27d6696cad",
   "metadata": {},
   "outputs": [
    {
     "name": "stdout",
     "output_type": "stream",
     "text": [
      "0 Hello World!\n",
      "1 Hello World!\n",
      "2 Hello World!\n",
      "3 Hello World!\n",
      "4 Hello World!\n",
      "5 Hello World!\n",
      "6 Hello World!\n",
      "7 Hello World!\n"
     ]
    }
   ],
   "source": [
    "#break is to terminate a loop when condition matches\n",
    "for i in range(0,10):\n",
    "    print(i, \"Hello World!\")\n",
    "    if i == 7:\n",
    "        break"
   ]
  },
  {
   "cell_type": "code",
   "execution_count": 46,
   "id": "c3575c92-19f5-411c-b0b3-df4553a354c4",
   "metadata": {},
   "outputs": [
    {
     "name": "stdout",
     "output_type": "stream",
     "text": [
      "0 Hello World!\n",
      "1 Hello World!\n",
      "2 Hello World!\n",
      "3 Hello World!\n",
      "4 Hello World!\n",
      "5 Hello World!\n",
      "6 Hello World!\n",
      "8 Hello World!\n",
      "9 Hello World!\n"
     ]
    }
   ],
   "source": [
    "#continue will skip the next executions when the condition matches\n",
    "for i in range(0,10):\n",
    "    if i == 7:\n",
    "        continue\n",
    "    print(i, \"Hello World!\")"
   ]
  },
  {
   "cell_type": "code",
   "execution_count": 62,
   "id": "83945011-42fe-43f8-ad64-89174cf78a42",
   "metadata": {},
   "outputs": [
    {
     "name": "stdout",
     "output_type": "stream",
     "text": [
      "0 Hello World!\n",
      "1 Hello World!\n",
      "2 Hello World!\n",
      "3 Hello World!\n",
      "4 Hello World!\n",
      "5 Hello World!\n",
      "6 Hello World!\n",
      "7 Hello World!\n",
      "8 Hello World!\n",
      "9 Hello World!\n"
     ]
    }
   ],
   "source": [
    "for i in range(0,10):\n",
    "    print(i, \"Hello World!\")"
   ]
  },
  {
   "cell_type": "code",
   "execution_count": 61,
   "id": "c08e7d31-2af8-4df8-8dba-30e00e6e0c68",
   "metadata": {},
   "outputs": [
    {
     "name": "stdin",
     "output_type": "stream",
     "text": [
      "Enter Your user ID adkj\n",
      "Enter Your password sfg\n"
     ]
    },
    {
     "name": "stdout",
     "output_type": "stream",
     "text": [
      "Incorrect Login crediantials\n"
     ]
    },
    {
     "name": "stdin",
     "output_type": "stream",
     "text": [
      "Enter Your user ID admin\n",
      "Enter Your password password\n"
     ]
    },
    {
     "name": "stdout",
     "output_type": "stream",
     "text": [
      "Login successfull\n"
     ]
    }
   ],
   "source": [
    "\n",
    "for i in range(0,3):\n",
    "    uid = input(\"Enter Your user ID\")\n",
    "    upass = input(\"Enter Your password\")\n",
    "    \n",
    "    if uid == 'admin' and upass == 'password':\n",
    "        print(\"Login successfull\")\n",
    "        break\n",
    "    else:\n",
    "        print('Incorrect Login crediantials')"
   ]
  },
  {
   "cell_type": "code",
   "execution_count": 27,
   "id": "44c5977d-c9cc-4fb4-9709-b39d44f1fc06",
   "metadata": {},
   "outputs": [
    {
     "name": "stdout",
     "output_type": "stream",
     "text": [
      "0\n",
      "2\n",
      "4\n",
      "6\n",
      "8\n"
     ]
    }
   ],
   "source": [
    "#step size\n",
    "for i in range(0,10,2):\n",
    "    print(i)"
   ]
  },
  {
   "cell_type": "code",
   "execution_count": 29,
   "id": "0bbce6ce-8368-4a1b-b5bf-187b31250378",
   "metadata": {},
   "outputs": [
    {
     "name": "stdout",
     "output_type": "stream",
     "text": [
      "10\n",
      "9\n",
      "8\n",
      "7\n",
      "6\n",
      "5\n",
      "4\n",
      "3\n",
      "2\n",
      "1\n"
     ]
    }
   ],
   "source": [
    "for i in range(10,0,-1):\n",
    "    print(i)"
   ]
  },
  {
   "cell_type": "code",
   "execution_count": 30,
   "id": "1296790b-fb8d-4273-987b-3fe087e7463d",
   "metadata": {},
   "outputs": [],
   "source": [
    "#implementing loop on a list\n",
    "cities = ['Chennai', 'Hyderabaad', 'Mumbai', 'Mohali', 'Chandigarh', 'Coimbatore', 'Vizag', 'Delhi']"
   ]
  },
  {
   "cell_type": "code",
   "execution_count": 33,
   "id": "acac2897-68ad-41ed-b283-d633be5e4ec5",
   "metadata": {},
   "outputs": [
    {
     "name": "stdout",
     "output_type": "stream",
     "text": [
      "Chennai 7\n",
      "Hyderabaad 10\n",
      "Mumbai 6\n"
     ]
    }
   ],
   "source": [
    "print(cities[0] , len(cities[0]))\n",
    "print(cities[1] , len(cities[1]))\n",
    "print(cities[2] , len(cities[2]))"
   ]
  },
  {
   "cell_type": "code",
   "execution_count": 37,
   "id": "c826df57-56c6-4bb5-aeb5-248bbcf8bf93",
   "metadata": {},
   "outputs": [
    {
     "name": "stdout",
     "output_type": "stream",
     "text": [
      "Chennai 7\n",
      "Hyderabaad 10\n",
      "Mumbai 6\n",
      "Mohali 6\n",
      "Chandigarh 10\n",
      "Coimbatore 10\n",
      "Vizag 5\n",
      "Delhi 5\n"
     ]
    }
   ],
   "source": [
    "for i in range(0,len(cities)):\n",
    "    print(cities[i] , len(cities[i]))"
   ]
  },
  {
   "cell_type": "code",
   "execution_count": 39,
   "id": "7e15056c-ec36-4f2b-9b1e-a7284bc8b719",
   "metadata": {},
   "outputs": [
    {
     "name": "stdout",
     "output_type": "stream",
     "text": [
      "Chennai 7\n",
      "Hyderabaad 10\n",
      "Mumbai 6\n",
      "Mohali 6\n",
      "Chandigarh 10\n",
      "Coimbatore 10\n",
      "Vizag 5\n",
      "Delhi 5\n"
     ]
    }
   ],
   "source": [
    "cities = ['Chennai', 'Hyderabaad', 'Mumbai', 'Mohali', 'Chandigarh', 'Coimbatore', 'Vizag', 'Delhi']\n",
    "\n",
    "for city in cities:\n",
    "    print(city , len(city))"
   ]
  },
  {
   "cell_type": "code",
   "execution_count": 41,
   "id": "026c833c-3b8b-4269-bf5b-06499faf5f55",
   "metadata": {},
   "outputs": [
    {
     "name": "stdout",
     "output_type": "stream",
     "text": [
      "C C\n",
      "h H\n",
      "e E\n",
      "n N\n",
      "n N\n",
      "a A\n",
      "i I\n"
     ]
    }
   ],
   "source": [
    "city = 'Chennai'\n",
    "for char in city:\n",
    "    print(char , char.upper())"
   ]
  },
  {
   "cell_type": "code",
   "execution_count": 42,
   "id": "d341fc00-a828-4ab9-98b0-22f937cd977e",
   "metadata": {},
   "outputs": [
    {
     "name": "stdout",
     "output_type": "stream",
     "text": [
      "{'name': 'Pavan', 'age': 19, 'stream': 'electronics'}\n"
     ]
    }
   ],
   "source": [
    "student_details = {\"name\" : \"Pavan\",\n",
    "                   \"age\" : 19,\n",
    "                   \"stream\" : \"electronics\"}\n",
    "\n",
    "print(student_details)"
   ]
  },
  {
   "cell_type": "code",
   "execution_count": 44,
   "id": "ad2cbcc7-0992-4786-84fe-e309915a29d5",
   "metadata": {},
   "outputs": [
    {
     "name": "stdout",
     "output_type": "stream",
     "text": [
      "Pavan\n",
      "19\n",
      "electronics\n"
     ]
    }
   ],
   "source": [
    "for detail in student_details:\n",
    "    print(student_details[detail])"
   ]
  },
  {
   "cell_type": "code",
   "execution_count": 47,
   "id": "4c85ee38-5dfe-409e-bed9-32d5bd9dd745",
   "metadata": {},
   "outputs": [
    {
     "name": "stdout",
     "output_type": "stream",
     "text": [
      "1\n",
      "2\n",
      "3\n",
      "4\n",
      "5\n",
      "6\n",
      "7\n",
      "8\n"
     ]
    }
   ],
   "source": [
    "for i in range(1,9):     #intial index = 1, number of steps = 8 , 1+8 = 9\n",
    "    print(i)"
   ]
  },
  {
   "cell_type": "code",
   "execution_count": 49,
   "id": "db753d1a-abda-4520-861c-7e7566b894d2",
   "metadata": {},
   "outputs": [
    {
     "name": "stdout",
     "output_type": "stream",
     "text": [
      "6\n",
      "5\n",
      "4\n",
      "8\n",
      "5\n",
      "9\n",
      "4\n"
     ]
    }
   ],
   "source": [
    "numbers = 6548594\n",
    "\n",
    "for i in str(numbers):\n",
    "    print(i)"
   ]
  },
  {
   "cell_type": "code",
   "execution_count": 50,
   "id": "90626ea5-86ac-405a-8bbd-9f076b3be85e",
   "metadata": {},
   "outputs": [
    {
     "name": "stdout",
     "output_type": "stream",
     "text": [
      "10\n",
      "9\n",
      "8\n",
      "7\n",
      "6\n",
      "5\n",
      "4\n",
      "3\n",
      "2\n",
      "1\n"
     ]
    }
   ],
   "source": [
    "for i in range(10,0,-1):             #10 - 0 = 10 steps\n",
    "    print(i)"
   ]
  },
  {
   "cell_type": "code",
   "execution_count": 51,
   "id": "e92d4943-e2cf-41fa-8a74-0bd236b6bbcf",
   "metadata": {},
   "outputs": [
    {
     "name": "stdout",
     "output_type": "stream",
     "text": [
      "10\n",
      "9\n",
      "8\n",
      "7\n",
      "6\n",
      "5\n",
      "4\n",
      "3\n",
      "2\n"
     ]
    }
   ],
   "source": [
    "for i in range(10,1,-1):             #10 - 1 = 9 steps\n",
    "    print(i)"
   ]
  },
  {
   "cell_type": "markdown",
   "id": "10b0b569-86fb-4124-98a6-b4fde9f1b33b",
   "metadata": {},
   "source": [
    "**While loop**"
   ]
  },
  {
   "cell_type": "code",
   "execution_count": 54,
   "id": "ad6fc9a5-bbe0-467d-8298-ee46dce09b2b",
   "metadata": {},
   "outputs": [
    {
     "name": "stdout",
     "output_type": "stream",
     "text": [
      "Hello World\n"
     ]
    }
   ],
   "source": [
    "i = 0\n",
    "if i < 5:\n",
    "    print(\"Hello World\")"
   ]
  },
  {
   "cell_type": "code",
   "execution_count": 56,
   "id": "543c7bf3-5a58-4575-a49e-fe73782ebe92",
   "metadata": {},
   "outputs": [
    {
     "name": "stdout",
     "output_type": "stream",
     "text": [
      "Hello World\n",
      "Hello World\n",
      "Hello World\n",
      "Hello World\n",
      "Hello World\n"
     ]
    }
   ],
   "source": [
    "i = 0\n",
    "while i < 5:\n",
    "    print(\"Hello World\")\n",
    "    i = i + 1"
   ]
  },
  {
   "cell_type": "code",
   "execution_count": 57,
   "id": "53307ece-b13b-445e-96e1-6f5f5ab54991",
   "metadata": {},
   "outputs": [
    {
     "name": "stdin",
     "output_type": "stream",
     "text": [
      "Enter Your user ID admin\n",
      "Enter Your password pass\n"
     ]
    },
    {
     "name": "stdout",
     "output_type": "stream",
     "text": [
      "Incorrect Login crediantials\n"
     ]
    },
    {
     "name": "stdin",
     "output_type": "stream",
     "text": [
      "Enter Your user ID admin\n",
      "Enter Your password password\n"
     ]
    },
    {
     "name": "stdout",
     "output_type": "stream",
     "text": [
      "Login successfull\n"
     ]
    }
   ],
   "source": [
    "i = 0\n",
    "while i < 3:\n",
    "    uid = input(\"Enter Your user ID\")\n",
    "    upass = input(\"Enter Your password\")\n",
    "    \n",
    "    if uid == 'admin' and upass == 'password':\n",
    "        print(\"Login successfull\")\n",
    "        break\n",
    "    else:\n",
    "        print('Incorrect Login crediantials')\n",
    "    i = i + 1"
   ]
  },
  {
   "cell_type": "code",
   "execution_count": 58,
   "id": "bd950a84-5cfc-4d9b-8a6e-31838ea3d785",
   "metadata": {},
   "outputs": [
    {
     "name": "stdin",
     "output_type": "stream",
     "text": [
      "Enter Your user ID admin\n",
      "Enter Your password passwo\n"
     ]
    },
    {
     "name": "stdout",
     "output_type": "stream",
     "text": [
      "Incorrect Login crediantials\n"
     ]
    },
    {
     "name": "stdin",
     "output_type": "stream",
     "text": [
      "Enter Your user ID adbjk\n",
      "Enter Your password bhjk\n"
     ]
    },
    {
     "name": "stdout",
     "output_type": "stream",
     "text": [
      "Incorrect Login crediantials\n"
     ]
    },
    {
     "name": "stdin",
     "output_type": "stream",
     "text": [
      "Enter Your user ID fghjk\n",
      "Enter Your password vbhnj\n"
     ]
    },
    {
     "name": "stdout",
     "output_type": "stream",
     "text": [
      "Incorrect Login crediantials\n"
     ]
    },
    {
     "name": "stdin",
     "output_type": "stream",
     "text": [
      "Enter Your user ID admin\n",
      "Enter Your password password\n"
     ]
    },
    {
     "name": "stdout",
     "output_type": "stream",
     "text": [
      "Login successfull\n"
     ]
    }
   ],
   "source": [
    "while True:\n",
    "    uid = input(\"Enter Your user ID\")\n",
    "    upass = input(\"Enter Your password\")\n",
    "    \n",
    "    if uid == 'admin' and upass == 'password':\n",
    "        print(\"Login successfull\")\n",
    "        break\n",
    "    else:\n",
    "        print('Incorrect Login crediantials')"
   ]
  },
  {
   "cell_type": "code",
   "execution_count": 4,
   "id": "6ee51ebe-3312-457c-9d42-d0d6a1ffc050",
   "metadata": {},
   "outputs": [
    {
     "name": "stdout",
     "output_type": "stream",
     "text": [
      "4\n",
      "8\n",
      "9\n"
     ]
    }
   ],
   "source": [
    "a,b,c = 4,8,9\n",
    "print(a)\n",
    "print(b)\n",
    "print(c)"
   ]
  },
  {
   "cell_type": "code",
   "execution_count": 3,
   "id": "fe285874-164e-427a-a4f2-e4a41af036cf",
   "metadata": {},
   "outputs": [
    {
     "name": "stdin",
     "output_type": "stream",
     "text": [
      "Enter Your user ID admin\n",
      "Enter Your password fghj\n",
      "Enter Your user ID dfgh\n",
      "Enter Your password vbh\n",
      "Enter Your user ID admin\n",
      "Enter Your password password\n"
     ]
    },
    {
     "name": "stdout",
     "output_type": "stream",
     "text": [
      "Login Successfull\n"
     ]
    }
   ],
   "source": [
    "uid,upass = '',''\n",
    "while uid != 'admin' or upass != 'password':\n",
    "    uid = input(\"Enter Your user ID\")\n",
    "    upass = input(\"Enter Your password\")\n",
    "else:\n",
    "    print('Login Successfull')"
   ]
  },
  {
   "cell_type": "code",
   "execution_count": 63,
   "id": "ce33c63e-f481-452a-bf30-a2a17f95e5fe",
   "metadata": {},
   "outputs": [
    {
     "name": "stdout",
     "output_type": "stream",
     "text": [
      "['Mumbai', 'Mohali', 'Chandigarh', 'Coimbatore']\n"
     ]
    }
   ],
   "source": [
    "cities = ['Chennai', 'Hyderabaad', 'Mumbai', 'Mohali', 'Chandigarh', 'Coimbatore', 'Vizag', 'Delhi']\n",
    "\n",
    "print(cities[2:6])"
   ]
  },
  {
   "cell_type": "markdown",
   "id": "c442a9eb-e0df-42e5-a26b-c4338e1921be",
   "metadata": {},
   "source": [
    "**Functions**\n",
    "\n",
    "    * Reuseable piece of logic defined within a enclosed block of code"
   ]
  },
  {
   "cell_type": "code",
   "execution_count": 65,
   "id": "440b2302-e608-49dc-ac3d-30450f14c77a",
   "metadata": {},
   "outputs": [],
   "source": [
    "#f(x) = x + 3\n",
    "\n",
    "def new_func(x):\n",
    "    print(x + 3)"
   ]
  },
  {
   "cell_type": "code",
   "execution_count": 68,
   "id": "118b82e6-50c9-4685-8224-4836005de8d5",
   "metadata": {},
   "outputs": [
    {
     "name": "stdout",
     "output_type": "stream",
     "text": [
      "10\n",
      "12\n",
      "45681\n"
     ]
    }
   ],
   "source": [
    "new_func(7)\n",
    "new_func(9)\n",
    "new_func(45678)"
   ]
  },
  {
   "cell_type": "code",
   "execution_count": 112,
   "id": "5b1c6add-81fd-42ba-aae2-865ea17a6d7b",
   "metadata": {},
   "outputs": [
    {
     "name": "stdout",
     "output_type": "stream",
     "text": [
      "10\n",
      "None\n"
     ]
    }
   ],
   "source": [
    "output = new_func(7)\n",
    "print(output)"
   ]
  },
  {
   "cell_type": "code",
   "execution_count": 76,
   "id": "4fb87554-4137-4a1d-9d48-4a4bea692e19",
   "metadata": {},
   "outputs": [],
   "source": [
    "def add_nums(x,y):\n",
    "    z = x + y\n",
    "    print(z)"
   ]
  },
  {
   "cell_type": "code",
   "execution_count": 78,
   "id": "adfd7998-55ef-4db2-a931-9e3fa3daeea7",
   "metadata": {},
   "outputs": [
    {
     "name": "stdout",
     "output_type": "stream",
     "text": [
      "11\n",
      "Hello World\n",
      "6\n",
      "I am learning Python\n",
      "10\n",
      "Python is really a fun\n",
      "21\n"
     ]
    }
   ],
   "source": [
    "add_nums(8,3)\n",
    "print(\"Hello World\")\n",
    "add_nums(4,2)\n",
    "print(\"I am learning Python\")\n",
    "add_nums(9,1)\n",
    "print(\"Python is really a fun\")\n",
    "add_nums(12,9)"
   ]
  },
  {
   "cell_type": "code",
   "execution_count": 79,
   "id": "c9ebd96c-4711-4605-9466-c694f7e93200",
   "metadata": {},
   "outputs": [],
   "source": [
    "#create function to identify a given number as a even or odd\n",
    "\n",
    "def even_or_odd(x):\n",
    "   if (x % 2) == 0:\n",
    "       print(x , \"is even\")\n",
    "   else:\n",
    "       print(x , \"is odd\")"
   ]
  },
  {
   "cell_type": "code",
   "execution_count": 80,
   "id": "a067c936-138d-4a9d-8091-54524ebcf807",
   "metadata": {},
   "outputs": [
    {
     "name": "stdout",
     "output_type": "stream",
     "text": [
      "7 is odd\n",
      "72 is even\n",
      "17 is odd\n",
      "721 is odd\n"
     ]
    }
   ],
   "source": [
    "even_or_odd(7)\n",
    "even_or_odd(72)\n",
    "even_or_odd(17)\n",
    "even_or_odd(721)"
   ]
  },
  {
   "cell_type": "code",
   "execution_count": 97,
   "id": "7d2e4194-7f7c-4cdd-b7f6-acfdd15a8a5c",
   "metadata": {},
   "outputs": [],
   "source": [
    "#Create a function whuch can accept a age as a nymeric value and print(\"Having voting Rights\") if age> 18\n",
    "\n",
    "def voting(name, age):\n",
    "    if age >= 18:\n",
    "        print(\"Hello\" , name , \",You have the voting right\")\n",
    "    else:\n",
    "        print(\"Hello\" , name , \",You don't have the voting right\")"
   ]
  },
  {
   "cell_type": "code",
   "execution_count": 98,
   "id": "61f0bcf4-95c5-43d9-99fb-25636b07a118",
   "metadata": {},
   "outputs": [
    {
     "name": "stdout",
     "output_type": "stream",
     "text": [
      "Hello Raj ,You have the voting right\n",
      "Hello Ajay ,You don't have the voting right\n",
      "Hello Ramesh ,You don't have the voting right\n",
      "Hello Radha ,You have the voting right\n"
     ]
    }
   ],
   "source": [
    "voting(\"Raj\" , 22)\n",
    "voting(\"Ajay\" , 17)\n",
    "voting(\"Ramesh\" , 12)\n",
    "voting(\"Radha\" , 19)"
   ]
  },
  {
   "cell_type": "code",
   "execution_count": 92,
   "id": "94ad9b6f-8b3f-4f2b-871e-24ad01530b59",
   "metadata": {},
   "outputs": [
    {
     "name": "stdin",
     "output_type": "stream",
     "text": [
      "enter your age 19\n"
     ]
    },
    {
     "name": "stdout",
     "output_type": "stream",
     "text": [
      "True\n"
     ]
    }
   ],
   "source": [
    "age = float(input(\"enter your age\"))\n",
    "print(age > 18)"
   ]
  },
  {
   "cell_type": "code",
   "execution_count": 93,
   "id": "90836834-73ce-44bf-837e-8d0c6634409a",
   "metadata": {},
   "outputs": [
    {
     "name": "stdin",
     "output_type": "stream",
     "text": [
      "enter your age 19\n"
     ]
    },
    {
     "name": "stdout",
     "output_type": "stream",
     "text": [
      "you are eligible for voting\n"
     ]
    }
   ],
   "source": [
    "def voting():\n",
    " age=float(input(\"enter your age\"))\n",
    " if age>18:\n",
    "  print(\"you are eligible for voting\")\n",
    " else:\n",
    "  print(\"you are not eligible for voting\")\n",
    "\n",
    "voting()"
   ]
  },
  {
   "cell_type": "code",
   "execution_count": 99,
   "id": "224cf944-adc9-49e8-bbd2-1f69c7751d2c",
   "metadata": {},
   "outputs": [],
   "source": [
    "#create a function which can be used to check login once user entered the credentials\n",
    "\n",
    "def login(uid,upass):\n",
    "    if uid == 'admin' and upass == 'password':\n",
    "        print(\"Login successfull\")\n",
    "    else:\n",
    "        print('Incorrect Login crediantials')"
   ]
  },
  {
   "cell_type": "code",
   "execution_count": 100,
   "id": "ebc0ae3f-43e0-4ac5-a031-bbf13b712f5d",
   "metadata": {},
   "outputs": [
    {
     "name": "stdin",
     "output_type": "stream",
     "text": [
      "Enter User id admin\n",
      "Enter your password password\n"
     ]
    },
    {
     "name": "stdout",
     "output_type": "stream",
     "text": [
      "Login successfull\n"
     ]
    }
   ],
   "source": [
    "user_id = input(\"Enter User id\")\n",
    "user_pass = input(\"Enter your password\")\n",
    "\n",
    "login(user_id,user_pass)"
   ]
  },
  {
   "cell_type": "code",
   "execution_count": 101,
   "id": "a8258d9d-034b-469f-9b0d-8a168f2d5ed7",
   "metadata": {},
   "outputs": [
    {
     "name": "stdin",
     "output_type": "stream",
     "text": [
      "Enter User id adfg\n",
      "Enter your password sdfgh\n"
     ]
    },
    {
     "name": "stdout",
     "output_type": "stream",
     "text": [
      "Incorrect Login crediantials\n"
     ]
    }
   ],
   "source": [
    "user_id = input(\"Enter User id\")\n",
    "user_pass = input(\"Enter your password\")\n",
    "\n",
    "login(user_id,user_pass)"
   ]
  },
  {
   "cell_type": "markdown",
   "id": "8781542a-9d86-44fe-8806-ebc2eb1b8d28",
   "metadata": {},
   "source": [
    "**Return Type Functions**"
   ]
  },
  {
   "cell_type": "code",
   "execution_count": 104,
   "id": "b5c3e46c-1057-4b81-ba97-e03b033b8f05",
   "metadata": {},
   "outputs": [
    {
     "name": "stdout",
     "output_type": "stream",
     "text": [
      "32\n"
     ]
    }
   ],
   "source": [
    "a = 16\n",
    "print(a * 2)"
   ]
  },
  {
   "cell_type": "code",
   "execution_count": 108,
   "id": "091b9f0c-7a37-4924-b030-44dafcb3670f",
   "metadata": {},
   "outputs": [],
   "source": [
    "def add_nums(x,y):\n",
    "    z = x + y\n",
    "    return z"
   ]
  },
  {
   "cell_type": "code",
   "execution_count": 109,
   "id": "3f4301f5-8ea1-458d-a012-5b3e6fd096ed",
   "metadata": {},
   "outputs": [
    {
     "data": {
      "text/plain": [
       "16"
      ]
     },
     "execution_count": 109,
     "metadata": {},
     "output_type": "execute_result"
    }
   ],
   "source": [
    "add_nums(7,9)"
   ]
  },
  {
   "cell_type": "code",
   "execution_count": 111,
   "id": "d456f2d6-77b8-46aa-bd64-350806fe9075",
   "metadata": {},
   "outputs": [
    {
     "name": "stdout",
     "output_type": "stream",
     "text": [
      "16\n"
     ]
    }
   ],
   "source": [
    "result = add_nums(7,9)\n",
    "print(result)"
   ]
  },
  {
   "cell_type": "code",
   "execution_count": 110,
   "id": "0184e625-781f-4ea8-a3b7-371a5b89546f",
   "metadata": {},
   "outputs": [
    {
     "data": {
      "text/plain": [
       "32"
      ]
     },
     "execution_count": 110,
     "metadata": {},
     "output_type": "execute_result"
    }
   ],
   "source": [
    "add_nums(7,9) * 2"
   ]
  },
  {
   "cell_type": "code",
   "execution_count": null,
   "id": "e3831c6b-53c3-402f-933e-8250e4cd799a",
   "metadata": {},
   "outputs": [],
   "source": [
    "'''\n",
    "Modify this login function to return True or False\n",
    "\n",
    "def login(uid,upass):\n",
    "    if uid == 'admin' and upass == 'password':\n",
    "        print(\"Login successfull\")\n",
    "    else:\n",
    "        print('Incorrect Login crediantials')\n",
    "\n",
    "'''"
   ]
  },
  {
   "cell_type": "code",
   "execution_count": 113,
   "id": "2abad44d-5ac0-4d72-86eb-80295bd0630f",
   "metadata": {},
   "outputs": [],
   "source": [
    "def login(uid,upass):\n",
    "    if uid == 'admin' and upass == 'password':\n",
    "        return True\n",
    "    else:\n",
    "        return False"
   ]
  },
  {
   "cell_type": "code",
   "execution_count": 116,
   "id": "187711a7-1bf3-46bc-ae28-20d13a777a48",
   "metadata": {},
   "outputs": [
    {
     "name": "stdin",
     "output_type": "stream",
     "text": [
      "Enter User id admin\n",
      "Enter your password password\n"
     ]
    },
    {
     "name": "stdout",
     "output_type": "stream",
     "text": [
      "Your login is successfull\n"
     ]
    }
   ],
   "source": [
    "user_id = input(\"Enter User id\")\n",
    "user_pass = input(\"Enter your password\")\n",
    "\n",
    "if login(user_id,user_pass) == True:\n",
    "    print(\"Your login is successfull\")\n",
    "else:\n",
    "    print(\"Your login is not successfull\")"
   ]
  },
  {
   "cell_type": "code",
   "execution_count": 117,
   "id": "c13751a9-5086-4fd9-bda0-ff6299ffbe39",
   "metadata": {},
   "outputs": [
    {
     "name": "stdin",
     "output_type": "stream",
     "text": [
      "Enter User id sdfg\n",
      "Enter your password fghj\n"
     ]
    },
    {
     "name": "stdout",
     "output_type": "stream",
     "text": [
      "Your can't download the file now\n"
     ]
    }
   ],
   "source": [
    "user_id = input(\"Enter User id\")\n",
    "user_pass = input(\"Enter your password\")\n",
    "\n",
    "if login(user_id,user_pass) == True:\n",
    "    print(\"Your can download the file now\")\n",
    "else:\n",
    "    print(\"Your can't download the file now\")"
   ]
  },
  {
   "cell_type": "code",
   "execution_count": 134,
   "id": "342da0a3-4a0c-417f-85c5-ec002c8e7b2e",
   "metadata": {},
   "outputs": [],
   "source": [
    "#Create a function to comapre two values passed as a arguments and return the largest one\n",
    "\n",
    "def compare(x,y=1):\n",
    "    if x > y:\n",
    "        return x\n",
    "    else:\n",
    "        return y"
   ]
  },
  {
   "cell_type": "code",
   "execution_count": 135,
   "id": "e7457931-deb8-4168-9002-5c850d852c6a",
   "metadata": {},
   "outputs": [
    {
     "name": "stdout",
     "output_type": "stream",
     "text": [
      "The largest of all numbers you entered is 6\n"
     ]
    }
   ],
   "source": [
    "result1 = compare(6,3)\n",
    "print(\"The largest of all numbers you entered is\" , result1)"
   ]
  },
  {
   "cell_type": "code",
   "execution_count": 136,
   "id": "5843bd5c-d2ef-444d-a49e-2b92f493c9d4",
   "metadata": {},
   "outputs": [
    {
     "name": "stdout",
     "output_type": "stream",
     "text": [
      "The largest of all numbers you entered is 9\n"
     ]
    }
   ],
   "source": [
    "result2 = compare(1,9)\n",
    "print(\"The largest of all numbers you entered is\" , result2)"
   ]
  },
  {
   "cell_type": "code",
   "execution_count": 137,
   "id": "30dd8f13-08e0-4d37-a5a7-c2419e362032",
   "metadata": {},
   "outputs": [
    {
     "name": "stdout",
     "output_type": "stream",
     "text": [
      "11\n"
     ]
    }
   ],
   "source": [
    "result3 = compare(11)\n",
    "print(result3)"
   ]
  },
  {
   "cell_type": "code",
   "execution_count": 170,
   "id": "84488555-5460-4864-90d3-140782f42146",
   "metadata": {},
   "outputs": [],
   "source": [
    "def add_numbers(x=0,y=0,z=0):\n",
    "    return x + y + z"
   ]
  },
  {
   "cell_type": "code",
   "execution_count": 171,
   "id": "e0d9abfd-7b03-4ed5-8b79-7208985c56e0",
   "metadata": {},
   "outputs": [
    {
     "data": {
      "text/plain": [
       "13"
      ]
     },
     "execution_count": 171,
     "metadata": {},
     "output_type": "execute_result"
    }
   ],
   "source": [
    "add_numbers(6,3,4)"
   ]
  },
  {
   "cell_type": "code",
   "execution_count": 172,
   "id": "ec83cfac-3744-4942-afc0-5de6a144f9b3",
   "metadata": {},
   "outputs": [
    {
     "data": {
      "text/plain": [
       "9"
      ]
     },
     "execution_count": 172,
     "metadata": {},
     "output_type": "execute_result"
    }
   ],
   "source": [
    "add_numbers(6,3)"
   ]
  },
  {
   "cell_type": "code",
   "execution_count": 173,
   "id": "97f42d1e-2e26-43b1-a6ac-19d7db15b081",
   "metadata": {},
   "outputs": [
    {
     "data": {
      "text/plain": [
       "6"
      ]
     },
     "execution_count": 173,
     "metadata": {},
     "output_type": "execute_result"
    }
   ],
   "source": [
    "add_numbers(6)"
   ]
  },
  {
   "cell_type": "code",
   "execution_count": 174,
   "id": "8e51e0d6-5126-4883-bf50-df7db3af4e28",
   "metadata": {},
   "outputs": [
    {
     "data": {
      "text/plain": [
       "0"
      ]
     },
     "execution_count": 174,
     "metadata": {},
     "output_type": "execute_result"
    }
   ],
   "source": [
    "add_numbers()"
   ]
  },
  {
   "cell_type": "code",
   "execution_count": 175,
   "id": "dcec9866-4ce9-4805-b78e-b65df8a98715",
   "metadata": {},
   "outputs": [
    {
     "data": {
      "text/plain": [
       "0"
      ]
     },
     "execution_count": 175,
     "metadata": {},
     "output_type": "execute_result"
    }
   ],
   "source": [
    "add_numbers()"
   ]
  },
  {
   "cell_type": "code",
   "execution_count": 9,
   "id": "3e83167a-bc59-458e-a589-b2a77c99f106",
   "metadata": {},
   "outputs": [],
   "source": [
    "#create function to identify a given number as a even or odd\n",
    "\n",
    "def even_or_odd(x):\n",
    "   if (float(x) % 2) == 0:\n",
    "       print(x , \"is even\")\n",
    "   else:\n",
    "       print(x , \"is odd\")"
   ]
  },
  {
   "cell_type": "code",
   "execution_count": 11,
   "id": "d0673abe-1be9-4d83-a349-efc4d25d714c",
   "metadata": {},
   "outputs": [
    {
     "name": "stdin",
     "output_type": "stream",
     "text": [
      "Enter a number to check 76\n"
     ]
    },
    {
     "name": "stdout",
     "output_type": "stream",
     "text": [
      "76 is even\n"
     ]
    }
   ],
   "source": [
    "num = input(\"Enter a number to check\")\n",
    "even_or_odd(num)"
   ]
  },
  {
   "cell_type": "code",
   "execution_count": 12,
   "id": "9c03a88e-4b76-48b8-989b-3f99004aee02",
   "metadata": {},
   "outputs": [
    {
     "name": "stdin",
     "output_type": "stream",
     "text": [
      "Enter a number to check 65\n"
     ]
    },
    {
     "name": "stdout",
     "output_type": "stream",
     "text": [
      "65 is odd\n"
     ]
    }
   ],
   "source": [
    "num = input(\"Enter a number to check\")\n",
    "even_or_odd(num)"
   ]
  },
  {
   "cell_type": "code",
   "execution_count": null,
   "id": "ec63908d-4ca1-4075-b345-edd99868a2fc",
   "metadata": {},
   "outputs": [],
   "source": []
  }
 ],
 "metadata": {
  "kernelspec": {
   "display_name": "Python 3 (ipykernel)",
   "language": "python",
   "name": "python3"
  },
  "language_info": {
   "codemirror_mode": {
    "name": "ipython",
    "version": 3
   },
   "file_extension": ".py",
   "mimetype": "text/x-python",
   "name": "python",
   "nbconvert_exporter": "python",
   "pygments_lexer": "ipython3",
   "version": "3.10.0"
  }
 },
 "nbformat": 4,
 "nbformat_minor": 5
}
