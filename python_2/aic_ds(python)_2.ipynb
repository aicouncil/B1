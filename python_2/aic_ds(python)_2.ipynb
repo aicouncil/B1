{
 "cells": [
  {
   "cell_type": "markdown",
   "id": "0953fb25-b976-4861-a89e-679df8f71883",
   "metadata": {},
   "source": [
    "**Conditional program to simulate logon activity**"
   ]
  },
  {
   "cell_type": "code",
   "execution_count": 8,
   "id": "0e767910-5b88-45f3-91fc-d73447d17fcd",
   "metadata": {},
   "outputs": [
    {
     "name": "stdin",
     "output_type": "stream",
     "text": [
      "Enter Your user ID admin\n",
      "Enter Your password sdfg\n"
     ]
    },
    {
     "name": "stdout",
     "output_type": "stream",
     "text": [
      "Incorrect Login crediantials\n"
     ]
    }
   ],
   "source": [
    "uid = input(\"Enter Your user ID\")\n",
    "upass = input(\"Enter Your password\")\n",
    "\n",
    "if uid == 'admin' and upass == 'password':\n",
    "    print(\"Login successfull\")\n",
    "else:\n",
    "    print('Incorrect Login crediantials')"
   ]
  },
  {
   "cell_type": "markdown",
   "id": "c3c39113-fc49-4092-b04c-9c8cd8635ab2",
   "metadata": {},
   "source": [
    "* Simulate a login activity like -\n",
    "\n",
    "    * User entered user id -> if user id is correct then only password will be asked\n",
    "    * if user id is incorrect then print- \"Invalid user\""
   ]
  },
  {
   "cell_type": "code",
   "execution_count": 15,
   "id": "2b10e7f8-0c3f-43fd-94bb-bc8b45fc9622",
   "metadata": {},
   "outputs": [
    {
     "name": "stdin",
     "output_type": "stream",
     "text": [
      "Enter Your user ID admin\n",
      "Enter Your password asdf\n"
     ]
    },
    {
     "name": "stdout",
     "output_type": "stream",
     "text": [
      "Incorrect password\n"
     ]
    }
   ],
   "source": [
    "#Nested if\n",
    "\n",
    "uid = input(\"Enter Your user ID\")\n",
    "\n",
    "if uid == 'admin':\n",
    "    upass = input(\"Enter Your password\")\n",
    "    if upass == 'password':\n",
    "        print('Login Successfull')\n",
    "    else:\n",
    "        print('Incorrect password')\n",
    "else:\n",
    "    print(\"Invalid user\")"
   ]
  },
  {
   "cell_type": "markdown",
   "id": "3d942a38-09c4-428c-aaea-48cc31785ea3",
   "metadata": {},
   "source": [
    "**Loops - For/While**"
   ]
  },
  {
   "cell_type": "code",
   "execution_count": 18,
   "id": "b9448cfe-0de3-4549-ba4b-293b9ef37dab",
   "metadata": {},
   "outputs": [
    {
     "name": "stdout",
     "output_type": "stream",
     "text": [
      "Hello World!\n",
      "Hello World!\n",
      "Hello World!\n",
      "Hello World!\n",
      "Hello World!\n"
     ]
    }
   ],
   "source": [
    "print(\"Hello World!\")\n",
    "print(\"Hello World!\")\n",
    "print(\"Hello World!\")\n",
    "print(\"Hello World!\")\n",
    "print(\"Hello World!\")"
   ]
  },
  {
   "cell_type": "code",
   "execution_count": 20,
   "id": "4b09ac20-77d0-4565-8f9e-47643feb8f8d",
   "metadata": {},
   "outputs": [
    {
     "name": "stdout",
     "output_type": "stream",
     "text": [
      "0 Hello World!\n",
      "1 Hello World!\n",
      "2 Hello World!\n",
      "3 Hello World!\n",
      "4 Hello World!\n"
     ]
    }
   ],
   "source": [
    "for i in range(0,5):\n",
    "    print(i, \"Hello World!\")"
   ]
  },
  {
   "cell_type": "code",
   "execution_count": 24,
   "id": "e19a6aa8-8faa-46be-8774-ef27d6696cad",
   "metadata": {},
   "outputs": [
    {
     "name": "stdout",
     "output_type": "stream",
     "text": [
      "0 Hello World!\n",
      "1 Hello World!\n",
      "2 Hello World!\n",
      "3 Hello World!\n",
      "4 Hello World!\n",
      "5 Hello World!\n",
      "6 Hello World!\n",
      "7 Hello World!\n"
     ]
    }
   ],
   "source": [
    "#break is to terminate a loop when condition matches\n",
    "for i in range(0,10):\n",
    "    print(i, \"Hello World!\")\n",
    "    if i == 7:\n",
    "        break"
   ]
  },
  {
   "cell_type": "code",
   "execution_count": 46,
   "id": "c3575c92-19f5-411c-b0b3-df4553a354c4",
   "metadata": {},
   "outputs": [
    {
     "name": "stdout",
     "output_type": "stream",
     "text": [
      "0 Hello World!\n",
      "1 Hello World!\n",
      "2 Hello World!\n",
      "3 Hello World!\n",
      "4 Hello World!\n",
      "5 Hello World!\n",
      "6 Hello World!\n",
      "8 Hello World!\n",
      "9 Hello World!\n"
     ]
    }
   ],
   "source": [
    "#continue will skip the next executions when the condition matches\n",
    "for i in range(0,10):\n",
    "    if i == 7:\n",
    "        continue\n",
    "    print(i, \"Hello World!\")"
   ]
  },
  {
   "cell_type": "code",
   "execution_count": 62,
   "id": "83945011-42fe-43f8-ad64-89174cf78a42",
   "metadata": {},
   "outputs": [
    {
     "name": "stdout",
     "output_type": "stream",
     "text": [
      "0 Hello World!\n",
      "1 Hello World!\n",
      "2 Hello World!\n",
      "3 Hello World!\n",
      "4 Hello World!\n",
      "5 Hello World!\n",
      "6 Hello World!\n",
      "7 Hello World!\n",
      "8 Hello World!\n",
      "9 Hello World!\n"
     ]
    }
   ],
   "source": [
    "for i in range(0,10):\n",
    "    print(i, \"Hello World!\")"
   ]
  },
  {
   "cell_type": "code",
   "execution_count": 61,
   "id": "c08e7d31-2af8-4df8-8dba-30e00e6e0c68",
   "metadata": {},
   "outputs": [
    {
     "name": "stdin",
     "output_type": "stream",
     "text": [
      "Enter Your user ID adkj\n",
      "Enter Your password sfg\n"
     ]
    },
    {
     "name": "stdout",
     "output_type": "stream",
     "text": [
      "Incorrect Login crediantials\n"
     ]
    },
    {
     "name": "stdin",
     "output_type": "stream",
     "text": [
      "Enter Your user ID admin\n",
      "Enter Your password password\n"
     ]
    },
    {
     "name": "stdout",
     "output_type": "stream",
     "text": [
      "Login successfull\n"
     ]
    }
   ],
   "source": [
    "\n",
    "for i in range(0,3):\n",
    "    uid = input(\"Enter Your user ID\")\n",
    "    upass = input(\"Enter Your password\")\n",
    "    \n",
    "    if uid == 'admin' and upass == 'password':\n",
    "        print(\"Login successfull\")\n",
    "        break\n",
    "    else:\n",
    "        print('Incorrect Login crediantials')"
   ]
  },
  {
   "cell_type": "code",
   "execution_count": 27,
   "id": "44c5977d-c9cc-4fb4-9709-b39d44f1fc06",
   "metadata": {},
   "outputs": [
    {
     "name": "stdout",
     "output_type": "stream",
     "text": [
      "0\n",
      "2\n",
      "4\n",
      "6\n",
      "8\n"
     ]
    }
   ],
   "source": [
    "#step size\n",
    "for i in range(0,10,2):\n",
    "    print(i)"
   ]
  },
  {
   "cell_type": "code",
   "execution_count": 29,
   "id": "0bbce6ce-8368-4a1b-b5bf-187b31250378",
   "metadata": {},
   "outputs": [
    {
     "name": "stdout",
     "output_type": "stream",
     "text": [
      "10\n",
      "9\n",
      "8\n",
      "7\n",
      "6\n",
      "5\n",
      "4\n",
      "3\n",
      "2\n",
      "1\n"
     ]
    }
   ],
   "source": [
    "for i in range(10,0,-1):\n",
    "    print(i)"
   ]
  },
  {
   "cell_type": "code",
   "execution_count": 30,
   "id": "1296790b-fb8d-4273-987b-3fe087e7463d",
   "metadata": {},
   "outputs": [],
   "source": [
    "#implementing loop on a list\n",
    "cities = ['Chennai', 'Hyderabaad', 'Mumbai', 'Mohali', 'Chandigarh', 'Coimbatore', 'Vizag', 'Delhi']"
   ]
  },
  {
   "cell_type": "code",
   "execution_count": 33,
   "id": "acac2897-68ad-41ed-b283-d633be5e4ec5",
   "metadata": {},
   "outputs": [
    {
     "name": "stdout",
     "output_type": "stream",
     "text": [
      "Chennai 7\n",
      "Hyderabaad 10\n",
      "Mumbai 6\n"
     ]
    }
   ],
   "source": [
    "print(cities[0] , len(cities[0]))\n",
    "print(cities[1] , len(cities[1]))\n",
    "print(cities[2] , len(cities[2]))"
   ]
  },
  {
   "cell_type": "code",
   "execution_count": 37,
   "id": "c826df57-56c6-4bb5-aeb5-248bbcf8bf93",
   "metadata": {},
   "outputs": [
    {
     "name": "stdout",
     "output_type": "stream",
     "text": [
      "Chennai 7\n",
      "Hyderabaad 10\n",
      "Mumbai 6\n",
      "Mohali 6\n",
      "Chandigarh 10\n",
      "Coimbatore 10\n",
      "Vizag 5\n",
      "Delhi 5\n"
     ]
    }
   ],
   "source": [
    "for i in range(0,len(cities)):\n",
    "    print(cities[i] , len(cities[i]))"
   ]
  },
  {
   "cell_type": "code",
   "execution_count": 39,
   "id": "7e15056c-ec36-4f2b-9b1e-a7284bc8b719",
   "metadata": {},
   "outputs": [
    {
     "name": "stdout",
     "output_type": "stream",
     "text": [
      "Chennai 7\n",
      "Hyderabaad 10\n",
      "Mumbai 6\n",
      "Mohali 6\n",
      "Chandigarh 10\n",
      "Coimbatore 10\n",
      "Vizag 5\n",
      "Delhi 5\n"
     ]
    }
   ],
   "source": [
    "cities = ['Chennai', 'Hyderabaad', 'Mumbai', 'Mohali', 'Chandigarh', 'Coimbatore', 'Vizag', 'Delhi']\n",
    "\n",
    "for city in cities:\n",
    "    print(city , len(city))"
   ]
  },
  {
   "cell_type": "code",
   "execution_count": 41,
   "id": "026c833c-3b8b-4269-bf5b-06499faf5f55",
   "metadata": {},
   "outputs": [
    {
     "name": "stdout",
     "output_type": "stream",
     "text": [
      "C C\n",
      "h H\n",
      "e E\n",
      "n N\n",
      "n N\n",
      "a A\n",
      "i I\n"
     ]
    }
   ],
   "source": [
    "city = 'Chennai'\n",
    "for char in city:\n",
    "    print(char , char.upper())"
   ]
  },
  {
   "cell_type": "code",
   "execution_count": 42,
   "id": "d341fc00-a828-4ab9-98b0-22f937cd977e",
   "metadata": {},
   "outputs": [
    {
     "name": "stdout",
     "output_type": "stream",
     "text": [
      "{'name': 'Pavan', 'age': 19, 'stream': 'electronics'}\n"
     ]
    }
   ],
   "source": [
    "student_details = {\"name\" : \"Pavan\",\n",
    "                   \"age\" : 19,\n",
    "                   \"stream\" : \"electronics\"}\n",
    "\n",
    "print(student_details)"
   ]
  },
  {
   "cell_type": "code",
   "execution_count": 44,
   "id": "ad2cbcc7-0992-4786-84fe-e309915a29d5",
   "metadata": {},
   "outputs": [
    {
     "name": "stdout",
     "output_type": "stream",
     "text": [
      "Pavan\n",
      "19\n",
      "electronics\n"
     ]
    }
   ],
   "source": [
    "for detail in student_details:\n",
    "    print(student_details[detail])"
   ]
  },
  {
   "cell_type": "code",
   "execution_count": 47,
   "id": "4c85ee38-5dfe-409e-bed9-32d5bd9dd745",
   "metadata": {},
   "outputs": [
    {
     "name": "stdout",
     "output_type": "stream",
     "text": [
      "1\n",
      "2\n",
      "3\n",
      "4\n",
      "5\n",
      "6\n",
      "7\n",
      "8\n"
     ]
    }
   ],
   "source": [
    "for i in range(1,9):     #intial index = 1, number of steps = 8 , 1+8 = 9\n",
    "    print(i)"
   ]
  },
  {
   "cell_type": "code",
   "execution_count": 49,
   "id": "db753d1a-abda-4520-861c-7e7566b894d2",
   "metadata": {},
   "outputs": [
    {
     "name": "stdout",
     "output_type": "stream",
     "text": [
      "6\n",
      "5\n",
      "4\n",
      "8\n",
      "5\n",
      "9\n",
      "4\n"
     ]
    }
   ],
   "source": [
    "numbers = 6548594\n",
    "\n",
    "for i in str(numbers):\n",
    "    print(i)"
   ]
  },
  {
   "cell_type": "code",
   "execution_count": 50,
   "id": "90626ea5-86ac-405a-8bbd-9f076b3be85e",
   "metadata": {},
   "outputs": [
    {
     "name": "stdout",
     "output_type": "stream",
     "text": [
      "10\n",
      "9\n",
      "8\n",
      "7\n",
      "6\n",
      "5\n",
      "4\n",
      "3\n",
      "2\n",
      "1\n"
     ]
    }
   ],
   "source": [
    "for i in range(10,0,-1):             #10 - 0 = 10 steps\n",
    "    print(i)"
   ]
  },
  {
   "cell_type": "code",
   "execution_count": 51,
   "id": "e92d4943-e2cf-41fa-8a74-0bd236b6bbcf",
   "metadata": {},
   "outputs": [
    {
     "name": "stdout",
     "output_type": "stream",
     "text": [
      "10\n",
      "9\n",
      "8\n",
      "7\n",
      "6\n",
      "5\n",
      "4\n",
      "3\n",
      "2\n"
     ]
    }
   ],
   "source": [
    "for i in range(10,1,-1):             #10 - 1 = 9 steps\n",
    "    print(i)"
   ]
  },
  {
   "cell_type": "markdown",
   "id": "10b0b569-86fb-4124-98a6-b4fde9f1b33b",
   "metadata": {},
   "source": [
    "**While loop**"
   ]
  },
  {
   "cell_type": "code",
   "execution_count": 54,
   "id": "ad6fc9a5-bbe0-467d-8298-ee46dce09b2b",
   "metadata": {},
   "outputs": [
    {
     "name": "stdout",
     "output_type": "stream",
     "text": [
      "Hello World\n"
     ]
    }
   ],
   "source": [
    "i = 0\n",
    "if i < 5:\n",
    "    print(\"Hello World\")"
   ]
  },
  {
   "cell_type": "code",
   "execution_count": 56,
   "id": "543c7bf3-5a58-4575-a49e-fe73782ebe92",
   "metadata": {},
   "outputs": [
    {
     "name": "stdout",
     "output_type": "stream",
     "text": [
      "Hello World\n",
      "Hello World\n",
      "Hello World\n",
      "Hello World\n",
      "Hello World\n"
     ]
    }
   ],
   "source": [
    "i = 0\n",
    "while i < 5:\n",
    "    print(\"Hello World\")\n",
    "    i = i + 1"
   ]
  },
  {
   "cell_type": "code",
   "execution_count": 57,
   "id": "53307ece-b13b-445e-96e1-6f5f5ab54991",
   "metadata": {},
   "outputs": [
    {
     "name": "stdin",
     "output_type": "stream",
     "text": [
      "Enter Your user ID admin\n",
      "Enter Your password pass\n"
     ]
    },
    {
     "name": "stdout",
     "output_type": "stream",
     "text": [
      "Incorrect Login crediantials\n"
     ]
    },
    {
     "name": "stdin",
     "output_type": "stream",
     "text": [
      "Enter Your user ID admin\n",
      "Enter Your password password\n"
     ]
    },
    {
     "name": "stdout",
     "output_type": "stream",
     "text": [
      "Login successfull\n"
     ]
    }
   ],
   "source": [
    "i = 0\n",
    "while i < 3:\n",
    "    uid = input(\"Enter Your user ID\")\n",
    "    upass = input(\"Enter Your password\")\n",
    "    \n",
    "    if uid == 'admin' and upass == 'password':\n",
    "        print(\"Login successfull\")\n",
    "        break\n",
    "    else:\n",
    "        print('Incorrect Login crediantials')\n",
    "    i = i + 1"
   ]
  },
  {
   "cell_type": "code",
   "execution_count": 58,
   "id": "bd950a84-5cfc-4d9b-8a6e-31838ea3d785",
   "metadata": {},
   "outputs": [
    {
     "name": "stdin",
     "output_type": "stream",
     "text": [
      "Enter Your user ID admin\n",
      "Enter Your password passwo\n"
     ]
    },
    {
     "name": "stdout",
     "output_type": "stream",
     "text": [
      "Incorrect Login crediantials\n"
     ]
    },
    {
     "name": "stdin",
     "output_type": "stream",
     "text": [
      "Enter Your user ID adbjk\n",
      "Enter Your password bhjk\n"
     ]
    },
    {
     "name": "stdout",
     "output_type": "stream",
     "text": [
      "Incorrect Login crediantials\n"
     ]
    },
    {
     "name": "stdin",
     "output_type": "stream",
     "text": [
      "Enter Your user ID fghjk\n",
      "Enter Your password vbhnj\n"
     ]
    },
    {
     "name": "stdout",
     "output_type": "stream",
     "text": [
      "Incorrect Login crediantials\n"
     ]
    },
    {
     "name": "stdin",
     "output_type": "stream",
     "text": [
      "Enter Your user ID admin\n",
      "Enter Your password password\n"
     ]
    },
    {
     "name": "stdout",
     "output_type": "stream",
     "text": [
      "Login successfull\n"
     ]
    }
   ],
   "source": [
    "while True:\n",
    "    uid = input(\"Enter Your user ID\")\n",
    "    upass = input(\"Enter Your password\")\n",
    "    \n",
    "    if uid == 'admin' and upass == 'password':\n",
    "        print(\"Login successfull\")\n",
    "        break\n",
    "    else:\n",
    "        print('Incorrect Login crediantials')"
   ]
  },
  {
   "cell_type": "code",
   "execution_count": 59,
   "id": "fe285874-164e-427a-a4f2-e4a41af036cf",
   "metadata": {},
   "outputs": [
    {
     "name": "stdin",
     "output_type": "stream",
     "text": [
      "Enter Your user ID admin\n",
      "Enter Your password sdfghjk\n",
      "Enter Your user ID asdfgh\n",
      "Enter Your password password\n",
      "Enter Your user ID admin\n",
      "Enter Your password password\n"
     ]
    },
    {
     "name": "stdout",
     "output_type": "stream",
     "text": [
      "Login Successfull\n"
     ]
    }
   ],
   "source": [
    "uid, upass = '', ''\n",
    "while uid != 'admin' or upass != 'password':\n",
    "    uid = input(\"Enter Your user ID\")\n",
    "    upass = input(\"Enter Your password\")\n",
    "else:\n",
    "    print('Login Successfull')"
   ]
  },
  {
   "cell_type": "markdown",
   "id": "c442a9eb-e0df-42e5-a26b-c4338e1921be",
   "metadata": {},
   "source": [
    "**Functions**"
   ]
  },
  {
   "cell_type": "code",
   "execution_count": null,
   "id": "440b2302-e608-49dc-ac3d-30450f14c77a",
   "metadata": {},
   "outputs": [],
   "source": []
  }
 ],
 "metadata": {
  "kernelspec": {
   "display_name": "Python 3 (ipykernel)",
   "language": "python",
   "name": "python3"
  },
  "language_info": {
   "codemirror_mode": {
    "name": "ipython",
    "version": 3
   },
   "file_extension": ".py",
   "mimetype": "text/x-python",
   "name": "python",
   "nbconvert_exporter": "python",
   "pygments_lexer": "ipython3",
   "version": "3.10.0"
  }
 },
 "nbformat": 4,
 "nbformat_minor": 5
}
