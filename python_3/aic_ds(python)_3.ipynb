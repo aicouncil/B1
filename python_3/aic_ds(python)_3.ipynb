{
  "nbformat": 4,
  "nbformat_minor": 0,
  "metadata": {
    "colab": {
      "provenance": []
    },
    "kernelspec": {
      "name": "python3",
      "display_name": "Python 3"
    },
    "language_info": {
      "name": "python"
    }
  },
  "cells": [
    {
      "cell_type": "markdown",
      "source": [
        "**function**\n",
        "\n",
        "* *args\n",
        "\n",
        "  * allows us to pass a variable number of positional arguments to a function\n",
        "  * Flexibility - You don't need to know how many arguments will be passed\n",
        "  * It avoids having a fixed number of parameters"
      ],
      "metadata": {
        "id": "p7rMI_1rowPB"
      }
    },
    {
      "cell_type": "code",
      "source": [
        "def myfunc(x,y):\n",
        "  pass"
      ],
      "metadata": {
        "id": "5cZvwGEvpXC4"
      },
      "execution_count": 2,
      "outputs": []
    },
    {
      "cell_type": "code",
      "source": [
        "myfunc(7,3,2)"
      ],
      "metadata": {
        "colab": {
          "base_uri": "https://localhost:8080/",
          "height": 143
        },
        "id": "Ecn9_eIdpaf8",
        "outputId": "dce9a27d-e449-4f24-ed75-f3a4a22cad91"
      },
      "execution_count": 4,
      "outputs": [
        {
          "output_type": "error",
          "ename": "TypeError",
          "evalue": "myfunc() takes 2 positional arguments but 3 were given",
          "traceback": [
            "\u001b[0;31m---------------------------------------------------------------------------\u001b[0m",
            "\u001b[0;31mTypeError\u001b[0m                                 Traceback (most recent call last)",
            "\u001b[0;32m<ipython-input-4-9e16c880bf2d>\u001b[0m in \u001b[0;36m<cell line: 0>\u001b[0;34m()\u001b[0m\n\u001b[0;32m----> 1\u001b[0;31m \u001b[0mmyfunc\u001b[0m\u001b[0;34m(\u001b[0m\u001b[0;36m7\u001b[0m\u001b[0;34m,\u001b[0m\u001b[0;36m3\u001b[0m\u001b[0;34m,\u001b[0m\u001b[0;36m2\u001b[0m\u001b[0;34m)\u001b[0m\u001b[0;34m\u001b[0m\u001b[0;34m\u001b[0m\u001b[0m\n\u001b[0m",
            "\u001b[0;31mTypeError\u001b[0m: myfunc() takes 2 positional arguments but 3 were given"
          ]
        }
      ]
    },
    {
      "cell_type": "code",
      "execution_count": 8,
      "metadata": {
        "id": "l73LUxO7ovrC"
      },
      "outputs": [],
      "source": [
        "def myfunction(*args):\n",
        "  total_sum = 0\n",
        "  for arg in args:\n",
        "    total_sum = total_sum + arg\n",
        "  return total_sum"
      ]
    },
    {
      "cell_type": "code",
      "source": [
        "myfunction(3,4)"
      ],
      "metadata": {
        "colab": {
          "base_uri": "https://localhost:8080/"
        },
        "id": "6JollVZLpWLM",
        "outputId": "62b3e113-c45b-408f-c881-c6c2b4355066"
      },
      "execution_count": 9,
      "outputs": [
        {
          "output_type": "execute_result",
          "data": {
            "text/plain": [
              "7"
            ]
          },
          "metadata": {},
          "execution_count": 9
        }
      ]
    },
    {
      "cell_type": "code",
      "source": [
        "myfunction(4,3,2,7,4)"
      ],
      "metadata": {
        "colab": {
          "base_uri": "https://localhost:8080/"
        },
        "id": "Q19WwV3fpij5",
        "outputId": "343b2e81-7fd8-47b7-a0e7-728b435a1237"
      },
      "execution_count": 10,
      "outputs": [
        {
          "output_type": "execute_result",
          "data": {
            "text/plain": [
              "20"
            ]
          },
          "metadata": {},
          "execution_count": 10
        }
      ]
    },
    {
      "cell_type": "code",
      "source": [
        "myfunction(4,3,9)"
      ],
      "metadata": {
        "colab": {
          "base_uri": "https://localhost:8080/"
        },
        "id": "F-Hwc5hupkgZ",
        "outputId": "737c7a93-7539-4069-b24b-65e514377604"
      },
      "execution_count": 11,
      "outputs": [
        {
          "output_type": "execute_result",
          "data": {
            "text/plain": [
              "16"
            ]
          },
          "metadata": {},
          "execution_count": 11
        }
      ]
    },
    {
      "cell_type": "code",
      "source": [
        "word_list = [\"I\" , \"am\" , \"a\" , \"good\" , \"Indian\" , \"citizen\"]\n",
        "print(\" \".join(word_list))"
      ],
      "metadata": {
        "colab": {
          "base_uri": "https://localhost:8080/"
        },
        "id": "xiW3YPLVqpE8",
        "outputId": "1225d9eb-2b86-468a-a006-e8727655c84f"
      },
      "execution_count": 14,
      "outputs": [
        {
          "output_type": "stream",
          "name": "stdout",
          "text": [
            "I am a good Indian citizen\n"
          ]
        }
      ]
    },
    {
      "cell_type": "code",
      "source": [
        "def concatenate(*args):\n",
        "  return \" \".join(args)"
      ],
      "metadata": {
        "id": "nnEhELcnqfKr"
      },
      "execution_count": 15,
      "outputs": []
    },
    {
      "cell_type": "code",
      "source": [
        "concatenate(\"Hello\", \"world\")"
      ],
      "metadata": {
        "colab": {
          "base_uri": "https://localhost:8080/",
          "height": 35
        },
        "id": "A-Bvgau8q5mU",
        "outputId": "b1badf51-90e4-4604-b5b9-f984241a88d5"
      },
      "execution_count": 16,
      "outputs": [
        {
          "output_type": "execute_result",
          "data": {
            "text/plain": [
              "'Hello world'"
            ],
            "application/vnd.google.colaboratory.intrinsic+json": {
              "type": "string"
            }
          },
          "metadata": {},
          "execution_count": 16
        }
      ]
    },
    {
      "cell_type": "code",
      "source": [
        "concatenate(\"Python\", \"is\" , \"Fun\")"
      ],
      "metadata": {
        "colab": {
          "base_uri": "https://localhost:8080/",
          "height": 35
        },
        "id": "gPcXOXr2q9Xv",
        "outputId": "87b8d979-6c16-4978-c836-200cc33cb19f"
      },
      "execution_count": 17,
      "outputs": [
        {
          "output_type": "execute_result",
          "data": {
            "text/plain": [
              "'Python is Fun'"
            ],
            "application/vnd.google.colaboratory.intrinsic+json": {
              "type": "string"
            }
          },
          "metadata": {},
          "execution_count": 17
        }
      ]
    },
    {
      "cell_type": "code",
      "source": [
        "def greet(*args):\n",
        "  for name in args:\n",
        "    print(f\"Hello {name}\")"
      ],
      "metadata": {
        "id": "gd1E9LCKrBJh"
      },
      "execution_count": 21,
      "outputs": []
    },
    {
      "cell_type": "code",
      "source": [
        "greet(\"Raj\" , \"Ajay\" , \"Pavan\" , \"Pravin\" , \"Suresh\" , \"Radha\")"
      ],
      "metadata": {
        "colab": {
          "base_uri": "https://localhost:8080/"
        },
        "id": "fo9HvGzorIEm",
        "outputId": "75d5c0a9-0f11-4a40-cf71-41104e2aebe2"
      },
      "execution_count": 23,
      "outputs": [
        {
          "output_type": "stream",
          "name": "stdout",
          "text": [
            "Hello Raj\n",
            "Hello Ajay\n",
            "Hello Pavan\n",
            "Hello Pravin\n",
            "Hello Suresh\n",
            "Hello Radha\n"
          ]
        }
      ]
    },
    {
      "cell_type": "markdown",
      "source": [
        "**Keyword arguments**"
      ],
      "metadata": {
        "id": "pUTlq8nerjaL"
      }
    },
    {
      "cell_type": "code",
      "source": [
        "def student_details(name,age,location):\n",
        "  return {\"Name\" : name , \"Age\" : age , \"Location\" : location}"
      ],
      "metadata": {
        "id": "1yrjR-W5rM-Y"
      },
      "execution_count": 24,
      "outputs": []
    },
    {
      "cell_type": "code",
      "source": [
        "student_details()\"Jai\" , 21 , \"Delhi\""
      ],
      "metadata": {
        "colab": {
          "base_uri": "https://localhost:8080/"
        },
        "id": "UeeFsbvtrxlK",
        "outputId": "f9fe96ac-1d57-4c09-a8e7-d77562caa22e"
      },
      "execution_count": 25,
      "outputs": [
        {
          "output_type": "execute_result",
          "data": {
            "text/plain": [
              "{'Name': 'Jai', 'Age': 21, 'Location': 'Delhi'}"
            ]
          },
          "metadata": {},
          "execution_count": 25
        }
      ]
    },
    {
      "cell_type": "code",
      "source": [
        "student_details(age = 21 , location = \"Delhi\" , name = \"Jai\")"
      ],
      "metadata": {
        "colab": {
          "base_uri": "https://localhost:8080/"
        },
        "id": "1KlRERDLr13q",
        "outputId": "2d6d5232-a7e1-4403-a569-eaba5398a5e4"
      },
      "execution_count": 27,
      "outputs": [
        {
          "output_type": "execute_result",
          "data": {
            "text/plain": [
              "{'Name': 'Jai', 'Age': 21, 'Location': 'Delhi'}"
            ]
          },
          "metadata": {},
          "execution_count": 27
        }
      ]
    },
    {
      "cell_type": "markdown",
      "source": [
        "**kwargs - allows us to pass a variable number of keyword arguments to a function, these arguments are captured as a dictionary.\n",
        "\n",
        "  * It allows flexibility when we don't know beforehand how many keyword argument a function may need."
      ],
      "metadata": {
        "id": "CAwWFs3tsjPK"
      }
    },
    {
      "cell_type": "code",
      "source": [
        "def display_info(**kwargs):\n",
        "  for key,value in kwargs.items():\n",
        "    print(f\"{key} : {value}\")"
      ],
      "metadata": {
        "id": "aqlwpMHpr5XZ"
      },
      "execution_count": 35,
      "outputs": []
    },
    {
      "cell_type": "code",
      "source": [
        "display_info(name=\"Rahul\" , age=20 , city=\"Mumbai\" , education = \"High School\")"
      ],
      "metadata": {
        "colab": {
          "base_uri": "https://localhost:8080/"
        },
        "id": "jwUMCufptM7N",
        "outputId": "926340fe-c407-4342-9c64-b9226a90dd97"
      },
      "execution_count": 36,
      "outputs": [
        {
          "output_type": "stream",
          "name": "stdout",
          "text": [
            "name : Rahul\n",
            "age : 20\n",
            "city : Mumbai\n",
            "education : High School\n"
          ]
        }
      ]
    },
    {
      "cell_type": "code",
      "source": [
        "#set a default configuration\n",
        "\n",
        "def configure_app(**kwargs):\n",
        "  config = {\n",
        "      \"theme\" : \"light\",\n",
        "      \"language\" : \"en\",\n",
        "      \"timezone\" : \"UTC\"\n",
        "  }\n",
        "  config.update(kwargs)\n",
        "  return config"
      ],
      "metadata": {
        "id": "lUfTIlNntTko"
      },
      "execution_count": 41,
      "outputs": []
    },
    {
      "cell_type": "code",
      "source": [
        "configure_app()"
      ],
      "metadata": {
        "colab": {
          "base_uri": "https://localhost:8080/"
        },
        "id": "-tzzYEhYuDxZ",
        "outputId": "48f12ff1-5642-404b-c98b-338319bdc67e"
      },
      "execution_count": 42,
      "outputs": [
        {
          "output_type": "execute_result",
          "data": {
            "text/plain": [
              "{'theme': 'light', 'language': 'en', 'timezone': 'UTC'}"
            ]
          },
          "metadata": {},
          "execution_count": 42
        }
      ]
    },
    {
      "cell_type": "code",
      "source": [
        "configure_app(theme = 'dark' , language = 'fr')"
      ],
      "metadata": {
        "colab": {
          "base_uri": "https://localhost:8080/"
        },
        "id": "Bn1ZDLRGuFty",
        "outputId": "30354cc8-3e24-420c-9fb6-29d986b33bdc"
      },
      "execution_count": 43,
      "outputs": [
        {
          "output_type": "execute_result",
          "data": {
            "text/plain": [
              "{'theme': 'dark', 'language': 'fr', 'timezone': 'UTC'}"
            ]
          },
          "metadata": {},
          "execution_count": 43
        }
      ]
    },
    {
      "cell_type": "code",
      "source": [
        "configure_app(language = 'fr')"
      ],
      "metadata": {
        "colab": {
          "base_uri": "https://localhost:8080/"
        },
        "id": "26q1j4KRuP_P",
        "outputId": "79287ca7-c452-4d94-9e79-9e6de7a7df25"
      },
      "execution_count": 44,
      "outputs": [
        {
          "output_type": "execute_result",
          "data": {
            "text/plain": [
              "{'theme': 'light', 'language': 'fr', 'timezone': 'UTC'}"
            ]
          },
          "metadata": {},
          "execution_count": 44
        }
      ]
    },
    {
      "cell_type": "code",
      "source": [
        "#both - *args & **kwargs\n",
        "\n",
        "def greet_users(greeting , *names , **kwargs):\n",
        "  for name in names:\n",
        "    print(f\"{greeting} , {name}\")\n",
        "  if kwargs.get(\"show_count\"):\n",
        "    print(f\"Total number of people greeted - {len(names)}\")"
      ],
      "metadata": {
        "id": "WHjcc_CWuTRC"
      },
      "execution_count": 58,
      "outputs": []
    },
    {
      "cell_type": "code",
      "source": [
        "greet_users(\"Hello\" , \"Joy\" , \"Arun\" , \"Raghav\")"
      ],
      "metadata": {
        "colab": {
          "base_uri": "https://localhost:8080/"
        },
        "id": "gXNDvKqYuxVt",
        "outputId": "8a245358-0cc6-449f-ce63-bbe41a1c9797"
      },
      "execution_count": 59,
      "outputs": [
        {
          "output_type": "stream",
          "name": "stdout",
          "text": [
            "Hello , Joy\n",
            "Hello , Arun\n",
            "Hello , Raghav\n"
          ]
        }
      ]
    },
    {
      "cell_type": "code",
      "source": [
        "greet_users(\"Good Morning\" , \"Ajay\" , \"Amar\" , show_count=True)"
      ],
      "metadata": {
        "colab": {
          "base_uri": "https://localhost:8080/"
        },
        "id": "TfA6Sulauyjg",
        "outputId": "fcf54a78-2ee0-4958-9d2c-7f34abb10fbc"
      },
      "execution_count": 73,
      "outputs": [
        {
          "output_type": "stream",
          "name": "stdout",
          "text": [
            "Good Morning , Ajay\n",
            "Good Morning , Amar\n",
            "Total number of people greeted - 2\n"
          ]
        }
      ]
    },
    {
      "cell_type": "code",
      "source": [
        "def new_func(**kwargs):\n",
        "  return kwargs.get(\"name\")"
      ],
      "metadata": {
        "id": "hVm_D3zJu8Iv"
      },
      "execution_count": 69,
      "outputs": []
    },
    {
      "cell_type": "code",
      "source": [
        "new_func(age = 22 , city=\"Jaipur\")"
      ],
      "metadata": {
        "id": "LPzemYtWv9K_"
      },
      "execution_count": 70,
      "outputs": []
    },
    {
      "cell_type": "code",
      "source": [
        "new_func(name=\"Ajay\" , age = 22 , city=\"Jaipur\")"
      ],
      "metadata": {
        "colab": {
          "base_uri": "https://localhost:8080/",
          "height": 35
        },
        "id": "jTg4qkQjwAgc",
        "outputId": "9fa73579-5e2e-45f2-9077-f8f695dac0fb"
      },
      "execution_count": 71,
      "outputs": [
        {
          "output_type": "execute_result",
          "data": {
            "text/plain": [
              "'Ajay'"
            ],
            "application/vnd.google.colaboratory.intrinsic+json": {
              "type": "string"
            }
          },
          "metadata": {},
          "execution_count": 71
        }
      ]
    },
    {
      "cell_type": "markdown",
      "source": [
        "**Lambda Function**\n",
        "\n",
        "  * Small, anonymous function\n",
        "  * defined using \"lambda\" keyword\n",
        "  * It can have any number of arguments but can have only one expression, which is of return type\n",
        "  * It is useful for short, throwaway function that don't need a name.\n",
        "  * They made code concise\n",
        "  * lambda argument : expression"
      ],
      "metadata": {
        "id": "YWX_vWfOzRg1"
      }
    },
    {
      "cell_type": "code",
      "source": [
        "def sosum(x,y):\n",
        "  return x + y"
      ],
      "metadata": {
        "id": "CZl7UDRxwYpF"
      },
      "execution_count": 74,
      "outputs": []
    },
    {
      "cell_type": "code",
      "source": [
        "add = lambda x,y : x + y\n",
        "print(add(4,3))\n",
        "print(add(7,8))"
      ],
      "metadata": {
        "colab": {
          "base_uri": "https://localhost:8080/"
        },
        "id": "ogEjoOd20Dxo",
        "outputId": "74bd6673-9297-4aa6-fda0-9a2ac8f812ed"
      },
      "execution_count": 76,
      "outputs": [
        {
          "output_type": "stream",
          "name": "stdout",
          "text": [
            "7\n",
            "15\n"
          ]
        }
      ]
    },
    {
      "cell_type": "code",
      "source": [
        "def evenorodd(x):\n",
        "  return x % 2 == 0\n",
        "\n",
        "print(evenorodd(8))\n",
        "print(evenorodd(7))"
      ],
      "metadata": {
        "colab": {
          "base_uri": "https://localhost:8080/"
        },
        "id": "-7RnSRZM0L4I",
        "outputId": "d046cc63-d6c3-4342-efaa-1a692c939c56"
      },
      "execution_count": 78,
      "outputs": [
        {
          "output_type": "stream",
          "name": "stdout",
          "text": [
            "True\n",
            "False\n"
          ]
        }
      ]
    },
    {
      "cell_type": "code",
      "source": [
        "eo = lambda x : x%2 == 0\n",
        "print(eo(4))\n",
        "print(eo(9))"
      ],
      "metadata": {
        "colab": {
          "base_uri": "https://localhost:8080/"
        },
        "id": "QM_zlCD90Zou",
        "outputId": "519d0255-cd2f-44dd-a7c8-b255bb955cdc"
      },
      "execution_count": 82,
      "outputs": [
        {
          "output_type": "stream",
          "name": "stdout",
          "text": [
            "True\n",
            "False\n"
          ]
        }
      ]
    },
    {
      "cell_type": "code",
      "source": [
        "#Create a lambda function to calculate square of a number\n",
        "square = lambda x : x**2\n",
        "print(square(9))\n",
        "print(square(7))"
      ],
      "metadata": {
        "colab": {
          "base_uri": "https://localhost:8080/"
        },
        "id": "xkTyh-Zi0gQk",
        "outputId": "24da5e19-0f5c-48b9-bba0-2755191624e6"
      },
      "execution_count": 84,
      "outputs": [
        {
          "output_type": "stream",
          "name": "stdout",
          "text": [
            "81\n",
            "49\n"
          ]
        }
      ]
    },
    {
      "cell_type": "code",
      "source": [
        "#Calculate square of all the numbers in given list using the square function created\n",
        "numbers = [3,5,6,7,2]\n",
        "\n",
        "squared_numbers = []\n",
        "\n",
        "for num in numbers:\n",
        "  squared_numbers.append(square(num))\n",
        "\n",
        "print(squared_numbers)"
      ],
      "metadata": {
        "colab": {
          "base_uri": "https://localhost:8080/"
        },
        "id": "-x8kcGA21G9a",
        "outputId": "e4bc35bf-0f8d-4266-c2ce-d3aee81ebbe8"
      },
      "execution_count": 86,
      "outputs": [
        {
          "output_type": "stream",
          "name": "stdout",
          "text": [
            "[9, 25, 36, 49, 4]\n"
          ]
        }
      ]
    },
    {
      "cell_type": "markdown",
      "source": [
        "* map() : apply a user defined function to every item in an iterable"
      ],
      "metadata": {
        "id": "QPZnrUS915OI"
      }
    },
    {
      "cell_type": "code",
      "source": [
        "numbers = [3,5,6,7,2]\n",
        "squared = map(square , numbers)\n",
        "print(list(squared))"
      ],
      "metadata": {
        "colab": {
          "base_uri": "https://localhost:8080/"
        },
        "id": "5mkYL1Lp1uEB",
        "outputId": "f0b9cd80-b10c-43ec-ed2a-c57dfc6394ce"
      },
      "execution_count": 90,
      "outputs": [
        {
          "output_type": "stream",
          "name": "stdout",
          "text": [
            "[9, 25, 36, 49, 4]\n"
          ]
        }
      ]
    },
    {
      "cell_type": "code",
      "source": [
        "cities = [\"Jaipur\" , \"Lucknow\" , \"Kochi\" , \"Jammu\" , \"Hyderabaad\"]\n",
        "\n",
        "cities_upper = []\n",
        "\n",
        "for city in cities:\n",
        "  cities_upper.append(city.upper())\n",
        "\n",
        "print(cities_upper)"
      ],
      "metadata": {
        "colab": {
          "base_uri": "https://localhost:8080/"
        },
        "id": "Wz--shdb2OWg",
        "outputId": "371548f1-d38b-406c-cc21-c59acb93ef76"
      },
      "execution_count": 92,
      "outputs": [
        {
          "output_type": "stream",
          "name": "stdout",
          "text": [
            "['JAIPUR', 'LUCKNOW', 'KOCHI', 'JAMMU', 'HYDERABAAD']\n"
          ]
        }
      ]
    },
    {
      "cell_type": "code",
      "source": [
        "cities = [\"Jaipur\" , \"Lucknow\" , \"Kochi\" , \"Jammu\" , \"Hyderabaad\"]\n",
        "upperCaseCities = map(lambda x : x.upper() , cities)\n",
        "print(list(upperCaseCities))"
      ],
      "metadata": {
        "colab": {
          "base_uri": "https://localhost:8080/"
        },
        "id": "PvPty4am2-dU",
        "outputId": "94ba35ec-0cf1-4e47-da1a-205fdb93e217"
      },
      "execution_count": 95,
      "outputs": [
        {
          "output_type": "stream",
          "name": "stdout",
          "text": [
            "['JAIPUR', 'LUCKNOW', 'KOCHI', 'JAMMU', 'HYDERABAAD']\n"
          ]
        }
      ]
    },
    {
      "cell_type": "code",
      "source": [
        "numbers = [1,2,3,4,5,6,7,8,9,10]\n",
        "\n",
        "even_nums = []\n",
        "for num in numbers:\n",
        "  if num % 2 == 0:\n",
        "    even_nums.append(num)\n",
        "\n",
        "print(even_nums)"
      ],
      "metadata": {
        "colab": {
          "base_uri": "https://localhost:8080/"
        },
        "id": "bGu2f1u74c54",
        "outputId": "95e6070c-cb70-45f0-d2bc-da6d95359770"
      },
      "execution_count": 99,
      "outputs": [
        {
          "output_type": "stream",
          "name": "stdout",
          "text": [
            "[2, 4, 6, 8, 10]\n"
          ]
        }
      ]
    },
    {
      "cell_type": "code",
      "source": [
        "#Check even number in this list\n",
        "numbers = [1,2,3,4,5,6,7,8,9,10]\n",
        "\n",
        "print(list(map(lambda x: x%2==0, numbers)))  #map cam implement a function defined on each item of an iterable\n",
        "\n",
        "print(list(filter(lambda x: x%2==0, numbers)))"
      ],
      "metadata": {
        "colab": {
          "base_uri": "https://localhost:8080/"
        },
        "id": "y6VuNHu93SQJ",
        "outputId": "9c72d204-6c80-4809-ed4d-26823aebd128"
      },
      "execution_count": 98,
      "outputs": [
        {
          "output_type": "stream",
          "name": "stdout",
          "text": [
            "[False, True, False, True, False, True, False, True, False, True]\n",
            "[2, 4, 6, 8, 10]\n"
          ]
        }
      ]
    },
    {
      "cell_type": "code",
      "source": [
        "#sort the following set of imformation according to age in increasing order\n",
        "people = [(\"Ajay\" , 25) , (\"Bob\" , 20) , (\"Ramesh\" , 30)]\n",
        "\n",
        "\n",
        "for name,age in people:\n",
        "  print(name,age)"
      ],
      "metadata": {
        "colab": {
          "base_uri": "https://localhost:8080/"
        },
        "id": "irarsBdH4Dl8",
        "outputId": "dbe0223e-60f0-4212-feee-a077e05200c4"
      },
      "execution_count": 102,
      "outputs": [
        {
          "output_type": "stream",
          "name": "stdout",
          "text": [
            "Ajay 25\n",
            "Bob 20\n",
            "Ramesh 30\n"
          ]
        }
      ]
    },
    {
      "cell_type": "code",
      "source": [
        "#sorted() - to sort an iterables\n",
        "\n",
        "people = [(\"Ajay\" , 25) , (\"Ramesh\" , 30) , (\"Bob\" , 20) ]\n",
        "\n",
        "sorted(people , key = lambda x : x[0])"
      ],
      "metadata": {
        "colab": {
          "base_uri": "https://localhost:8080/"
        },
        "id": "NaBmdav-5GKu",
        "outputId": "92f1db03-d795-4826-8f22-2e7a7038cb4f"
      },
      "execution_count": 106,
      "outputs": [
        {
          "output_type": "execute_result",
          "data": {
            "text/plain": [
              "[('Ajay', 25), ('Bob', 20), ('Ramesh', 30)]"
            ]
          },
          "metadata": {},
          "execution_count": 106
        }
      ]
    },
    {
      "cell_type": "code",
      "source": [
        "people = [(\"Ajay\" , 25) , (\"Ramesh\" , 30) , (\"Bob\" , 20) ]\n",
        "\n",
        "sorted(people , key = lambda x : x[1])"
      ],
      "metadata": {
        "colab": {
          "base_uri": "https://localhost:8080/"
        },
        "id": "6Z4zHoe953-E",
        "outputId": "bb7a122f-b39b-412f-f89d-dfef67da3049"
      },
      "execution_count": 105,
      "outputs": [
        {
          "output_type": "execute_result",
          "data": {
            "text/plain": [
              "[('Bob', 20), ('Ajay', 25), ('Ramesh', 30)]"
            ]
          },
          "metadata": {},
          "execution_count": 105
        }
      ]
    },
    {
      "cell_type": "markdown",
      "source": [
        "****\n",
        "****\n",
        "**File Handling** - It allows us to create, read, update and delete files. Python provides built-in functions to interact with files, such as open(), read(), write() and more..\n",
        "****\n",
        "****\n",
        "* myfile = open('/content/example.txt' , mode)\n",
        "  * **modes**\n",
        "    * \"r\" - Read(default) , file must exist\n",
        "    * \"w\" - Write, creates a new file or over-write into an existing file\n",
        "    * \"a\" - Append,  creates a new file or add new content into an existing file\n",
        "    * \"x\" - Create, fails if the file already exist\n",
        "    * \"b\" - Binary mode (add to any mode , eg- 'rb' , 'wb')"
      ],
      "metadata": {
        "id": "o2cLD_7V6xg7"
      }
    },
    {
      "cell_type": "code",
      "source": [
        "myfile = open('/content/example.txt' , 'r')\n",
        "print(myfile.read())\n",
        "myfile.close()"
      ],
      "metadata": {
        "colab": {
          "base_uri": "https://localhost:8080/"
        },
        "id": "fYykXqD16B5T",
        "outputId": "1160ea62-21ea-4dde-c15d-40defe880a8e"
      },
      "execution_count": 126,
      "outputs": [
        {
          "output_type": "stream",
          "name": "stdout",
          "text": [
            "Python is a fun programming language.\n",
            "India is a great nation\n"
          ]
        }
      ]
    },
    {
      "cell_type": "code",
      "source": [
        "myfile = open('/content/new_example.txt' , 'r')\n",
        "print(myfile.read())\n",
        "myfile.close()"
      ],
      "metadata": {
        "colab": {
          "base_uri": "https://localhost:8080/",
          "height": 179
        },
        "id": "G5I4ON5p8jl6",
        "outputId": "42236e91-1579-446c-9732-a63072325d96"
      },
      "execution_count": 127,
      "outputs": [
        {
          "output_type": "error",
          "ename": "FileNotFoundError",
          "evalue": "[Errno 2] No such file or directory: '/content/new_example.txt'",
          "traceback": [
            "\u001b[0;31m---------------------------------------------------------------------------\u001b[0m",
            "\u001b[0;31mFileNotFoundError\u001b[0m                         Traceback (most recent call last)",
            "\u001b[0;32m<ipython-input-127-3f06d090c657>\u001b[0m in \u001b[0;36m<cell line: 0>\u001b[0;34m()\u001b[0m\n\u001b[0;32m----> 1\u001b[0;31m \u001b[0mmyfile\u001b[0m \u001b[0;34m=\u001b[0m \u001b[0mopen\u001b[0m\u001b[0;34m(\u001b[0m\u001b[0;34m'/content/new_example.txt'\u001b[0m \u001b[0;34m,\u001b[0m \u001b[0;34m'r'\u001b[0m\u001b[0;34m)\u001b[0m\u001b[0;34m\u001b[0m\u001b[0;34m\u001b[0m\u001b[0m\n\u001b[0m\u001b[1;32m      2\u001b[0m \u001b[0mprint\u001b[0m\u001b[0;34m(\u001b[0m\u001b[0mmyfile\u001b[0m\u001b[0;34m.\u001b[0m\u001b[0mread\u001b[0m\u001b[0;34m(\u001b[0m\u001b[0;34m)\u001b[0m\u001b[0;34m)\u001b[0m\u001b[0;34m\u001b[0m\u001b[0;34m\u001b[0m\u001b[0m\n\u001b[1;32m      3\u001b[0m \u001b[0mmyfile\u001b[0m\u001b[0;34m.\u001b[0m\u001b[0mclose\u001b[0m\u001b[0;34m(\u001b[0m\u001b[0;34m)\u001b[0m\u001b[0;34m\u001b[0m\u001b[0;34m\u001b[0m\u001b[0m\n",
            "\u001b[0;31mFileNotFoundError\u001b[0m: [Errno 2] No such file or directory: '/content/new_example.txt'"
          ]
        }
      ]
    },
    {
      "cell_type": "code",
      "source": [
        "myfile = open('/content/example.txt' , 'w')\n",
        "myfile.write(\"Python is a fun programming language.\")\n",
        "myfile.close()"
      ],
      "metadata": {
        "id": "_uDpGvKc8vDV"
      },
      "execution_count": 113,
      "outputs": []
    },
    {
      "cell_type": "code",
      "source": [
        "myfile = open('/content/newexample.txt' , 'w')\n",
        "myfile.write(\"It is a sunny day today.\")\n",
        "myfile.close()"
      ],
      "metadata": {
        "id": "RabNRaan9CeO"
      },
      "execution_count": 114,
      "outputs": []
    },
    {
      "cell_type": "code",
      "source": [
        "myfile = open('/content/example.txt' , 'a')\n",
        "myfile.write(\"\\nIndia is a great nation\")\n",
        "myfile.close()"
      ],
      "metadata": {
        "id": "RRK0qqNf9SPO"
      },
      "execution_count": 115,
      "outputs": []
    },
    {
      "cell_type": "code",
      "source": [
        "myfile = open('/content/moreexample.txt' , 'a')\n",
        "myfile.write(\"\\nHiHiHiHiHiHiHi\")\n",
        "myfile.close()"
      ],
      "metadata": {
        "id": "uKARJFbO9esW"
      },
      "execution_count": 116,
      "outputs": []
    },
    {
      "cell_type": "code",
      "source": [
        "myfile = open('/content/onemoreexample.txt' , 'x')\n",
        "myfile.write(\"\\nIndia is a great nation\")\n",
        "myfile.close()"
      ],
      "metadata": {
        "id": "DHQWnCVY9q6O"
      },
      "execution_count": 118,
      "outputs": []
    },
    {
      "cell_type": "code",
      "source": [
        "myfile = open('/content/blank.txt' , 'x')\n",
        "myfile.write(\"\")\n",
        "myfile.close()"
      ],
      "metadata": {
        "id": "ghxfprry9zBt"
      },
      "execution_count": 119,
      "outputs": []
    },
    {
      "cell_type": "code",
      "source": [
        "myfile = open('/content/blank.txt' , 'w')\n",
        "myfile.write(\"It is the 1st line\")\n",
        "myfile.close()"
      ],
      "metadata": {
        "id": "3c0hEmlI-E0I"
      },
      "execution_count": 120,
      "outputs": []
    },
    {
      "cell_type": "markdown",
      "source": [
        "**read binary file - image/video**"
      ],
      "metadata": {
        "id": "QfWhsWmk-VKL"
      }
    },
    {
      "cell_type": "code",
      "source": [
        "mybinaryfile = open('/content/sample.jpg' , 'rb')\n",
        "binary_data = mybinaryfile.read()\n",
        "mybinaryfile.close()"
      ],
      "metadata": {
        "id": "yrafqMIm-KIg"
      },
      "execution_count": 140,
      "outputs": []
    },
    {
      "cell_type": "code",
      "source": [
        "copy_sample = open('/content/copysample.jpg' , 'wb')\n",
        "copy_sample.write(binary_data)\n",
        "copy_sample.close()"
      ],
      "metadata": {
        "id": "U27N01_T--pW"
      },
      "execution_count": 141,
      "outputs": []
    },
    {
      "cell_type": "code",
      "source": [
        "mybinaryfile_2 = open('/content/sample2.jpg' , 'rb')\n",
        "binary_data_2 = mybinaryfile_2.read()\n",
        "mybinaryfile_2.close()"
      ],
      "metadata": {
        "id": "oFzr8I6WALQL"
      },
      "execution_count": 142,
      "outputs": []
    },
    {
      "cell_type": "code",
      "source": [
        "copy_sample = open('/content/copysample.jpg' , 'ab')\n",
        "copy_sample.write(binary_data_2)\n",
        "copy_sample.close()"
      ],
      "metadata": {
        "id": "dwZ4gPLf_Umk"
      },
      "execution_count": 143,
      "outputs": []
    },
    {
      "cell_type": "code",
      "source": [],
      "metadata": {
        "id": "FKompzWB_3Vk"
      },
      "execution_count": null,
      "outputs": []
    }
  ]
}