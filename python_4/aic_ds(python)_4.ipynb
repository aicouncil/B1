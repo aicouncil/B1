{
  "nbformat": 4,
  "nbformat_minor": 0,
  "metadata": {
    "colab": {
      "provenance": []
    },
    "kernelspec": {
      "name": "python3",
      "display_name": "Python 3"
    },
    "language_info": {
      "name": "python"
    }
  },
  "cells": [
    {
      "cell_type": "markdown",
      "source": [
        "**exception handling**"
      ],
      "metadata": {
        "id": "c3rlXLiXp-rO"
      }
    },
    {
      "cell_type": "code",
      "execution_count": 1,
      "metadata": {
        "colab": {
          "base_uri": "https://localhost:8080/",
          "height": 176
        },
        "id": "w0CWLRBWp6ZU",
        "outputId": "13c34b6f-fc1d-4647-f9e0-e0a1861e9bd0"
      },
      "outputs": [
        {
          "output_type": "error",
          "ename": "FileNotFoundError",
          "evalue": "[Errno 2] No such file or directory: '/content/example.txt'",
          "traceback": [
            "\u001b[0;31m---------------------------------------------------------------------------\u001b[0m",
            "\u001b[0;31mFileNotFoundError\u001b[0m                         Traceback (most recent call last)",
            "\u001b[0;32m<ipython-input-1-15c84b20b6e9>\u001b[0m in \u001b[0;36m<cell line: 0>\u001b[0;34m()\u001b[0m\n\u001b[0;32m----> 1\u001b[0;31m \u001b[0mmyfile\u001b[0m \u001b[0;34m=\u001b[0m \u001b[0mopen\u001b[0m\u001b[0;34m(\u001b[0m\u001b[0;34m'/content/example.txt'\u001b[0m \u001b[0;34m,\u001b[0m \u001b[0;34m'r'\u001b[0m\u001b[0;34m)\u001b[0m\u001b[0;34m\u001b[0m\u001b[0;34m\u001b[0m\u001b[0m\n\u001b[0m\u001b[1;32m      2\u001b[0m \u001b[0mprint\u001b[0m\u001b[0;34m(\u001b[0m\u001b[0mmyfile\u001b[0m\u001b[0;34m.\u001b[0m\u001b[0mread\u001b[0m\u001b[0;34m(\u001b[0m\u001b[0;34m)\u001b[0m\u001b[0;34m)\u001b[0m\u001b[0;34m\u001b[0m\u001b[0;34m\u001b[0m\u001b[0m\n\u001b[1;32m      3\u001b[0m \u001b[0mmyfile\u001b[0m\u001b[0;34m.\u001b[0m\u001b[0mclose\u001b[0m\u001b[0;34m(\u001b[0m\u001b[0;34m)\u001b[0m\u001b[0;34m\u001b[0m\u001b[0;34m\u001b[0m\u001b[0m\n",
            "\u001b[0;31mFileNotFoundError\u001b[0m: [Errno 2] No such file or directory: '/content/example.txt'"
          ]
        }
      ],
      "source": [
        "myfile = open('/content/example.txt' , 'r')   #open the file\n",
        "print(myfile.read())                            #read the file content\n",
        "myfile.close()                                  #close the file"
      ]
    },
    {
      "cell_type": "code",
      "source": [
        "try:\n",
        "  pass\n",
        "except:\n",
        "  pass"
      ],
      "metadata": {
        "id": "mbBRQOTEqF8g"
      },
      "execution_count": 2,
      "outputs": []
    },
    {
      "cell_type": "code",
      "source": [
        "try:\n",
        "  print(x)\n",
        "except Exception as err:\n",
        "  print(err)"
      ],
      "metadata": {
        "colab": {
          "base_uri": "https://localhost:8080/"
        },
        "id": "4HEkCGqjqiwi",
        "outputId": "4fe4e829-90c4-4c44-d99a-aa4038a28226"
      },
      "execution_count": 5,
      "outputs": [
        {
          "output_type": "stream",
          "name": "stdout",
          "text": [
            "name 'x' is not defined\n"
          ]
        }
      ]
    },
    {
      "cell_type": "code",
      "source": [
        "a = 5\n",
        "try:\n",
        "  print(a)\n",
        "except Exception as err:\n",
        "  print(err)"
      ],
      "metadata": {
        "colab": {
          "base_uri": "https://localhost:8080/"
        },
        "id": "IARwQbDatBii",
        "outputId": "e867bf8d-7572-43be-edd5-d60cfa353729"
      },
      "execution_count": 7,
      "outputs": [
        {
          "output_type": "stream",
          "name": "stdout",
          "text": [
            "5\n"
          ]
        }
      ]
    },
    {
      "cell_type": "code",
      "source": [
        "try:\n",
        "  myfile = open('/content/example.txt' , 'r')   #open the file\n",
        "  print(myfile.read())                            #read the file content\n",
        "  myfile.close()                                  #close the file\n",
        "except Exception as err:\n",
        "  print(err)"
      ],
      "metadata": {
        "colab": {
          "base_uri": "https://localhost:8080/"
        },
        "id": "9Jib4vdaqk8C",
        "outputId": "273468bd-6b29-4e43-ca26-cff011ca169d"
      },
      "execution_count": 6,
      "outputs": [
        {
          "output_type": "stream",
          "name": "stdout",
          "text": [
            "[Errno 2] No such file or directory: '/content/example.txt'\n"
          ]
        }
      ]
    },
    {
      "cell_type": "markdown",
      "source": [
        "**Object-Oriented Programming**"
      ],
      "metadata": {
        "id": "uHyDqXpt1dJt"
      }
    },
    {
      "cell_type": "code",
      "source": [
        "def visitors():\n",
        "  name = \"Ajay Sahrma\"\n",
        "  return name"
      ],
      "metadata": {
        "id": "dSJxwmH-2Toj"
      },
      "execution_count": 35,
      "outputs": []
    },
    {
      "cell_type": "code",
      "source": [
        "visitors()"
      ],
      "metadata": {
        "colab": {
          "base_uri": "https://localhost:8080/",
          "height": 35
        },
        "id": "Qf7ztDE22gD5",
        "outputId": "2913a299-ec70-487e-c691-1b8e8981f7fe"
      },
      "execution_count": 36,
      "outputs": [
        {
          "output_type": "execute_result",
          "data": {
            "text/plain": [
              "'Ajay Sahrma'"
            ],
            "application/vnd.google.colaboratory.intrinsic+json": {
              "type": "string"
            }
          },
          "metadata": {},
          "execution_count": 36
        }
      ]
    },
    {
      "cell_type": "code",
      "source": [
        "class visitor_details:\n",
        "  name = \"Ajay Sharma\"                        #attribute of class which defines property\n",
        "\n",
        "  def say_hello(self):                         #method of class which defines behavior\n",
        "    print(\"Hello\" , visitor_details.name)\n",
        "\n",
        "  def say_goodbye(self):\n",
        "    print(\"Goodbye\" , visitor_details.name)"
      ],
      "metadata": {
        "id": "K-wUx8uerKr2"
      },
      "execution_count": 37,
      "outputs": []
    },
    {
      "cell_type": "code",
      "source": [
        "v = visitor_details()\n",
        "print(v.name)"
      ],
      "metadata": {
        "colab": {
          "base_uri": "https://localhost:8080/"
        },
        "id": "uMhm69y92P3Z",
        "outputId": "46c260e4-c114-4b2d-8b48-11d7ac026c45"
      },
      "execution_count": 47,
      "outputs": [
        {
          "output_type": "stream",
          "name": "stdout",
          "text": [
            "Ajay Sharma\n"
          ]
        }
      ]
    },
    {
      "cell_type": "code",
      "source": [
        "v.say_hello()"
      ],
      "metadata": {
        "colab": {
          "base_uri": "https://localhost:8080/"
        },
        "id": "eHu60vMb2Q6a",
        "outputId": "5ce7b849-c1f4-4ff0-fee0-2bda414e2b83"
      },
      "execution_count": 39,
      "outputs": [
        {
          "output_type": "stream",
          "name": "stdout",
          "text": [
            "Hello Ajay Sharma\n"
          ]
        }
      ]
    },
    {
      "cell_type": "code",
      "source": [
        "v.say_goodbye()"
      ],
      "metadata": {
        "colab": {
          "base_uri": "https://localhost:8080/"
        },
        "id": "9IjneB8532Ft",
        "outputId": "c7f43c79-6f50-4980-cb53-6b43170b3438"
      },
      "execution_count": 40,
      "outputs": [
        {
          "output_type": "stream",
          "name": "stdout",
          "text": [
            "Goodbye Ajay Sharma\n"
          ]
        }
      ]
    },
    {
      "cell_type": "markdown",
      "source": [
        "* Constructor or Initiliser in class"
      ],
      "metadata": {
        "id": "RLrg5qxz56hw"
      }
    },
    {
      "cell_type": "code",
      "source": [
        "class employess:\n",
        "  def __init__(self,name,location):            #method of class that executes automatically when we create object of class\n",
        "    self.emp_name = name                       #self - refer the instance of the class, it differentiate between local and instance-specific data\n",
        "    self.emp_location = location\n",
        "\n",
        "\n",
        "  def show_employee_details(self):\n",
        "    emp_name = \"Ramesh\"\n",
        "    emp_location = \"Jaipur\"\n",
        "    details_local = {\"Name\" : emp_name , \"Location\" : emp_location}\n",
        "    details_instance_specific = {\"Name\" : self.emp_name , \"Location\" : self.emp_location}\n",
        "    return details_local , details_instance_specific"
      ],
      "metadata": {
        "id": "oEddvRMw5bXU"
      },
      "execution_count": 77,
      "outputs": []
    },
    {
      "cell_type": "code",
      "source": [
        "e1 = employess(\"Rahul\" , \"Delhi\")             #object or instance of class\n",
        "e2 = employess(\"Gagan\" , \"Mysore\")\n",
        "e3 = employess(\"Pavan\" , \"Mumbai\")"
      ],
      "metadata": {
        "id": "RomD6xBD6Iv_"
      },
      "execution_count": 78,
      "outputs": []
    },
    {
      "cell_type": "code",
      "source": [
        "print(e1.emp_name)\n",
        "print(e1.emp_location)\n",
        "e1.show_employee_details()"
      ],
      "metadata": {
        "colab": {
          "base_uri": "https://localhost:8080/"
        },
        "id": "qHGcwP4s6Kqp",
        "outputId": "b1097017-fa8c-4a9b-a491-5135ceb4ea6f"
      },
      "execution_count": 79,
      "outputs": [
        {
          "output_type": "stream",
          "name": "stdout",
          "text": [
            "Rahul\n",
            "Delhi\n"
          ]
        },
        {
          "output_type": "execute_result",
          "data": {
            "text/plain": [
              "({'Name': 'Ramesh', 'Location': 'Jaipur'},\n",
              " {'Name': 'Rahul', 'Location': 'Delhi'})"
            ]
          },
          "metadata": {},
          "execution_count": 79
        }
      ]
    },
    {
      "cell_type": "code",
      "source": [
        "print(e2.emp_name)\n",
        "print(e2.emp_location)\n",
        "e2.show_employee_details()"
      ],
      "metadata": {
        "colab": {
          "base_uri": "https://localhost:8080/"
        },
        "id": "vNMVf67c9BMc",
        "outputId": "afeee43c-2a5a-4f90-97dd-26ef337340fd"
      },
      "execution_count": 80,
      "outputs": [
        {
          "output_type": "stream",
          "name": "stdout",
          "text": [
            "Gagan\n",
            "Mysore\n"
          ]
        },
        {
          "output_type": "execute_result",
          "data": {
            "text/plain": [
              "({'Name': 'Ramesh', 'Location': 'Jaipur'},\n",
              " {'Name': 'Gagan', 'Location': 'Mysore'})"
            ]
          },
          "metadata": {},
          "execution_count": 80
        }
      ]
    },
    {
      "cell_type": "code",
      "source": [
        "print(e3.emp_name)\n",
        "print(e3.emp_location)\n",
        "\n",
        "e3.show_employee_details()"
      ],
      "metadata": {
        "colab": {
          "base_uri": "https://localhost:8080/"
        },
        "id": "qdM20uss9xN0",
        "outputId": "d1de849d-8489-4501-e38a-e7a5797439ba"
      },
      "execution_count": 81,
      "outputs": [
        {
          "output_type": "stream",
          "name": "stdout",
          "text": [
            "Pavan\n",
            "Mumbai\n"
          ]
        },
        {
          "output_type": "execute_result",
          "data": {
            "text/plain": [
              "({'Name': 'Ramesh', 'Location': 'Jaipur'},\n",
              " {'Name': 'Pavan', 'Location': 'Mumbai'})"
            ]
          },
          "metadata": {},
          "execution_count": 81
        }
      ]
    },
    {
      "cell_type": "code",
      "source": [
        "#class calculator\n",
        "#- attributes - num_1, num_2\n",
        "#- methods - sum() , difference() , divide(), multiply()\n",
        "\n",
        "class calculator:\n",
        "  def __init__(self,a,b):\n",
        "    self.num_1 = a\n",
        "    self.num_2 = b\n",
        "\n",
        "  def sum(self):\n",
        "    return self.num_1 + self.num_2\n",
        "\n",
        "  def difference(self):\n",
        "    return self.num_1 - self.num_2\n",
        "\n",
        "  def divide(self):\n",
        "    return self.num_1 / self.num_2\n",
        "\n",
        "  def multiply(self):\n",
        "    return self.num_1 * self.num_2"
      ],
      "metadata": {
        "id": "BeSB5RhNEH1o"
      },
      "execution_count": 89,
      "outputs": []
    },
    {
      "cell_type": "code",
      "source": [
        "c1 = calculator(8,4)\n",
        "print(c1.sum())\n",
        "print(c1.difference())\n",
        "print(c1.divide())\n",
        "print(c1.multiply())"
      ],
      "metadata": {
        "colab": {
          "base_uri": "https://localhost:8080/"
        },
        "id": "q2BbTnB8EILa",
        "outputId": "7399202f-7f52-4cc3-e147-39bd4da306cc"
      },
      "execution_count": 90,
      "outputs": [
        {
          "output_type": "stream",
          "name": "stdout",
          "text": [
            "12\n",
            "4\n",
            "2.0\n",
            "32\n"
          ]
        }
      ]
    },
    {
      "cell_type": "code",
      "source": [
        "c2 = calculator(3456, 43)\n",
        "print(c2.sum())\n",
        "print(c2.difference())\n",
        "print(c2.divide())\n",
        "print(c2.multiply())"
      ],
      "metadata": {
        "colab": {
          "base_uri": "https://localhost:8080/"
        },
        "id": "s214eJDYFNCH",
        "outputId": "47e0cfcb-268c-442d-c443-b44f43658a80"
      },
      "execution_count": 91,
      "outputs": [
        {
          "output_type": "stream",
          "name": "stdout",
          "text": [
            "3499\n",
            "3413\n",
            "80.37209302325581\n",
            "148608\n"
          ]
        }
      ]
    },
    {
      "cell_type": "markdown",
      "source": [
        "****\n",
        "****\n",
        "**Packages and modules of Python for Data Science & Machine Learning**\n",
        "\n",
        "    * Numpy\n",
        "    * Pandas\n",
        "    * Matplotlib\n",
        "****\n",
        "****"
      ],
      "metadata": {
        "id": "iwP1tPPBDiZO"
      }
    },
    {
      "cell_type": "markdown",
      "source": [
        "**Numpy**\n",
        "\n",
        "  - Numerical python\n",
        "  - Numerical operations on n-dimensional data"
      ],
      "metadata": {
        "id": "OOJahSAJG6KR"
      }
    },
    {
      "cell_type": "code",
      "source": [
        "a = 5\n",
        "print(a * 2)"
      ],
      "metadata": {
        "colab": {
          "base_uri": "https://localhost:8080/"
        },
        "id": "4Jt4arNG9z-a",
        "outputId": "e9a19eca-cecb-45b0-882b-28df2726ba66"
      },
      "execution_count": 92,
      "outputs": [
        {
          "output_type": "stream",
          "name": "stdout",
          "text": [
            "10\n"
          ]
        }
      ]
    },
    {
      "cell_type": "code",
      "source": [
        "b = [3,4,5,6,7]\n",
        "print(b * 2)"
      ],
      "metadata": {
        "colab": {
          "base_uri": "https://localhost:8080/"
        },
        "id": "dK1n3W7SHELH",
        "outputId": "de8e5656-e451-4328-feae-c77c21d84354"
      },
      "execution_count": 93,
      "outputs": [
        {
          "output_type": "stream",
          "name": "stdout",
          "text": [
            "[3, 4, 5, 6, 7, 3, 4, 5, 6, 7]\n"
          ]
        }
      ]
    },
    {
      "cell_type": "code",
      "source": [
        "import numpy as np\n",
        "\n",
        "n1 = np.array([3,4,5,6,7])\n",
        "\n",
        "print(n1 * 2)"
      ],
      "metadata": {
        "colab": {
          "base_uri": "https://localhost:8080/"
        },
        "id": "dnPyscWCHHbI",
        "outputId": "aa09572a-656b-49b4-8e9b-7698852e1516"
      },
      "execution_count": 94,
      "outputs": [
        {
          "output_type": "stream",
          "name": "stdout",
          "text": [
            "[ 6  8 10 12 14]\n"
          ]
        }
      ]
    },
    {
      "cell_type": "code",
      "source": [
        "print(n1.shape)\n",
        "print(n1.ndim)"
      ],
      "metadata": {
        "colab": {
          "base_uri": "https://localhost:8080/"
        },
        "id": "MJe60c2dHZSR",
        "outputId": "05d1d8f7-a4d8-4f19-b44c-4256c2ef01d2"
      },
      "execution_count": 96,
      "outputs": [
        {
          "output_type": "stream",
          "name": "stdout",
          "text": [
            "(5,)\n",
            "1\n"
          ]
        }
      ]
    },
    {
      "cell_type": "code",
      "source": [
        "n2 = np.array([[3,4,5,6,7] , [12,13,19,11,10] , [8,9,5,2,1]])\n",
        "print(n2)"
      ],
      "metadata": {
        "colab": {
          "base_uri": "https://localhost:8080/"
        },
        "id": "rqzSD2_XHmXy",
        "outputId": "8ccf2212-d1c1-4b40-b91d-89d5c5ae6e21"
      },
      "execution_count": 98,
      "outputs": [
        {
          "output_type": "stream",
          "name": "stdout",
          "text": [
            "[[ 3  4  5  6  7]\n",
            " [12 13 19 11 10]\n",
            " [ 8  9  5  2  1]]\n"
          ]
        }
      ]
    },
    {
      "cell_type": "code",
      "source": [
        "print(n2.shape)\n",
        "print(n2.ndim)"
      ],
      "metadata": {
        "colab": {
          "base_uri": "https://localhost:8080/"
        },
        "id": "IJ2CqYiwHxFp",
        "outputId": "7be6202d-2225-492b-9a6c-7eae18f1c776"
      },
      "execution_count": 99,
      "outputs": [
        {
          "output_type": "stream",
          "name": "stdout",
          "text": [
            "(3, 5)\n",
            "2\n"
          ]
        }
      ]
    },
    {
      "cell_type": "code",
      "source": [
        "print(n2[0,0])"
      ],
      "metadata": {
        "colab": {
          "base_uri": "https://localhost:8080/"
        },
        "id": "u1maJN95H8wO",
        "outputId": "9a15326e-8d38-4235-d4dc-63c6f3cd762e"
      },
      "execution_count": 100,
      "outputs": [
        {
          "output_type": "stream",
          "name": "stdout",
          "text": [
            "3\n"
          ]
        }
      ]
    },
    {
      "cell_type": "code",
      "source": [
        "print(n2[1,0])"
      ],
      "metadata": {
        "colab": {
          "base_uri": "https://localhost:8080/"
        },
        "id": "MAaOvRAmIDdP",
        "outputId": "c55536f2-de9b-4be3-8f00-0de0181a8cf2"
      },
      "execution_count": 101,
      "outputs": [
        {
          "output_type": "stream",
          "name": "stdout",
          "text": [
            "12\n"
          ]
        }
      ]
    },
    {
      "cell_type": "code",
      "source": [
        "print(np.sum(n2))\n",
        "print(np.prod(n2))\n",
        "print(np.mean(n2))\n",
        "print(np.std(n2))\n",
        "print(np.max(n2))\n",
        "print(np.min(n2))\n",
        "print(np.argmax(n2))\n",
        "print(np.argmin(n2))"
      ],
      "metadata": {
        "colab": {
          "base_uri": "https://localhost:8080/"
        },
        "id": "2VF5_Z9aIIAV",
        "outputId": "7a21a008-6fac-4f9d-e9c4-fead234cc555"
      },
      "execution_count": 102,
      "outputs": [
        {
          "output_type": "stream",
          "name": "stdout",
          "text": [
            "115\n",
            "591566976000\n",
            "7.666666666666667\n",
            "4.642796092394707\n",
            "19\n",
            "1\n",
            "7\n",
            "14\n"
          ]
        }
      ]
    },
    {
      "cell_type": "code",
      "source": [
        "print(n2)"
      ],
      "metadata": {
        "colab": {
          "base_uri": "https://localhost:8080/"
        },
        "id": "R2y6uglKIlO8",
        "outputId": "d94d6cc3-6a27-43c4-c3e2-1f605f8ccb6a"
      },
      "execution_count": 103,
      "outputs": [
        {
          "output_type": "stream",
          "name": "stdout",
          "text": [
            "[[ 3  4  5  6  7]\n",
            " [12 13 19 11 10]\n",
            " [ 8  9  5  2  1]]\n"
          ]
        }
      ]
    },
    {
      "cell_type": "code",
      "source": [
        "#Calculate for each column\n",
        "print(np.sum(n2 , axis = 0))\n",
        "print(np.prod(n2 , axis = 0))\n",
        "print(np.mean(n2 , axis = 0))\n",
        "print(np.std(n2 , axis = 0))\n",
        "print(np.max(n2 , axis = 0))\n",
        "print(np.min(n2 , axis = 0))\n",
        "print(np.argmax(n2 , axis = 0))\n",
        "print(np.argmin(n2 , axis = 0))"
      ],
      "metadata": {
        "colab": {
          "base_uri": "https://localhost:8080/"
        },
        "id": "2iY6vP5TIakD",
        "outputId": "74f9b142-567e-46f9-b5a9-570d9a26edfd"
      },
      "execution_count": 104,
      "outputs": [
        {
          "output_type": "stream",
          "name": "stdout",
          "text": [
            "[23 26 29 19 18]\n",
            "[288 468 475 132  70]\n",
            "[7.66666667 8.66666667 9.66666667 6.33333333 6.        ]\n",
            "[3.68178701 3.68178701 6.59966329 3.68178701 3.74165739]\n",
            "[12 13 19 11 10]\n",
            "[3 4 5 2 1]\n",
            "[1 1 1 1 1]\n",
            "[0 0 0 2 2]\n"
          ]
        }
      ]
    },
    {
      "cell_type": "code",
      "source": [
        "#Calculate for each row\n",
        "print(np.prod(n2 , axis = 1))\n",
        "print(np.mean(n2 , axis = 1))\n",
        "print(np.std(n2 , axis = 1))\n",
        "print(np.max(n2 , axis = 1))\n",
        "print(np.min(n2 , axis = 1))\n",
        "print(np.argmax(n2 , axis = 1))\n",
        "print(np.argmin(n2 , axis = 1))"
      ],
      "metadata": {
        "colab": {
          "base_uri": "https://localhost:8080/"
        },
        "id": "YBBw1MWKItmt",
        "outputId": "59c9c3a3-8989-4ab0-df6f-831c942393c7"
      },
      "execution_count": 105,
      "outputs": [
        {
          "output_type": "stream",
          "name": "stdout",
          "text": [
            "[  2520 326040    720]\n",
            "[ 5. 13.  5.]\n",
            "[1.41421356 3.16227766 3.16227766]\n",
            "[ 7 19  9]\n",
            "[ 3 10  1]\n",
            "[4 2 1]\n",
            "[0 4 4]\n"
          ]
        }
      ]
    },
    {
      "cell_type": "code",
      "source": [],
      "metadata": {
        "id": "JEUU7iaMI_9s"
      },
      "execution_count": null,
      "outputs": []
    }
  ]
}