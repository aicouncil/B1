{
  "nbformat": 4,
  "nbformat_minor": 0,
  "metadata": {
    "colab": {
      "provenance": []
    },
    "kernelspec": {
      "name": "python3",
      "display_name": "Python 3"
    },
    "language_info": {
      "name": "python"
    }
  },
  "cells": [
    {
      "cell_type": "markdown",
      "source": [
        "* Question 1: Conditional Statements\n",
        "\n",
        "  * Write a Python program that simulates a login activity. The program should:\n",
        "\n",
        "    * Ask the user to input a username and password.\n",
        "    * If the username is 'user' and the password is 'python123', print  \"Welcome!\". Otherwise, print \"Invalid Credentials.\"\n",
        "\n",
        "* Question 2: Loops\n",
        "\n",
        "  * Write a Python program to print all even numbers between 1 and 50 using a for loop."
      ],
      "metadata": {
        "id": "XM5YOA5zhasV"
      }
    },
    {
      "cell_type": "code",
      "execution_count": 7,
      "metadata": {
        "colab": {
          "base_uri": "https://localhost:8080/"
        },
        "id": "q_kVc1GjhI2W",
        "outputId": "01f39384-f941-4757-9c5d-9c08b9bd5e00"
      },
      "outputs": [
        {
          "output_type": "stream",
          "name": "stdout",
          "text": [
            "Enter User nameuser\n",
            "Enter user passwordpython123\n",
            "Welcome\n"
          ]
        }
      ],
      "source": [
        "username  = input(\"Enter User name\")\n",
        "userpassword = input(\"Enter user password\")\n",
        "\n",
        "if username == 'user' and userpassword == 'python123':\n",
        "  print(\"Welcome\")\n",
        "else:\n",
        "  print(\"Invalid Credentials.\")"
      ]
    },
    {
      "cell_type": "code",
      "source": [
        "for i in range(1,51):\n",
        "  if (i % 2 == 0):\n",
        "    print(i)"
      ],
      "metadata": {
        "colab": {
          "base_uri": "https://localhost:8080/"
        },
        "id": "_-4zz3GRj7Ic",
        "outputId": "0f50b3a0-ec09-47dd-d733-c662183a4bb5"
      },
      "execution_count": 12,
      "outputs": [
        {
          "output_type": "stream",
          "name": "stdout",
          "text": [
            "2\n",
            "4\n",
            "6\n",
            "8\n",
            "10\n",
            "12\n",
            "14\n",
            "16\n",
            "18\n",
            "20\n",
            "22\n",
            "24\n",
            "26\n",
            "28\n",
            "30\n",
            "32\n",
            "34\n",
            "36\n",
            "38\n",
            "40\n",
            "42\n",
            "44\n",
            "46\n",
            "48\n",
            "50\n"
          ]
        }
      ]
    },
    {
      "cell_type": "markdown",
      "source": [
        "* Question 3: Nested Loops\n",
        "\n",
        "  * Create a program that displays the multiplication table from 1 to 10. Use nested for loops to format the output.\n",
        "\n",
        "  * Example Output:\n",
        "\n",
        "  * 1 x 1 = 1\n",
        "  * 1 x 2 = 2\n",
        "...\n",
        "  * 10 x 10 = 100\n",
        "\n",
        "* Question 4: Functions and Return Types\n",
        "\n",
        "* Write a Python function named is_prime() that takes an integer as an input and returns:\n",
        "\n",
        "    * True if the number is a prime number.\n",
        "    False otherwise.\n"
      ],
      "metadata": {
        "id": "8ul1d97ZkY4p"
      }
    },
    {
      "cell_type": "code",
      "source": [
        "for i in range(1,11):\n",
        "  print(f\"1 * {i} = {1 * i}\")"
      ],
      "metadata": {
        "colab": {
          "base_uri": "https://localhost:8080/"
        },
        "id": "_s462r2ekFHf",
        "outputId": "8ab7bcc1-0fd3-46f4-b4e0-a698a37c109f"
      },
      "execution_count": 22,
      "outputs": [
        {
          "output_type": "stream",
          "name": "stdout",
          "text": [
            "1 * 1 = 1\n",
            "1 * 2 = 2\n",
            "1 * 3 = 3\n",
            "1 * 4 = 4\n",
            "1 * 5 = 5\n",
            "1 * 6 = 6\n",
            "1 * 7 = 7\n",
            "1 * 8 = 8\n",
            "1 * 9 = 9\n",
            "1 * 10 = 10\n"
          ]
        }
      ]
    },
    {
      "cell_type": "code",
      "source": [
        "#for each value of i . the value of j will change for 10 times\n",
        "for i in range(1,11):\n",
        "  for j in range(1,11):\n",
        "    #print(f\"value of i - {i} value of j - {j}\")\n",
        "    print(f\"{i} * {j} = {i*j}\")"
      ],
      "metadata": {
        "colab": {
          "base_uri": "https://localhost:8080/"
        },
        "id": "rRpMKdVzknDy",
        "outputId": "b37152e2-0f61-402e-a186-cd4049207bec"
      },
      "execution_count": 31,
      "outputs": [
        {
          "output_type": "stream",
          "name": "stdout",
          "text": [
            "1 * 1 = 1\n",
            "1 * 2 = 2\n",
            "1 * 3 = 3\n",
            "1 * 4 = 4\n",
            "1 * 5 = 5\n",
            "1 * 6 = 6\n",
            "1 * 7 = 7\n",
            "1 * 8 = 8\n",
            "1 * 9 = 9\n",
            "1 * 10 = 10\n",
            "2 * 1 = 2\n",
            "2 * 2 = 4\n",
            "2 * 3 = 6\n",
            "2 * 4 = 8\n",
            "2 * 5 = 10\n",
            "2 * 6 = 12\n",
            "2 * 7 = 14\n",
            "2 * 8 = 16\n",
            "2 * 9 = 18\n",
            "2 * 10 = 20\n",
            "3 * 1 = 3\n",
            "3 * 2 = 6\n",
            "3 * 3 = 9\n",
            "3 * 4 = 12\n",
            "3 * 5 = 15\n",
            "3 * 6 = 18\n",
            "3 * 7 = 21\n",
            "3 * 8 = 24\n",
            "3 * 9 = 27\n",
            "3 * 10 = 30\n",
            "4 * 1 = 4\n",
            "4 * 2 = 8\n",
            "4 * 3 = 12\n",
            "4 * 4 = 16\n",
            "4 * 5 = 20\n",
            "4 * 6 = 24\n",
            "4 * 7 = 28\n",
            "4 * 8 = 32\n",
            "4 * 9 = 36\n",
            "4 * 10 = 40\n",
            "5 * 1 = 5\n",
            "5 * 2 = 10\n",
            "5 * 3 = 15\n",
            "5 * 4 = 20\n",
            "5 * 5 = 25\n",
            "5 * 6 = 30\n",
            "5 * 7 = 35\n",
            "5 * 8 = 40\n",
            "5 * 9 = 45\n",
            "5 * 10 = 50\n",
            "6 * 1 = 6\n",
            "6 * 2 = 12\n",
            "6 * 3 = 18\n",
            "6 * 4 = 24\n",
            "6 * 5 = 30\n",
            "6 * 6 = 36\n",
            "6 * 7 = 42\n",
            "6 * 8 = 48\n",
            "6 * 9 = 54\n",
            "6 * 10 = 60\n",
            "7 * 1 = 7\n",
            "7 * 2 = 14\n",
            "7 * 3 = 21\n",
            "7 * 4 = 28\n",
            "7 * 5 = 35\n",
            "7 * 6 = 42\n",
            "7 * 7 = 49\n",
            "7 * 8 = 56\n",
            "7 * 9 = 63\n",
            "7 * 10 = 70\n",
            "8 * 1 = 8\n",
            "8 * 2 = 16\n",
            "8 * 3 = 24\n",
            "8 * 4 = 32\n",
            "8 * 5 = 40\n",
            "8 * 6 = 48\n",
            "8 * 7 = 56\n",
            "8 * 8 = 64\n",
            "8 * 9 = 72\n",
            "8 * 10 = 80\n",
            "9 * 1 = 9\n",
            "9 * 2 = 18\n",
            "9 * 3 = 27\n",
            "9 * 4 = 36\n",
            "9 * 5 = 45\n",
            "9 * 6 = 54\n",
            "9 * 7 = 63\n",
            "9 * 8 = 72\n",
            "9 * 9 = 81\n",
            "9 * 10 = 90\n",
            "10 * 1 = 10\n",
            "10 * 2 = 20\n",
            "10 * 3 = 30\n",
            "10 * 4 = 40\n",
            "10 * 5 = 50\n",
            "10 * 6 = 60\n",
            "10 * 7 = 70\n",
            "10 * 8 = 80\n",
            "10 * 9 = 90\n",
            "10 * 10 = 100\n"
          ]
        }
      ]
    },
    {
      "cell_type": "code",
      "source": [
        "def is_prime(number):\n",
        "  if number <= 0:\n",
        "    return False\n",
        "  for i in range (2, number):\n",
        "    if number % i == 0:\n",
        "      return False   #if divisible, its not prime\n",
        "  return True #if no divisiors found and it is a positive number => prime"
      ],
      "metadata": {
        "id": "0krgc1AJlZzJ"
      },
      "execution_count": 35,
      "outputs": []
    },
    {
      "cell_type": "code",
      "source": [
        "is_prime(-9)"
      ],
      "metadata": {
        "colab": {
          "base_uri": "https://localhost:8080/"
        },
        "id": "tWiyX7LVnODF",
        "outputId": "e16316d9-953c-46d7-d841-b9dd802e6fe8"
      },
      "execution_count": 36,
      "outputs": [
        {
          "output_type": "execute_result",
          "data": {
            "text/plain": [
              "False"
            ]
          },
          "metadata": {},
          "execution_count": 36
        }
      ]
    },
    {
      "cell_type": "code",
      "source": [
        "is_prime(6)"
      ],
      "metadata": {
        "colab": {
          "base_uri": "https://localhost:8080/"
        },
        "id": "kN1cmjXBnQDt",
        "outputId": "77ede092-1100-44de-9d37-cb95b2120175"
      },
      "execution_count": 37,
      "outputs": [
        {
          "output_type": "execute_result",
          "data": {
            "text/plain": [
              "False"
            ]
          },
          "metadata": {},
          "execution_count": 37
        }
      ]
    },
    {
      "cell_type": "code",
      "source": [
        "is_prime(7)"
      ],
      "metadata": {
        "colab": {
          "base_uri": "https://localhost:8080/"
        },
        "id": "CQtWAdp3nRnH",
        "outputId": "050bfc28-6f72-43b6-82dc-d56bb7e64f47"
      },
      "execution_count": 38,
      "outputs": [
        {
          "output_type": "execute_result",
          "data": {
            "text/plain": [
              "True"
            ]
          },
          "metadata": {},
          "execution_count": 38
        }
      ]
    },
    {
      "cell_type": "markdown",
      "source": [
        "**Question 5: Error Handling and File Operations**\n",
        "\n",
        "* Write a Python program that:\n",
        "\n",
        "    * Prompts the user to enter the name of a text file.\n",
        "    * Reads the file if it exists and displays its content.\n",
        "    * If the file doesn’t exist, handles the error gracefully and creates the file with a default message \"This is a new file.\"\n"
      ],
      "metadata": {
        "id": "bynIkkhkrXdf"
      }
    },
    {
      "cell_type": "code",
      "source": [
        "file_name = input(\"Enter the name of the file with extension (eg. example.txt)\")\n",
        "\n",
        "try:\n",
        "  userfile = open(file_name , 'r')\n",
        "  print(userfile.read())\n",
        "  userfile.close()\n",
        "except Exception as err:\n",
        "  print(err)"
      ],
      "metadata": {
        "colab": {
          "base_uri": "https://localhost:8080/"
        },
        "id": "gNEociPdoQ8j",
        "outputId": "65dc1da8-7a6d-4746-969c-96e7c2aa1a6f"
      },
      "execution_count": 3,
      "outputs": [
        {
          "output_type": "stream",
          "name": "stdout",
          "text": [
            "Enter the name of the file with extension (eg. example.txt)hello.txt\n",
            "[Errno 2] No such file or directory: 'hello.txt'\n"
          ]
        }
      ]
    },
    {
      "cell_type": "code",
      "source": [
        "try:\n",
        "  userfile = open(file_name , 'r')\n",
        "  print(userfile.read())\n",
        "  userfile.close()\n",
        "except Exception as err:\n",
        "  print(err)"
      ],
      "metadata": {
        "colab": {
          "base_uri": "https://localhost:8080/"
        },
        "id": "s2F0cbjirupV",
        "outputId": "b8f5bd36-3845-4b79-d71d-65d04b9f63a4"
      },
      "execution_count": 8,
      "outputs": [
        {
          "output_type": "stream",
          "name": "stdout",
          "text": [
            "\n"
          ]
        }
      ]
    },
    {
      "cell_type": "code",
      "source": [
        "try:\n",
        "  userfile = open(file_name , 'w')\n",
        "  print(userfile.read())\n",
        "  userfile.close()\n",
        "except Exception as err:\n",
        "  print(err)"
      ],
      "metadata": {
        "colab": {
          "base_uri": "https://localhost:8080/"
        },
        "id": "hufYAfyPun-z",
        "outputId": "374f0604-eda0-4b67-82fb-c246c204fefd"
      },
      "execution_count": 7,
      "outputs": [
        {
          "output_type": "stream",
          "name": "stdout",
          "text": [
            "not readable\n"
          ]
        }
      ]
    },
    {
      "cell_type": "code",
      "source": [
        "file_name = input(\"Enter the name of the file with extension (eg. example.txt)\")\n",
        "\n",
        "try:\n",
        "  userfile = open(file_name , 'r')\n",
        "  print(userfile.read())\n",
        "except FileNotFoundError:\n",
        "  print(\"File is not existing at the given location, creating a new one\")\n",
        "  userfile = open(file_name , 'w')\n",
        "  userfile.write(f\"This is a demo content in this {file_name}\")\n",
        "except Exception as err:\n",
        "  print(err)\n",
        "finally:\n",
        "  userfile.close()"
      ],
      "metadata": {
        "colab": {
          "base_uri": "https://localhost:8080/"
        },
        "id": "_4cMOgILuuNg",
        "outputId": "f55e6ff1-6712-4551-8ec3-7cdad4ce3fc0"
      },
      "execution_count": 16,
      "outputs": [
        {
          "output_type": "stream",
          "name": "stdout",
          "text": [
            "Enter the name of the file with extension (eg. example.txt)hello.txt\n",
            "We are learning Python.....\n"
          ]
        }
      ]
    },
    {
      "cell_type": "code",
      "source": [
        "file_name = input(\"Enter the name of the file with extension (eg. example.txt)\")\n",
        "\n",
        "try:                                      #try for a particular logic\n",
        "  userfile = open(file_name , 'r')\n",
        "\n",
        "except FileNotFoundError:                #handle a defined exception\n",
        "  print(\"File is not existing at the given location, creating a new one\")\n",
        "  userfile = open(file_name , 'w')\n",
        "  userfile.write(f\"This is a demo content in this {file_name}\")\n",
        "  userfile.close()\n",
        "\n",
        "  readfile = open(file_name , 'r')\n",
        "  print(\"Content of the file created-\" , readfile.read())\n",
        "  readfile.close()\n",
        "\n",
        "except Exception as err:                    #handle a universal exception\n",
        "  print(err)\n",
        "\n",
        "else:                                       #execute only if there is no exception\n",
        "  print(userfile.read())\n",
        "\n",
        "finally:\n",
        "  userfile.close()                                      #excutes in any case at the end\n",
        "  print(\"ALl process completed\")"
      ],
      "metadata": {
        "colab": {
          "base_uri": "https://localhost:8080/"
        },
        "id": "w7aepQkTvatr",
        "outputId": "6f01058d-dcdc-43d0-c007-abd9a3255d5c"
      },
      "execution_count": 23,
      "outputs": [
        {
          "output_type": "stream",
          "name": "stdout",
          "text": [
            "Enter the name of the file with extension (eg. example.txt)hello.txt\n",
            "We are learning Python.....\n",
            "ALl process completed\n"
          ]
        }
      ]
    },
    {
      "cell_type": "markdown",
      "source": [
        "****\n",
        "**Object-Oriented Programming**\n",
        "\n",
        "* Create a Python class named BankAccount with the following attributes and methods:\n",
        "\n",
        "    * Attributes: account_number, account_holder, balance\n",
        "    * Methods:\n",
        "        * deposit(amount): Adds the specified amount to the balance.\n",
        "        * withdraw(amount): Deducts the specified amount from the balance if sufficient funds are available.\n",
        "        * Otherwise, prints \"Insufficient balance.\"\n",
        "        display_balance(): Displays the current balance.\n",
        "\n",
        "* Write a script to create an instance of the class and demonstrate all the methods."
      ],
      "metadata": {
        "id": "cPCDXImL_nCh"
      }
    },
    {
      "cell_type": "code",
      "source": [
        "class BankAccount:\n",
        "  def __init__(self, account_number, account_holder, balance):\n",
        "    self.account_number = account_number\n",
        "    self.account_holder = account_holder\n",
        "    self.balance = balance\n",
        "\n",
        "  def deposit(self,amount):\n",
        "    if amount > 0:\n",
        "      self.balance += amount\n",
        "      print(f\"Deposited: {amount} , New balance: {self.balance}\")\n",
        "    else:\n",
        "      print(\"Deposit amount must be positive\")\n",
        "\n",
        "  def withdraw(self,amount):\n",
        "    if amount > self.balance:\n",
        "      print(\"Insufficient balance\")\n",
        "    elif amount <= 0:\n",
        "      print(\"Withdrawl Amount must be positive\")\n",
        "    else:\n",
        "      self.balance -= amount\n",
        "      print(f\"Withdrawn: {amount} , New balance: {self.balance}\")\n",
        "\n",
        "  def display_balance(self):\n",
        "    print(\"Account balance-\" , self.balance)"
      ],
      "metadata": {
        "id": "1NkpKfNrxi1f"
      },
      "execution_count": 70,
      "outputs": []
    },
    {
      "cell_type": "code",
      "source": [
        "amit = BankAccount(\"23456689\" , \"Amit Sharma\" , 50000)\n",
        "karthik = BankAccount(\"2345479\" , \"Karthik Narayan\" , 25000)"
      ],
      "metadata": {
        "id": "5NB-B0P6AoUh"
      },
      "execution_count": 71,
      "outputs": []
    },
    {
      "cell_type": "code",
      "source": [
        "print(amit.account_number)\n",
        "print(amit.account_holder)\n",
        "print(amit.balance)"
      ],
      "metadata": {
        "colab": {
          "base_uri": "https://localhost:8080/"
        },
        "id": "vThnr-qFA3y-",
        "outputId": "830593e1-197e-4bb5-cb8c-912d487e4572"
      },
      "execution_count": 72,
      "outputs": [
        {
          "output_type": "stream",
          "name": "stdout",
          "text": [
            "23456689\n",
            "Amit Sharma\n",
            "50000\n"
          ]
        }
      ]
    },
    {
      "cell_type": "code",
      "source": [
        "print(karthik.account_number)\n",
        "print(karthik.account_holder)\n",
        "print(karthik.balance)"
      ],
      "metadata": {
        "colab": {
          "base_uri": "https://localhost:8080/"
        },
        "id": "mwVOiVJWA8QW",
        "outputId": "1141f604-f55d-42b9-9ee4-fbcad308add8"
      },
      "execution_count": 73,
      "outputs": [
        {
          "output_type": "stream",
          "name": "stdout",
          "text": [
            "2345479\n",
            "Karthik Narayan\n",
            "25000\n"
          ]
        }
      ]
    },
    {
      "cell_type": "code",
      "source": [
        "amit.deposit(7000)"
      ],
      "metadata": {
        "colab": {
          "base_uri": "https://localhost:8080/"
        },
        "id": "lZPfC0Z2BEOd",
        "outputId": "c338ee99-8829-43aa-cf93-c2fdce3eb02f"
      },
      "execution_count": 74,
      "outputs": [
        {
          "output_type": "stream",
          "name": "stdout",
          "text": [
            "Deposited: 7000 , New balance: 57000\n"
          ]
        }
      ]
    },
    {
      "cell_type": "code",
      "source": [
        "amit.deposit(-20000)\n",
        "print(amit.balance)"
      ],
      "metadata": {
        "colab": {
          "base_uri": "https://localhost:8080/"
        },
        "id": "zo7ujd4KBoCD",
        "outputId": "311656aa-f8c4-4ce2-c678-b024b9fafc9d"
      },
      "execution_count": 75,
      "outputs": [
        {
          "output_type": "stream",
          "name": "stdout",
          "text": [
            "Deposit amount must be positive\n",
            "57000\n"
          ]
        }
      ]
    },
    {
      "cell_type": "code",
      "source": [
        "amit.withdraw(30000)"
      ],
      "metadata": {
        "colab": {
          "base_uri": "https://localhost:8080/"
        },
        "id": "NnpaOepKBsDs",
        "outputId": "ca95b038-63ad-464e-d0a9-3aed59806516"
      },
      "execution_count": 76,
      "outputs": [
        {
          "output_type": "stream",
          "name": "stdout",
          "text": [
            "Withdrawn: 30000 , New balance: 27000\n"
          ]
        }
      ]
    },
    {
      "cell_type": "code",
      "source": [
        "amit.withdraw(50000)"
      ],
      "metadata": {
        "colab": {
          "base_uri": "https://localhost:8080/"
        },
        "id": "6wp2q6GcCasL",
        "outputId": "9852f063-f699-46a6-d16a-a7a488602dd4"
      },
      "execution_count": 77,
      "outputs": [
        {
          "output_type": "stream",
          "name": "stdout",
          "text": [
            "Insufficient balance\n"
          ]
        }
      ]
    },
    {
      "cell_type": "code",
      "source": [
        "amit.display_balance()"
      ],
      "metadata": {
        "colab": {
          "base_uri": "https://localhost:8080/"
        },
        "id": "SDOHWDj4CdbE",
        "outputId": "bad043d0-58db-4699-9912-36f830e5fd92"
      },
      "execution_count": 78,
      "outputs": [
        {
          "output_type": "stream",
          "name": "stdout",
          "text": [
            "Account balance- 27000\n"
          ]
        }
      ]
    },
    {
      "cell_type": "code",
      "source": [],
      "metadata": {
        "id": "v8TDqp_wC-ts"
      },
      "execution_count": null,
      "outputs": []
    }
  ]
}